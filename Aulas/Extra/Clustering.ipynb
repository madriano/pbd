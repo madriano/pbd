{
 "cells": [
  {
   "cell_type": "markdown",
   "metadata": {},
   "source": [
    "**2020/21**"
   ]
  },
  {
   "cell_type": "markdown",
   "metadata": {},
   "source": [
    "# Clustering\n",
    "This lecture is about \n",
    "\n",
    "**Disclaimer**: this notebook is far from complete! The all ideia is to provide a glimpse into k-means clustering and some visualization."
   ]
  },
  {
   "cell_type": "code",
   "execution_count": 1,
   "metadata": {
    "ExecuteTime": {
     "end_time": "2021-03-26T02:40:09.417827Z",
     "start_time": "2021-03-26T02:40:08.883505Z"
    }
   },
   "outputs": [],
   "source": [
    "# some imports \n",
    "\n",
    "import os # OS e.g directory structure\n",
    "import numpy as np # linear algebra\n",
    "import scipy as sc  # scientific computing\n",
    "import pandas as pd # data processing, file I/O\n",
    "import seaborn as sns  # visualization\n",
    "import matplotlib.pyplot as plt # visualization\n",
    "import warnings\n",
    "warnings.filterwarnings(\"ignore\")"
   ]
  },
  {
   "cell_type": "markdown",
   "metadata": {},
   "source": [
    "# Exercise\n",
    "\n",
    "This exercise is about \n",
    "    "
   ]
  },
  {
   "cell_type": "markdown",
   "metadata": {},
   "source": [
    "## Context\n"
   ]
  },
  {
   "cell_type": "markdown",
   "metadata": {
    "ExecuteTime": {
     "end_time": "2021-03-06T19:09:50.951636Z",
     "start_time": "2021-03-06T19:09:50.937311Z"
    }
   },
   "source": [
    "## Data\n",
    "\n",
    "\n",
    "\n",
    "**Column Description**\n",
    "\n",
    "\n",
    "|Column     | Type       | Description |\n",
    "|--------  |---------  |--------- |\n",
    "| **class** |  |  |\n",
    "\n",
    "    "
   ]
  },
  {
   "cell_type": "markdown",
   "metadata": {
    "ExecuteTime": {
     "end_time": "2021-03-14T03:05:21.244563Z",
     "start_time": "2021-03-14T03:05:21.241518Z"
    }
   },
   "source": [
    "## Useful functions\n",
    "Some functions we may use"
   ]
  },
  {
   "cell_type": "code",
   "execution_count": 2,
   "metadata": {
    "ExecuteTime": {
     "end_time": "2021-03-26T02:40:11.955881Z",
     "start_time": "2021-03-26T02:40:11.945895Z"
    }
   },
   "outputs": [],
   "source": [
    "# see https://seaborn.pydata.org/generated/seaborn.heatmap.html#seaborn.heatmap\n",
    "\n",
    "def ScatterPlot(df, width, height):\n",
    "    # generate a mask for the upper triangle\n",
    "    mask = np.triu(np.ones_like(df, dtype=bool))\n",
    "    # set up the matplotlib figure\n",
    "    f, ax = plt.subplots(figsize=(width, height))\n",
    "    # generate a custom diverging colormap\n",
    "    #cmap = sns.diverging_palette(230, 20, as_cmap=True)\n",
    "    \n",
    "    #cmap=\"YlGnBu\"\n",
    "    # see https://matplotlib.org/stable/tutorials/colors/colormaps.html\n",
    "    cmap=\"Wistia\"\n",
    "    # others like plasma, hot, seismic, etc\n",
    "   \n",
    "    sns.heatmap(df, mask=mask, cmap=cmap, vmax=.3, center=0, annot=True, ax=ax,\n",
    "            square=True, linewidths=.5, cbar_kws={\"shrink\": .5})"
   ]
  },
  {
   "cell_type": "code",
   "execution_count": 3,
   "metadata": {
    "ExecuteTime": {
     "end_time": "2021-03-26T02:40:13.345817Z",
     "start_time": "2021-03-26T02:40:13.338635Z"
    }
   },
   "outputs": [],
   "source": [
    "sns.set_theme(style=\"white\")"
   ]
  },
  {
   "cell_type": "markdown",
   "metadata": {},
   "source": [
    "## Loading the dataset"
   ]
  },
  {
   "cell_type": "code",
   "execution_count": null,
   "metadata": {
    "ExecuteTime": {
     "end_time": "2021-03-26T02:22:20.122433Z",
     "start_time": "2021-03-26T02:22:19.621802Z"
    }
   },
   "outputs": [],
   "source": [
    "! pwd \n",
    "! ls -la\n",
    "! head -n 3 iris.csv\n",
    "! tail -n 3 iris.csv"
   ]
  },
  {
   "cell_type": "code",
   "execution_count": 4,
   "metadata": {
    "ExecuteTime": {
     "end_time": "2021-03-26T02:40:20.451540Z",
     "start_time": "2021-03-26T02:40:20.434331Z"
    }
   },
   "outputs": [],
   "source": [
    "# some Spark related imports\n",
    "\n",
    "import sys\n",
    "\n",
    "from pyspark.sql import SparkSession\n",
    "from pyspark.sql import Row\n",
    "from pyspark.sql.functions import *\n",
    "from pyspark.sql.types import *"
   ]
  },
  {
   "cell_type": "code",
   "execution_count": 5,
   "metadata": {
    "ExecuteTime": {
     "end_time": "2021-03-26T02:40:23.853394Z",
     "start_time": "2021-03-26T02:40:21.196220Z"
    }
   },
   "outputs": [],
   "source": [
    "# read the dataset \n",
    "\n",
    "df = spark.read.csv(\"iris.csv\", header=\"true\", inferSchema=\"true\")"
   ]
  },
  {
   "cell_type": "markdown",
   "metadata": {},
   "source": [
    "## Exploratory data analysis\n",
    "\n",
    "Let us get some insight from data"
   ]
  },
  {
   "cell_type": "code",
   "execution_count": 6,
   "metadata": {
    "ExecuteTime": {
     "end_time": "2021-03-26T02:40:24.229257Z",
     "start_time": "2021-03-26T02:40:23.855417Z"
    }
   },
   "outputs": [
    {
     "name": "stdout",
     "output_type": "stream",
     "text": [
      "root\n",
      " |-- sepal_length: double (nullable = true)\n",
      " |-- sepal_width: double (nullable = true)\n",
      " |-- petal_length: double (nullable = true)\n",
      " |-- petal_width: double (nullable = true)\n",
      " |-- class: string (nullable = true)\n",
      "\n"
     ]
    },
    {
     "data": {
      "text/plain": [
       "150"
      ]
     },
     "execution_count": 6,
     "metadata": {},
     "output_type": "execute_result"
    }
   ],
   "source": [
    "# check the data, both schema and some content\n",
    "\n",
    "df.printSchema()\n",
    "cols = df.columns\n",
    "df.count()"
   ]
  },
  {
   "cell_type": "markdown",
   "metadata": {},
   "source": [
    "### Data cleasing/preparation"
   ]
  },
  {
   "cell_type": "code",
   "execution_count": 7,
   "metadata": {
    "ExecuteTime": {
     "end_time": "2021-03-26T02:40:24.412146Z",
     "start_time": "2021-03-26T02:40:24.231113Z"
    }
   },
   "outputs": [
    {
     "data": {
      "text/plain": [
       "150"
      ]
     },
     "execution_count": 7,
     "metadata": {},
     "output_type": "execute_result"
    }
   ],
   "source": [
    "# checking nulls\n",
    "# It seems there are no nulls anyway\n",
    "\n",
    "df.dropna().count()\n"
   ]
  },
  {
   "cell_type": "code",
   "execution_count": 8,
   "metadata": {
    "ExecuteTime": {
     "end_time": "2021-03-26T02:40:24.418259Z",
     "start_time": "2021-03-26T02:40:24.414615Z"
    }
   },
   "outputs": [],
   "source": [
    "# columns\n",
    "\n",
    "cols_features = [\"sepal_length\", \"sepal_width\", \"petal_length\", \"petal_width\"]\n"
   ]
  },
  {
   "cell_type": "code",
   "execution_count": 9,
   "metadata": {
    "ExecuteTime": {
     "end_time": "2021-03-26T02:40:24.428197Z",
     "start_time": "2021-03-26T02:40:24.420196Z"
    }
   },
   "outputs": [],
   "source": [
    "# As for completing missing numeric values, we can use Inputer \n",
    "# either using the mean or the median of the columns in which the missing \n",
    "# values are located. \n",
    "\n",
    "# See pyspark.ml.feature.Imputer\n",
    "\n",
    "# leave it for now"
   ]
  },
  {
   "cell_type": "markdown",
   "metadata": {
    "ExecuteTime": {
     "end_time": "2021-03-06T21:59:55.649596Z",
     "start_time": "2021-03-06T21:59:55.646188Z"
    }
   },
   "source": [
    "### Basic statistics\n",
    "Correlations and summary statistics about the data\n"
   ]
  },
  {
   "cell_type": "code",
   "execution_count": 10,
   "metadata": {
    "ExecuteTime": {
     "end_time": "2021-03-26T02:40:26.192445Z",
     "start_time": "2021-03-26T02:40:25.161033Z"
    }
   },
   "outputs": [
    {
     "data": {
      "text/plain": [
       "[[1.0, -0.10936924995064934, 0.8717541573048722, 0.8179536333691638],\n",
       " [-0.10936924995064934, 1.0, -0.4205160964011551, -0.3565440896138061],\n",
       " [0.8717541573048722, -0.4205160964011551, 1.0, 0.9627570970509672],\n",
       " [0.8179536333691638, -0.3565440896138061, 0.9627570970509672, 1.0]]"
      ]
     },
     "execution_count": 10,
     "metadata": {},
     "output_type": "execute_result"
    }
   ],
   "source": [
    "# use of Correlation from pyspark.ml.stat\n",
    "\n",
    "from pyspark.ml.stat import Correlation\n",
    "from pyspark.ml.feature import VectorAssembler\n",
    "\n",
    "# Correlation requires vectors so prior we convert to vector column\n",
    "\n",
    "vector_col = \"corr_features\"\n",
    "assembler = VectorAssembler(inputCols=cols_features, outputCol=vector_col)\n",
    "df_vector = assembler.transform(df).select(vector_col)\n",
    "\n",
    "# get correlation matrix\n",
    "\n",
    "matrix = Correlation.corr(df_vector, vector_col).collect()[0][0]\n",
    "corrmatrix = matrix.toArray().tolist()\n",
    "corrmatrix"
   ]
  },
  {
   "cell_type": "code",
   "execution_count": 11,
   "metadata": {
    "ExecuteTime": {
     "end_time": "2021-03-26T02:40:26.205055Z",
     "start_time": "2021-03-26T02:40:26.194240Z"
    },
    "scrolled": true
   },
   "outputs": [
    {
     "data": {
      "text/html": [
       "<div>\n",
       "<style scoped>\n",
       "    .dataframe tbody tr th:only-of-type {\n",
       "        vertical-align: middle;\n",
       "    }\n",
       "\n",
       "    .dataframe tbody tr th {\n",
       "        vertical-align: top;\n",
       "    }\n",
       "\n",
       "    .dataframe thead th {\n",
       "        text-align: right;\n",
       "    }\n",
       "</style>\n",
       "<table border=\"1\" class=\"dataframe\">\n",
       "  <thead>\n",
       "    <tr style=\"text-align: right;\">\n",
       "      <th></th>\n",
       "      <th>sepal_length</th>\n",
       "      <th>sepal_width</th>\n",
       "      <th>petal_length</th>\n",
       "      <th>petal_width</th>\n",
       "    </tr>\n",
       "  </thead>\n",
       "  <tbody>\n",
       "    <tr>\n",
       "      <th>sepal_length</th>\n",
       "      <td>1.000000</td>\n",
       "      <td>-0.109369</td>\n",
       "      <td>0.871754</td>\n",
       "      <td>0.817954</td>\n",
       "    </tr>\n",
       "    <tr>\n",
       "      <th>sepal_width</th>\n",
       "      <td>-0.109369</td>\n",
       "      <td>1.000000</td>\n",
       "      <td>-0.420516</td>\n",
       "      <td>-0.356544</td>\n",
       "    </tr>\n",
       "    <tr>\n",
       "      <th>petal_length</th>\n",
       "      <td>0.871754</td>\n",
       "      <td>-0.420516</td>\n",
       "      <td>1.000000</td>\n",
       "      <td>0.962757</td>\n",
       "    </tr>\n",
       "    <tr>\n",
       "      <th>petal_width</th>\n",
       "      <td>0.817954</td>\n",
       "      <td>-0.356544</td>\n",
       "      <td>0.962757</td>\n",
       "      <td>1.000000</td>\n",
       "    </tr>\n",
       "  </tbody>\n",
       "</table>\n",
       "</div>"
      ],
      "text/plain": [
       "              sepal_length  sepal_width  petal_length  petal_width\n",
       "sepal_length      1.000000    -0.109369      0.871754     0.817954\n",
       "sepal_width      -0.109369     1.000000     -0.420516    -0.356544\n",
       "petal_length      0.871754    -0.420516      1.000000     0.962757\n",
       "petal_width       0.817954    -0.356544      0.962757     1.000000"
      ]
     },
     "execution_count": 11,
     "metadata": {},
     "output_type": "execute_result"
    }
   ],
   "source": [
    "# Python DataFrame for visualization\n",
    "\n",
    "df_plot = pd.DataFrame(data = corrmatrix, index=cols_features, columns=cols_features)\n",
    "df_plot"
   ]
  },
  {
   "cell_type": "code",
   "execution_count": 12,
   "metadata": {
    "ExecuteTime": {
     "end_time": "2021-03-26T02:40:26.503150Z",
     "start_time": "2021-03-26T02:40:26.206525Z"
    }
   },
   "outputs": [
    {
     "data": {
      "image/png": "[encoded data removed]",
      "text/plain": [
       "<Figure size 1080x1080 with 2 Axes>"
      ]
     },
     "metadata": {},
     "output_type": "display_data"
    }
   ],
   "source": [
    "ScatterPlot(df_plot, 15, 15)"
   ]
  },
  {
   "cell_type": "code",
   "execution_count": 13,
   "metadata": {
    "ExecuteTime": {
     "end_time": "2021-03-26T02:40:26.925745Z",
     "start_time": "2021-03-26T02:40:26.504829Z"
    }
   },
   "outputs": [
    {
     "name": "stdout",
     "output_type": "stream",
     "text": [
      "+-------+------------------+-------------------+------------------+------------------+\n",
      "|summary|      sepal_length|        sepal_width|      petal_length|       petal_width|\n",
      "+-------+------------------+-------------------+------------------+------------------+\n",
      "|  count|               150|                150|               150|               150|\n",
      "|   mean| 5.843333333333335| 3.0540000000000007|3.7586666666666693|1.1986666666666672|\n",
      "| stddev|0.8280661279778637|0.43359431136217375| 1.764420419952262|0.7631607417008414|\n",
      "|    min|               4.3|                2.0|               1.0|               0.1|\n",
      "|    max|               7.9|                4.4|               6.9|               2.5|\n",
      "+-------+------------------+-------------------+------------------+------------------+\n",
      "\n"
     ]
    }
   ],
   "source": [
    "# summary of basic statistics with describe()\n",
    "\n",
    "df.describe(cols_features).show()"
   ]
  },
  {
   "cell_type": "code",
   "execution_count": 50,
   "metadata": {
    "ExecuteTime": {
     "end_time": "2021-03-26T13:05:17.400111Z",
     "start_time": "2021-03-26T13:05:17.395729Z"
    }
   },
   "outputs": [],
   "source": [
    "# clear some objects we no longer need\n",
    "\n",
    "# del "
   ]
  },
  {
   "cell_type": "code",
   "execution_count": 24,
   "metadata": {
    "ExecuteTime": {
     "end_time": "2021-03-26T02:41:03.677682Z",
     "start_time": "2021-03-26T02:41:03.562128Z"
    }
   },
   "outputs": [
    {
     "name": "stdout",
     "output_type": "stream",
     "text": [
      "+------------+-----------+------------+-----------+-----------+\n",
      "|sepal_length|sepal_width|petal_length|petal_width|      class|\n",
      "+------------+-----------+------------+-----------+-----------+\n",
      "|         5.1|        3.5|         1.4|        0.2|Iris-setosa|\n",
      "|         4.9|        3.0|         1.4|        0.2|Iris-setosa|\n",
      "|         4.7|        3.2|         1.3|        0.2|Iris-setosa|\n",
      "|         4.6|        3.1|         1.5|        0.2|Iris-setosa|\n",
      "|         5.0|        3.6|         1.4|        0.2|Iris-setosa|\n",
      "|         5.4|        3.9|         1.7|        0.4|Iris-setosa|\n",
      "|         4.6|        3.4|         1.4|        0.3|Iris-setosa|\n",
      "|         5.0|        3.4|         1.5|        0.2|Iris-setosa|\n",
      "|         4.4|        2.9|         1.4|        0.2|Iris-setosa|\n",
      "|         4.9|        3.1|         1.5|        0.1|Iris-setosa|\n",
      "|         5.4|        3.7|         1.5|        0.2|Iris-setosa|\n",
      "|         4.8|        3.4|         1.6|        0.2|Iris-setosa|\n",
      "|         4.8|        3.0|         1.4|        0.1|Iris-setosa|\n",
      "|         4.3|        3.0|         1.1|        0.1|Iris-setosa|\n",
      "|         5.8|        4.0|         1.2|        0.2|Iris-setosa|\n",
      "|         5.7|        4.4|         1.5|        0.4|Iris-setosa|\n",
      "|         5.4|        3.9|         1.3|        0.4|Iris-setosa|\n",
      "|         5.1|        3.5|         1.4|        0.3|Iris-setosa|\n",
      "|         5.7|        3.8|         1.7|        0.3|Iris-setosa|\n",
      "|         5.1|        3.8|         1.5|        0.3|Iris-setosa|\n",
      "+------------+-----------+------------+-----------+-----------+\n",
      "only showing top 20 rows\n",
      "\n"
     ]
    }
   ],
   "source": [
    "# recall our dataset\n",
    "df.show()"
   ]
  },
  {
   "cell_type": "markdown",
   "metadata": {
    "ExecuteTime": {
     "end_time": "2021-03-06T12:46:42.492329Z",
     "start_time": "2021-03-06T12:46:42.487767Z"
    }
   },
   "source": [
    "## Clustering\n"
   ]
  },
  {
   "cell_type": "code",
   "execution_count": 25,
   "metadata": {
    "ExecuteTime": {
     "end_time": "2021-03-26T02:41:05.663676Z",
     "start_time": "2021-03-26T02:41:05.661122Z"
    }
   },
   "outputs": [],
   "source": [
    "# some pyspark imports\n",
    "\n",
    "from pyspark.ml import Pipeline\n",
    "from pyspark.ml.clustering import KMeans\n",
    "from pyspark.ml.evaluation import ClusteringEvaluator\n"
   ]
  },
  {
   "cell_type": "markdown",
   "metadata": {
    "ExecuteTime": {
     "end_time": "2021-03-14T00:22:24.330628Z",
     "start_time": "2021-03-14T00:22:24.326631Z"
    }
   },
   "source": [
    "### Feature engineering\n",
    "It is time to decide which features to use in the clustering process"
   ]
  },
  {
   "cell_type": "code",
   "execution_count": 26,
   "metadata": {
    "ExecuteTime": {
     "end_time": "2021-03-26T02:41:06.922048Z",
     "start_time": "2021-03-26T02:41:06.914210Z"
    }
   },
   "outputs": [
    {
     "data": {
      "text/plain": [
       "['sepal_length', 'sepal_width', 'petal_length', 'petal_width', 'class']"
      ]
     },
     "execution_count": 26,
     "metadata": {},
     "output_type": "execute_result"
    }
   ],
   "source": [
    "cols"
   ]
  },
  {
   "cell_type": "code",
   "execution_count": 27,
   "metadata": {
    "ExecuteTime": {
     "end_time": "2021-03-26T02:41:07.553364Z",
     "start_time": "2021-03-26T02:41:07.547622Z"
    }
   },
   "outputs": [],
   "source": [
    "# columns we will hold: cols and features\n",
    "\n",
    "# features = [\"sepal_length\", \"sepal_width\"]\n",
    "features = [\"sepal_length\", \"sepal_width\", 'petal_length', 'petal_width']\n"
   ]
  },
  {
   "cell_type": "code",
   "execution_count": 28,
   "metadata": {
    "ExecuteTime": {
     "end_time": "2021-03-26T02:41:08.154736Z",
     "start_time": "2021-03-26T02:41:08.116075Z"
    }
   },
   "outputs": [],
   "source": [
    "# feature engineering\n",
    "\n",
    "# we have to put all input features into a single vector, DenseVector,\n",
    "\n",
    "vec_assembler = VectorAssembler(inputCols=features, outputCol=\"features\")\n",
    "vec_df = vec_assembler.transform(df)"
   ]
  },
  {
   "cell_type": "code",
   "execution_count": 29,
   "metadata": {
    "ExecuteTime": {
     "end_time": "2021-03-26T02:41:08.909983Z",
     "start_time": "2021-03-26T02:41:08.804462Z"
    }
   },
   "outputs": [
    {
     "name": "stdout",
     "output_type": "stream",
     "text": [
      "+------------+-----------+------------+-----------+-----------+-----------------+\n",
      "|sepal_length|sepal_width|petal_length|petal_width|      class|         features|\n",
      "+------------+-----------+------------+-----------+-----------+-----------------+\n",
      "|         5.1|        3.5|         1.4|        0.2|Iris-setosa|[5.1,3.5,1.4,0.2]|\n",
      "|         4.9|        3.0|         1.4|        0.2|Iris-setosa|[4.9,3.0,1.4,0.2]|\n",
      "|         4.7|        3.2|         1.3|        0.2|Iris-setosa|[4.7,3.2,1.3,0.2]|\n",
      "|         4.6|        3.1|         1.5|        0.2|Iris-setosa|[4.6,3.1,1.5,0.2]|\n",
      "|         5.0|        3.6|         1.4|        0.2|Iris-setosa|[5.0,3.6,1.4,0.2]|\n",
      "|         5.4|        3.9|         1.7|        0.4|Iris-setosa|[5.4,3.9,1.7,0.4]|\n",
      "|         4.6|        3.4|         1.4|        0.3|Iris-setosa|[4.6,3.4,1.4,0.3]|\n",
      "|         5.0|        3.4|         1.5|        0.2|Iris-setosa|[5.0,3.4,1.5,0.2]|\n",
      "|         4.4|        2.9|         1.4|        0.2|Iris-setosa|[4.4,2.9,1.4,0.2]|\n",
      "|         4.9|        3.1|         1.5|        0.1|Iris-setosa|[4.9,3.1,1.5,0.1]|\n",
      "|         5.4|        3.7|         1.5|        0.2|Iris-setosa|[5.4,3.7,1.5,0.2]|\n",
      "|         4.8|        3.4|         1.6|        0.2|Iris-setosa|[4.8,3.4,1.6,0.2]|\n",
      "|         4.8|        3.0|         1.4|        0.1|Iris-setosa|[4.8,3.0,1.4,0.1]|\n",
      "|         4.3|        3.0|         1.1|        0.1|Iris-setosa|[4.3,3.0,1.1,0.1]|\n",
      "|         5.8|        4.0|         1.2|        0.2|Iris-setosa|[5.8,4.0,1.2,0.2]|\n",
      "|         5.7|        4.4|         1.5|        0.4|Iris-setosa|[5.7,4.4,1.5,0.4]|\n",
      "|         5.4|        3.9|         1.3|        0.4|Iris-setosa|[5.4,3.9,1.3,0.4]|\n",
      "|         5.1|        3.5|         1.4|        0.3|Iris-setosa|[5.1,3.5,1.4,0.3]|\n",
      "|         5.7|        3.8|         1.7|        0.3|Iris-setosa|[5.7,3.8,1.7,0.3]|\n",
      "|         5.1|        3.8|         1.5|        0.3|Iris-setosa|[5.1,3.8,1.5,0.3]|\n",
      "+------------+-----------+------------+-----------+-----------+-----------------+\n",
      "only showing top 20 rows\n",
      "\n"
     ]
    }
   ],
   "source": [
    "vec_df.show()"
   ]
  },
  {
   "cell_type": "markdown",
   "metadata": {},
   "source": [
    "### Number of clusters\n",
    "Since k-means needs the k to be set in advance, let us figure out an optimal number.\n",
    "But to do so, we are going to use a even smaller part of the dataset"
   ]
  },
  {
   "cell_type": "code",
   "execution_count": 30,
   "metadata": {
    "ExecuteTime": {
     "end_time": "2021-03-26T02:41:10.082213Z",
     "start_time": "2021-03-26T02:41:10.042034Z"
    }
   },
   "outputs": [],
   "source": [
    "max_tiny = 100\n",
    "vec_dftiny = vec_assembler.transform(df.limit(max_tiny))"
   ]
  },
  {
   "cell_type": "code",
   "execution_count": 31,
   "metadata": {
    "ExecuteTime": {
     "end_time": "2021-03-26T02:41:10.741517Z",
     "start_time": "2021-03-26T02:41:10.602125Z"
    }
   },
   "outputs": [
    {
     "name": "stdout",
     "output_type": "stream",
     "text": [
      "+------------+-----------+------------+-----------+-----------+-----------------+\n",
      "|sepal_length|sepal_width|petal_length|petal_width|      class|         features|\n",
      "+------------+-----------+------------+-----------+-----------+-----------------+\n",
      "|         5.1|        3.5|         1.4|        0.2|Iris-setosa|[5.1,3.5,1.4,0.2]|\n",
      "|         4.9|        3.0|         1.4|        0.2|Iris-setosa|[4.9,3.0,1.4,0.2]|\n",
      "|         4.7|        3.2|         1.3|        0.2|Iris-setosa|[4.7,3.2,1.3,0.2]|\n",
      "|         4.6|        3.1|         1.5|        0.2|Iris-setosa|[4.6,3.1,1.5,0.2]|\n",
      "|         5.0|        3.6|         1.4|        0.2|Iris-setosa|[5.0,3.6,1.4,0.2]|\n",
      "|         5.4|        3.9|         1.7|        0.4|Iris-setosa|[5.4,3.9,1.7,0.4]|\n",
      "|         4.6|        3.4|         1.4|        0.3|Iris-setosa|[4.6,3.4,1.4,0.3]|\n",
      "|         5.0|        3.4|         1.5|        0.2|Iris-setosa|[5.0,3.4,1.5,0.2]|\n",
      "|         4.4|        2.9|         1.4|        0.2|Iris-setosa|[4.4,2.9,1.4,0.2]|\n",
      "|         4.9|        3.1|         1.5|        0.1|Iris-setosa|[4.9,3.1,1.5,0.1]|\n",
      "|         5.4|        3.7|         1.5|        0.2|Iris-setosa|[5.4,3.7,1.5,0.2]|\n",
      "|         4.8|        3.4|         1.6|        0.2|Iris-setosa|[4.8,3.4,1.6,0.2]|\n",
      "|         4.8|        3.0|         1.4|        0.1|Iris-setosa|[4.8,3.0,1.4,0.1]|\n",
      "|         4.3|        3.0|         1.1|        0.1|Iris-setosa|[4.3,3.0,1.1,0.1]|\n",
      "|         5.8|        4.0|         1.2|        0.2|Iris-setosa|[5.8,4.0,1.2,0.2]|\n",
      "|         5.7|        4.4|         1.5|        0.4|Iris-setosa|[5.7,4.4,1.5,0.4]|\n",
      "|         5.4|        3.9|         1.3|        0.4|Iris-setosa|[5.4,3.9,1.3,0.4]|\n",
      "|         5.1|        3.5|         1.4|        0.3|Iris-setosa|[5.1,3.5,1.4,0.3]|\n",
      "|         5.7|        3.8|         1.7|        0.3|Iris-setosa|[5.7,3.8,1.7,0.3]|\n",
      "|         5.1|        3.8|         1.5|        0.3|Iris-setosa|[5.1,3.8,1.5,0.3]|\n",
      "+------------+-----------+------------+-----------+-----------+-----------------+\n",
      "only showing top 20 rows\n",
      "\n"
     ]
    }
   ],
   "source": [
    "vec_dftiny.show()"
   ]
  },
  {
   "cell_type": "code",
   "execution_count": 34,
   "metadata": {
    "ExecuteTime": {
     "end_time": "2021-03-26T02:42:01.603896Z",
     "start_time": "2021-03-26T02:41:47.098918Z"
    }
   },
   "outputs": [],
   "source": [
    "# the k-means algorithm\n",
    "\n",
    "evaluator = ClusteringEvaluator()\n",
    "\n",
    "silhouettes = []\n",
    "cluster_centres = []\n",
    "for k in range(2,20):\n",
    "    \n",
    "    # trains a k-means model\n",
    "    kmeans = KMeans(k=k, seed=221, maxIter=20)\n",
    "    \n",
    "    # fit the model\n",
    "    model = kmeans.fit(vec_df)\n",
    "    \n",
    "    # use the model to transform the DataFrame by adding cluster predictions\n",
    "    predictions = model.transform(vec_dftiny)\n",
    "    \n",
    "\n",
    "    # get the clusterCenters from the model\n",
    "    cluster_centres.append(model.clusterCenters())\n",
    "    \n",
    "    # evaluate clustering by computing silhouette score\n",
    "    silhouettes.append(evaluator.evaluate(predictions))\n"
   ]
  },
  {
   "cell_type": "code",
   "execution_count": 35,
   "metadata": {
    "ExecuteTime": {
     "end_time": "2021-03-26T02:42:01.628013Z",
     "start_time": "2021-03-26T02:42:01.605349Z"
    }
   },
   "outputs": [
    {
     "name": "stdout",
     "output_type": "stream",
     "text": [
      "Cluster centres: \n",
      "[array([5.00566038, 3.36037736, 1.56226415, 0.28867925]), array([6.30103093, 2.88659794, 4.95876289, 1.69587629])]\n",
      "[array([5.006, 3.418, 1.464, 0.244]), array([5.9016129 , 2.7483871 , 4.39354839, 1.43387097]), array([6.85      , 3.07368421, 5.74210526, 2.07105263])]\n",
      "[array([4.81818182, 3.22121212, 1.43636364, 0.22727273]), array([6.85      , 3.07368421, 5.74210526, 2.07105263]), array([5.9016129 , 2.7483871 , 4.39354839, 1.43387097]), array([5.37058824, 3.8       , 1.51764706, 0.27647059])]\n",
      "[array([4.81818182, 3.22121212, 1.43636364, 0.22727273]), array([6.9125  , 3.1     , 5.846875, 2.13125 ]), array([6.2525, 2.855 , 4.815 , 1.625 ]), array([5.37058824, 3.8       , 1.51764706, 0.27647059]), array([5.53214286, 2.63571429, 3.96071429, 1.22857143])]\n",
      "[array([4.81818182, 3.22121212, 1.43636364, 0.22727273]), array([6.608, 3.064, 5.552, 2.128]), array([6.1975, 2.8525, 4.755 , 1.585 ]), array([5.508, 2.6  , 3.908, 1.204]), array([5.37058824, 3.8       , 1.51764706, 0.27647059]), array([7.54, 3.15, 6.39, 2.09])]\n",
      "[array([5.006, 3.418, 1.464, 0.244]), array([7.475, 3.125, 6.3  , 2.05 ]), array([5.   , 2.3  , 3.275, 1.025]), array([6.56818182, 3.08636364, 5.53636364, 2.16363636]), array([6.02777778, 2.73333333, 5.02777778, 1.79444444]), array([5.62083333, 2.69166667, 4.075     , 1.2625    ]), array([6.43 , 2.94 , 4.59 , 1.435])]\n",
      "[array([4.71304348, 3.12173913, 1.4173913 , 0.19130435]), array([7.22857143, 2.91428571, 6.        , 1.9       ]), array([5.508, 2.6  , 3.908, 1.204]), array([6.20769231, 2.85384615, 4.74615385, 1.56410256]), array([5.25555556, 3.67037037, 1.5037037 , 0.28888889]), array([7.66666667, 2.8       , 6.73333333, 2.13333333]), array([6.52173913, 3.0826087 , 5.49565217, 2.17826087]), array([7.6       , 3.73333333, 6.4       , 2.23333333])]\n",
      "[array([4.71304348, 3.12173913, 1.4173913 , 0.19130435]), array([7.15, 3.04, 5.97, 2.04]), array([5.   , 2.3  , 3.275, 1.025]), array([6.24722222, 2.84722222, 4.775     , 1.575     ]), array([5.25555556, 3.67037037, 1.5037037 , 0.28888889]), array([7.66666667, 2.8       , 6.73333333, 2.13333333]), array([6.49047619, 3.07142857, 5.46666667, 2.16666667]), array([7.8 , 3.8 , 6.55, 2.1 ]), array([5.62083333, 2.69166667, 4.075     , 1.2625    ])]\n",
      "[array([5.31904762, 3.74285714, 1.4952381 , 0.26666667]), array([7.41, 2.99, 6.25, 2.04]), array([4.85833333, 3.24583333, 1.475     , 0.23333333]), array([6.56818182, 3.08636364, 5.53636364, 2.16363636]), array([4.4 , 2.88, 1.28, 0.2 ]), array([5.39230769, 2.43846154, 3.65384615, 1.12307692]), array([6.02777778, 2.73333333, 5.02777778, 1.79444444]), array([7.8 , 3.8 , 6.55, 2.1 ]), array([6.45263158, 2.94210526, 4.59473684, 1.43157895]), array([5.675  , 2.8125 , 4.24375, 1.33125])]\n",
      "[array([5.39166667, 3.925     , 1.525     , 0.275     ]), array([7.625 , 3.0875, 6.475 , 2.075 ]), array([6.45384615, 3.04615385, 5.38461538, 2.09230769]), array([4.67368421, 3.07894737, 1.39473684, 0.18947368]), array([5.09473684, 3.43684211, 1.49473684, 0.27894737]), array([5.56923077, 2.53846154, 3.91538462, 1.2       ]), array([5.9875 , 2.75   , 5.01875, 1.80625]), array([6.83571429, 3.12857143, 5.77857143, 2.16428571]), array([5.   , 2.3  , 3.275, 1.025]), array([5.76428571, 2.91428571, 4.3       , 1.36428571]), array([6.48333333, 2.89444444, 4.63333333, 1.43333333])]\n",
      "[array([5.26538462, 3.68076923, 1.50384615, 0.29230769]), array([7.625 , 3.0875, 6.475 , 2.075 ]), array([6.45384615, 3.04615385, 5.38461538, 2.09230769]), array([4.73478261, 3.16956522, 1.42608696, 0.18695652]), array([4.5, 2.3, 1.3, 0.3]), array([5.58 , 2.65 , 4.03 , 1.235]), array([5.89090909, 2.83636364, 4.97272727, 1.89090909]), array([6.83571429, 3.12857143, 5.77857143, 2.16428571]), array([6.72222222, 3.        , 4.67777778, 1.45555556]), array([5.   , 2.3  , 3.275, 1.025]), array([6.225, 2.475, 4.925, 1.55 ]), array([6.06923077, 2.99230769, 4.46153846, 1.41538462])]\n",
      "[array([5.08 , 3.5  , 1.545, 0.29 ]), array([7.625 , 3.0875, 6.475 , 2.075 ]), array([4.69 , 3.085, 1.385, 0.19 ]), array([6.45384615, 3.04615385, 5.38461538, 2.09230769]), array([5.49, 3.92, 1.46, 0.26]), array([6.16666667, 2.23333333, 4.3       , 1.26666667]), array([6.00588235, 2.73529412, 5.01176471, 1.78823529]), array([6.83571429, 3.12857143, 5.77857143, 2.16428571]), array([5.57272727, 2.84545455, 4.30909091, 1.37272727]), array([5.   , 2.3  , 3.275, 1.025]), array([5.59090909, 2.57272727, 3.85454545, 1.17272727]), array([6.17, 3.01, 4.48, 1.41]), array([6.72222222, 3.        , 4.67777778, 1.45555556])]\n",
      "[array([5.12173913, 3.5173913 , 1.53043478, 0.27826087]), array([7.625 , 3.0875, 6.475 , 2.075 ]), array([5.89090909, 2.83636364, 4.97272727, 1.89090909]), array([4.69 , 3.085, 1.385, 0.19 ]), array([5.52857143, 4.04285714, 1.47142857, 0.28571429]), array([6.08333333, 2.98333333, 4.55      , 1.4       ]), array([6.45384615, 3.04615385, 5.38461538, 2.09230769]), array([6.83571429, 3.12857143, 5.77857143, 2.16428571]), array([5.   , 2.3  , 3.275, 1.025]), array([5.61666667, 2.84166667, 4.28333333, 1.36666667]), array([5.625     , 2.54166667, 3.86666667, 1.15833333]), array([6.5       , 3.02857143, 4.5       , 1.42857143]), array([6.225, 2.475, 4.925, 1.55 ]), array([6.82, 3.04, 4.82, 1.5 ])]\n",
      "[array([5.5125, 4.    , 1.475 , 0.275 ]), array([6.975 , 3.125 , 5.8625, 2.0625]), array([4.69 , 3.085, 1.385, 0.19 ]), array([5.98666667, 2.78666667, 5.02      , 1.82666667]), array([6.39230769, 3.06153846, 5.5       , 2.1       ]), array([6.2 , 2.3 , 4.7 , 1.45]), array([7.56666667, 2.85      , 6.45      , 2.06666667]), array([7.8 , 3.8 , 6.55, 2.1 ]), array([5.   , 2.3  , 3.275, 1.025]), array([5.70714286, 2.82857143, 4.20714286, 1.29285714]), array([6.17777778, 3.03333333, 4.53333333, 1.42222222]), array([6.72222222, 3.        , 4.67777778, 1.45555556]), array([5.5 , 2.5 , 3.89, 1.22]), array([5.10909091, 3.50909091, 1.53181818, 0.28181818]), array([6.78333333, 3.1       , 5.41666667, 2.28333333])]\n",
      "[array([5.5125, 4.    , 1.475 , 0.275 ]), array([6.19230769, 2.89230769, 4.5       , 1.43076923]), array([4.69 , 3.085, 1.385, 0.19 ]), array([7.9, 3.8, 6.4, 2. ]), array([6.825, 3.05 , 5.3  , 2.2  ]), array([7.56666667, 2.85      , 6.45      , 2.06666667]), array([7.7, 3.8, 6.7, 2.2]), array([6.67777778, 3.26666667, 5.78888889, 2.35555556]), array([5.54, 2.83, 4.32, 1.36]), array([5.   , 2.3  , 3.275, 1.025]), array([5.66153846, 2.56153846, 3.87692308, 1.16923077]), array([5.10909091, 3.50909091, 1.53181818, 0.28181818]), array([6.00588235, 2.73529412, 5.01176471, 1.78823529]), array([6.75  , 3.025 , 4.6875, 1.45  ]), array([6.4 , 3.01, 5.41, 2.02]), array([7.05 , 2.925, 5.875, 1.825])]\n",
      "[array([4.69 , 3.085, 1.385, 0.19 ]), array([6.1375, 2.725 , 4.4625, 1.3625]), array([6.62857143, 3.18571429, 5.56428571, 2.29285714]), array([7.8 , 3.8 , 6.55, 2.1 ]), array([5.5125, 4.    , 1.475 , 0.275 ]), array([7.56666667, 2.85      , 6.45      , 2.06666667]), array([7.2, 3.6, 6.1, 2.5]), array([7.05 , 2.925, 5.875, 1.825]), array([5.   , 2.3  , 3.275, 1.025]), array([5.84444444, 2.85555556, 4.97777778, 1.93333333]), array([6.1875, 2.6   , 5.05  , 1.625 ]), array([5.625     , 2.54166667, 3.86666667, 1.15833333]), array([6.4375, 3.075 , 4.5   , 1.45  ]), array([5.10909091, 3.50909091, 1.53181818, 0.28181818]), array([6.425 , 2.9375, 5.425 , 1.95  ]), array([5.57272727, 2.84545455, 4.30909091, 1.37272727]), array([6.82, 3.04, 4.82, 1.5 ])]\n",
      "[array([4.69 , 3.085, 1.385, 0.19 ]), array([6.18888889, 2.71111111, 4.54444444, 1.37777778]), array([6.75  , 3.15  , 5.6625, 2.25  ]), array([7.72, 3.2 , 6.66, 2.12]), array([5.5125, 4.    , 1.475 , 0.275 ]), array([4.9, 2.5, 4.5, 1.7]), array([7.45, 3.3 , 6.1 , 2.4 ]), array([7.15      , 2.9       , 5.98333333, 1.83333333]), array([5.   , 2.3  , 3.275, 1.025]), array([5.68181818, 2.87272727, 4.26363636, 1.33636364]), array([5.7       , 2.55555556, 3.83333333, 1.1       ]), array([5.4       , 2.5       , 3.96666667, 1.33333333]), array([6.69, 3.02, 4.66, 1.46]), array([5.10909091, 3.50909091, 1.53181818, 0.28181818]), array([6.1375, 3.025 , 4.8125, 1.7125]), array([6.26666667, 3.36666667, 5.66666667, 2.4       ]), array([5.9 , 2.65, 5.1 , 1.84]), array([6.49090909, 2.98181818, 5.36363636, 2.04545455])]\n",
      "[array([4.69 , 3.085, 1.385, 0.19 ]), array([7.3       , 3.07142857, 6.04285714, 2.        ]), array([6.7       , 3.10833333, 5.54166667, 2.25833333]), array([7.72, 3.2 , 6.66, 2.12]), array([5.3       , 2.83333333, 4.5       , 1.56666667]), array([6.25, 2.25, 4.45, 1.4 ]), array([6.1  , 2.975, 4.475, 1.4  ]), array([6.375, 2.7  , 5.65 , 1.775]), array([6. , 2.2, 4. , 1. ]), array([5.   , 2.3  , 3.275, 1.025]), array([5.72727273, 2.78181818, 4.15454545, 1.23636364]), array([6.65, 3.05, 4.63, 1.45]), array([6.5       , 3.        , 5.26666667, 1.86666667]), array([5.10909091, 3.50909091, 1.53181818, 0.28181818]), array([5.84444444, 2.85555556, 4.97777778, 1.93333333]), array([6.26666667, 3.36666667, 5.66666667, 2.4       ]), array([5.5125, 2.5375, 3.8   , 1.1875]), array([5.5125, 4.    , 1.475 , 0.275 ]), array([6.2       , 2.6       , 4.97142857, 1.65714286])]\n",
      "Silhouettes with squared euclidean distances: \n",
      "[0.8744873271656141, 0.5748426978420457, 0.38917978516165647, 0.595986373726751, 0.5946790467446168, 0.6606811151838363, 0.6020305539136774, 0.5917222638331836, 0.41553093230330274, 0.4280017996849854, 0.4929738415094435, 0.4755974504726662, 0.4876357672690388, 0.4855642231388145, 0.4539599473937853, 0.44242045583121475, 0.44479790976029904, 0.41630359018309143]\n"
     ]
    }
   ],
   "source": [
    "# show cluster centres and silhouette scores\n",
    "\n",
    "print(\"Cluster centres: \")\n",
    "for centroid in cluster_centres:\n",
    "    print(centroid)\n",
    "print(\"Silhouettes with squared euclidean distances: \")\n",
    "print(silhouettes)"
   ]
  },
  {
   "cell_type": "code",
   "execution_count": 36,
   "metadata": {
    "ExecuteTime": {
     "end_time": "2021-03-26T02:42:01.797681Z",
     "start_time": "2021-03-26T02:42:01.629697Z"
    }
   },
   "outputs": [
    {
     "data": {
      "text/plain": [
       "Text(0, 0.5, 'silhouette score')"
      ]
     },
     "execution_count": 36,
     "metadata": {},
     "output_type": "execute_result"
    },
    {
     "data": {
      "image/png": "[encoded data removed]",
      "text/plain": [
       "<Figure size 576x432 with 1 Axes>"
      ]
     },
     "metadata": {},
     "output_type": "display_data"
    }
   ],
   "source": [
    "# visualize the options for k\n",
    "\n",
    "fig, ax = plt.subplots(1,1, figsize =(8,6))\n",
    "ax.plot(range(2,20),silhouettes[0:20])\n",
    "ax.set_xlabel('k')\n",
    "ax.set_ylabel('silhouette score')"
   ]
  },
  {
   "cell_type": "markdown",
   "metadata": {},
   "source": [
    "### Model setting\n"
   ]
  },
  {
   "cell_type": "code",
   "execution_count": 51,
   "metadata": {
    "ExecuteTime": {
     "end_time": "2021-03-26T13:05:45.929798Z",
     "start_time": "2021-03-26T13:05:45.924970Z"
    }
   },
   "outputs": [],
   "source": [
    "# setting the optimal k, based on the picture above\n",
    "\n",
    "optimal_k = 3"
   ]
  },
  {
   "cell_type": "code",
   "execution_count": 52,
   "metadata": {
    "ExecuteTime": {
     "end_time": "2021-03-26T13:05:47.367537Z",
     "start_time": "2021-03-26T13:05:46.501810Z"
    }
   },
   "outputs": [],
   "source": [
    "# the k-means algorithm but now applied to the complete dataset\n",
    "    \n",
    "# trains a k-means model\n",
    "kmeans = KMeans(k=optimal_k, seed=221, maxIter=20)\n",
    "\n",
    "# fit the model\n",
    "model = kmeans.fit(vec_df)\n",
    "\n",
    "# use the model to transform the DataFrame by adding cluster predictions\n",
    "df_predictions = model.transform(vec_df)\n",
    "    \n",
    "# get the clusterCenters from the model\n",
    "cluster_centres = model.clusterCenters()\n",
    "\n",
    "# evaluate clustering by computing silhouette score\n",
    "silhouette = evaluator.evaluate(predictions)\n"
   ]
  },
  {
   "cell_type": "code",
   "execution_count": 53,
   "metadata": {
    "ExecuteTime": {
     "end_time": "2021-03-26T13:05:47.458368Z",
     "start_time": "2021-03-26T13:05:47.368966Z"
    }
   },
   "outputs": [
    {
     "name": "stdout",
     "output_type": "stream",
     "text": [
      "+------------+-----------+------------+-----------+-----------+-----------------+----------+\n",
      "|sepal_length|sepal_width|petal_length|petal_width|      class|         features|prediction|\n",
      "+------------+-----------+------------+-----------+-----------+-----------------+----------+\n",
      "|         5.1|        3.5|         1.4|        0.2|Iris-setosa|[5.1,3.5,1.4,0.2]|        13|\n",
      "|         4.9|        3.0|         1.4|        0.2|Iris-setosa|[4.9,3.0,1.4,0.2]|         0|\n",
      "|         4.7|        3.2|         1.3|        0.2|Iris-setosa|[4.7,3.2,1.3,0.2]|         0|\n",
      "|         4.6|        3.1|         1.5|        0.2|Iris-setosa|[4.6,3.1,1.5,0.2]|         0|\n",
      "|         5.0|        3.6|         1.4|        0.2|Iris-setosa|[5.0,3.6,1.4,0.2]|        13|\n",
      "|         5.4|        3.9|         1.7|        0.4|Iris-setosa|[5.4,3.9,1.7,0.4]|        17|\n",
      "|         4.6|        3.4|         1.4|        0.3|Iris-setosa|[4.6,3.4,1.4,0.3]|         0|\n",
      "|         5.0|        3.4|         1.5|        0.2|Iris-setosa|[5.0,3.4,1.5,0.2]|        13|\n",
      "|         4.4|        2.9|         1.4|        0.2|Iris-setosa|[4.4,2.9,1.4,0.2]|         0|\n",
      "|         4.9|        3.1|         1.5|        0.1|Iris-setosa|[4.9,3.1,1.5,0.1]|         0|\n",
      "|         5.4|        3.7|         1.5|        0.2|Iris-setosa|[5.4,3.7,1.5,0.2]|        17|\n",
      "|         4.8|        3.4|         1.6|        0.2|Iris-setosa|[4.8,3.4,1.6,0.2]|        13|\n",
      "|         4.8|        3.0|         1.4|        0.1|Iris-setosa|[4.8,3.0,1.4,0.1]|         0|\n",
      "|         4.3|        3.0|         1.1|        0.1|Iris-setosa|[4.3,3.0,1.1,0.1]|         0|\n",
      "|         5.8|        4.0|         1.2|        0.2|Iris-setosa|[5.8,4.0,1.2,0.2]|        17|\n",
      "|         5.7|        4.4|         1.5|        0.4|Iris-setosa|[5.7,4.4,1.5,0.4]|        17|\n",
      "|         5.4|        3.9|         1.3|        0.4|Iris-setosa|[5.4,3.9,1.3,0.4]|        17|\n",
      "|         5.1|        3.5|         1.4|        0.3|Iris-setosa|[5.1,3.5,1.4,0.3]|        13|\n",
      "|         5.7|        3.8|         1.7|        0.3|Iris-setosa|[5.7,3.8,1.7,0.3]|        17|\n",
      "|         5.1|        3.8|         1.5|        0.3|Iris-setosa|[5.1,3.8,1.5,0.3]|        13|\n",
      "+------------+-----------+------------+-----------+-----------+-----------------+----------+\n",
      "only showing top 20 rows\n",
      "\n"
     ]
    }
   ],
   "source": [
    "# predictions about where each datum belongs to (which cluster)\n",
    "\n",
    "predictions.show()"
   ]
  },
  {
   "cell_type": "code",
   "execution_count": 54,
   "metadata": {
    "ExecuteTime": {
     "end_time": "2021-03-26T13:05:47.939231Z",
     "start_time": "2021-03-26T13:05:47.931123Z"
    }
   },
   "outputs": [
    {
     "name": "stdout",
     "output_type": "stream",
     "text": [
      "Cluster centres: \n",
      "[array([5.006, 3.418, 1.464, 0.244]), array([5.9016129 , 2.7483871 , 4.39354839, 1.43387097]), array([6.85      , 3.07368421, 5.74210526, 2.07105263])]\n",
      "Silhouette with squared euclidean distances: \n",
      "0.41630359018309143\n"
     ]
    }
   ],
   "source": [
    "# show cluster centres and silhouette score\n",
    "\n",
    "print(\"Cluster centres: \")\n",
    "print(cluster_centres)\n",
    "print(\"Silhouette with squared euclidean distances: \")\n",
    "print(silhouette)"
   ]
  },
  {
   "cell_type": "markdown",
   "metadata": {},
   "source": [
    "## Visualization\n",
    "\n",
    "Let us visualize how clustering has performed against the true labels of the data and the clusters that were built.\n",
    "\n",
    "Notice that, despite k-means does not use true labels while training, we can use them to figure how it performed. \n"
   ]
  },
  {
   "cell_type": "code",
   "execution_count": 55,
   "metadata": {
    "ExecuteTime": {
     "end_time": "2021-03-26T13:05:49.187238Z",
     "start_time": "2021-03-26T13:05:49.114646Z"
    }
   },
   "outputs": [
    {
     "data": {
      "text/html": [
       "<div>\n",
       "<style scoped>\n",
       "    .dataframe tbody tr th:only-of-type {\n",
       "        vertical-align: middle;\n",
       "    }\n",
       "\n",
       "    .dataframe tbody tr th {\n",
       "        vertical-align: top;\n",
       "    }\n",
       "\n",
       "    .dataframe thead th {\n",
       "        text-align: right;\n",
       "    }\n",
       "</style>\n",
       "<table border=\"1\" class=\"dataframe\">\n",
       "  <thead>\n",
       "    <tr style=\"text-align: right;\">\n",
       "      <th></th>\n",
       "      <th>sepal_length</th>\n",
       "      <th>sepal_width</th>\n",
       "      <th>petal_length</th>\n",
       "      <th>petal_width</th>\n",
       "      <th>features</th>\n",
       "      <th>prediction</th>\n",
       "    </tr>\n",
       "    <tr>\n",
       "      <th>class</th>\n",
       "      <th></th>\n",
       "      <th></th>\n",
       "      <th></th>\n",
       "      <th></th>\n",
       "      <th></th>\n",
       "      <th></th>\n",
       "    </tr>\n",
       "  </thead>\n",
       "  <tbody>\n",
       "    <tr>\n",
       "      <th>Iris-setosa</th>\n",
       "      <td>5.1</td>\n",
       "      <td>3.5</td>\n",
       "      <td>1.4</td>\n",
       "      <td>0.2</td>\n",
       "      <td>[5.1, 3.5, 1.4, 0.2]</td>\n",
       "      <td>13</td>\n",
       "    </tr>\n",
       "    <tr>\n",
       "      <th>Iris-setosa</th>\n",
       "      <td>4.9</td>\n",
       "      <td>3.0</td>\n",
       "      <td>1.4</td>\n",
       "      <td>0.2</td>\n",
       "      <td>[4.9, 3.0, 1.4, 0.2]</td>\n",
       "      <td>0</td>\n",
       "    </tr>\n",
       "    <tr>\n",
       "      <th>Iris-setosa</th>\n",
       "      <td>4.7</td>\n",
       "      <td>3.2</td>\n",
       "      <td>1.3</td>\n",
       "      <td>0.2</td>\n",
       "      <td>[4.7, 3.2, 1.3, 0.2]</td>\n",
       "      <td>0</td>\n",
       "    </tr>\n",
       "    <tr>\n",
       "      <th>Iris-setosa</th>\n",
       "      <td>4.6</td>\n",
       "      <td>3.1</td>\n",
       "      <td>1.5</td>\n",
       "      <td>0.2</td>\n",
       "      <td>[4.6, 3.1, 1.5, 0.2]</td>\n",
       "      <td>0</td>\n",
       "    </tr>\n",
       "    <tr>\n",
       "      <th>Iris-setosa</th>\n",
       "      <td>5.0</td>\n",
       "      <td>3.6</td>\n",
       "      <td>1.4</td>\n",
       "      <td>0.2</td>\n",
       "      <td>[5.0, 3.6, 1.4, 0.2]</td>\n",
       "      <td>13</td>\n",
       "    </tr>\n",
       "    <tr>\n",
       "      <th>Iris-setosa</th>\n",
       "      <td>5.4</td>\n",
       "      <td>3.9</td>\n",
       "      <td>1.7</td>\n",
       "      <td>0.4</td>\n",
       "      <td>[5.4, 3.9, 1.7, 0.4]</td>\n",
       "      <td>17</td>\n",
       "    </tr>\n",
       "    <tr>\n",
       "      <th>Iris-setosa</th>\n",
       "      <td>4.6</td>\n",
       "      <td>3.4</td>\n",
       "      <td>1.4</td>\n",
       "      <td>0.3</td>\n",
       "      <td>[4.6, 3.4, 1.4, 0.3]</td>\n",
       "      <td>0</td>\n",
       "    </tr>\n",
       "    <tr>\n",
       "      <th>Iris-setosa</th>\n",
       "      <td>5.0</td>\n",
       "      <td>3.4</td>\n",
       "      <td>1.5</td>\n",
       "      <td>0.2</td>\n",
       "      <td>[5.0, 3.4, 1.5, 0.2]</td>\n",
       "      <td>13</td>\n",
       "    </tr>\n",
       "    <tr>\n",
       "      <th>Iris-setosa</th>\n",
       "      <td>4.4</td>\n",
       "      <td>2.9</td>\n",
       "      <td>1.4</td>\n",
       "      <td>0.2</td>\n",
       "      <td>[4.4, 2.9, 1.4, 0.2]</td>\n",
       "      <td>0</td>\n",
       "    </tr>\n",
       "    <tr>\n",
       "      <th>Iris-setosa</th>\n",
       "      <td>4.9</td>\n",
       "      <td>3.1</td>\n",
       "      <td>1.5</td>\n",
       "      <td>0.1</td>\n",
       "      <td>[4.9, 3.1, 1.5, 0.1]</td>\n",
       "      <td>0</td>\n",
       "    </tr>\n",
       "    <tr>\n",
       "      <th>Iris-setosa</th>\n",
       "      <td>5.4</td>\n",
       "      <td>3.7</td>\n",
       "      <td>1.5</td>\n",
       "      <td>0.2</td>\n",
       "      <td>[5.4, 3.7, 1.5, 0.2]</td>\n",
       "      <td>17</td>\n",
       "    </tr>\n",
       "    <tr>\n",
       "      <th>Iris-setosa</th>\n",
       "      <td>4.8</td>\n",
       "      <td>3.4</td>\n",
       "      <td>1.6</td>\n",
       "      <td>0.2</td>\n",
       "      <td>[4.8, 3.4, 1.6, 0.2]</td>\n",
       "      <td>13</td>\n",
       "    </tr>\n",
       "    <tr>\n",
       "      <th>Iris-setosa</th>\n",
       "      <td>4.8</td>\n",
       "      <td>3.0</td>\n",
       "      <td>1.4</td>\n",
       "      <td>0.1</td>\n",
       "      <td>[4.8, 3.0, 1.4, 0.1]</td>\n",
       "      <td>0</td>\n",
       "    </tr>\n",
       "    <tr>\n",
       "      <th>Iris-setosa</th>\n",
       "      <td>4.3</td>\n",
       "      <td>3.0</td>\n",
       "      <td>1.1</td>\n",
       "      <td>0.1</td>\n",
       "      <td>[4.3, 3.0, 1.1, 0.1]</td>\n",
       "      <td>0</td>\n",
       "    </tr>\n",
       "    <tr>\n",
       "      <th>Iris-setosa</th>\n",
       "      <td>5.8</td>\n",
       "      <td>4.0</td>\n",
       "      <td>1.2</td>\n",
       "      <td>0.2</td>\n",
       "      <td>[5.8, 4.0, 1.2, 0.2]</td>\n",
       "      <td>17</td>\n",
       "    </tr>\n",
       "    <tr>\n",
       "      <th>Iris-setosa</th>\n",
       "      <td>5.7</td>\n",
       "      <td>4.4</td>\n",
       "      <td>1.5</td>\n",
       "      <td>0.4</td>\n",
       "      <td>[5.7, 4.4, 1.5, 0.4]</td>\n",
       "      <td>17</td>\n",
       "    </tr>\n",
       "    <tr>\n",
       "      <th>Iris-setosa</th>\n",
       "      <td>5.4</td>\n",
       "      <td>3.9</td>\n",
       "      <td>1.3</td>\n",
       "      <td>0.4</td>\n",
       "      <td>[5.4, 3.9, 1.3, 0.4]</td>\n",
       "      <td>17</td>\n",
       "    </tr>\n",
       "    <tr>\n",
       "      <th>Iris-setosa</th>\n",
       "      <td>5.1</td>\n",
       "      <td>3.5</td>\n",
       "      <td>1.4</td>\n",
       "      <td>0.3</td>\n",
       "      <td>[5.1, 3.5, 1.4, 0.3]</td>\n",
       "      <td>13</td>\n",
       "    </tr>\n",
       "    <tr>\n",
       "      <th>Iris-setosa</th>\n",
       "      <td>5.7</td>\n",
       "      <td>3.8</td>\n",
       "      <td>1.7</td>\n",
       "      <td>0.3</td>\n",
       "      <td>[5.7, 3.8, 1.7, 0.3]</td>\n",
       "      <td>17</td>\n",
       "    </tr>\n",
       "    <tr>\n",
       "      <th>Iris-setosa</th>\n",
       "      <td>5.1</td>\n",
       "      <td>3.8</td>\n",
       "      <td>1.5</td>\n",
       "      <td>0.3</td>\n",
       "      <td>[5.1, 3.8, 1.5, 0.3]</td>\n",
       "      <td>13</td>\n",
       "    </tr>\n",
       "    <tr>\n",
       "      <th>Iris-setosa</th>\n",
       "      <td>5.4</td>\n",
       "      <td>3.4</td>\n",
       "      <td>1.7</td>\n",
       "      <td>0.2</td>\n",
       "      <td>[5.4, 3.4, 1.7, 0.2]</td>\n",
       "      <td>13</td>\n",
       "    </tr>\n",
       "    <tr>\n",
       "      <th>Iris-setosa</th>\n",
       "      <td>5.1</td>\n",
       "      <td>3.7</td>\n",
       "      <td>1.5</td>\n",
       "      <td>0.4</td>\n",
       "      <td>[5.1, 3.7, 1.5, 0.4]</td>\n",
       "      <td>13</td>\n",
       "    </tr>\n",
       "    <tr>\n",
       "      <th>Iris-setosa</th>\n",
       "      <td>4.6</td>\n",
       "      <td>3.6</td>\n",
       "      <td>1.0</td>\n",
       "      <td>0.2</td>\n",
       "      <td>[4.6, 3.6, 1.0, 0.2]</td>\n",
       "      <td>0</td>\n",
       "    </tr>\n",
       "    <tr>\n",
       "      <th>Iris-setosa</th>\n",
       "      <td>5.1</td>\n",
       "      <td>3.3</td>\n",
       "      <td>1.7</td>\n",
       "      <td>0.5</td>\n",
       "      <td>[5.1, 3.3, 1.7, 0.5]</td>\n",
       "      <td>13</td>\n",
       "    </tr>\n",
       "    <tr>\n",
       "      <th>Iris-setosa</th>\n",
       "      <td>4.8</td>\n",
       "      <td>3.4</td>\n",
       "      <td>1.9</td>\n",
       "      <td>0.2</td>\n",
       "      <td>[4.8, 3.4, 1.9, 0.2]</td>\n",
       "      <td>13</td>\n",
       "    </tr>\n",
       "    <tr>\n",
       "      <th>Iris-setosa</th>\n",
       "      <td>5.0</td>\n",
       "      <td>3.0</td>\n",
       "      <td>1.6</td>\n",
       "      <td>0.2</td>\n",
       "      <td>[5.0, 3.0, 1.6, 0.2]</td>\n",
       "      <td>0</td>\n",
       "    </tr>\n",
       "    <tr>\n",
       "      <th>Iris-setosa</th>\n",
       "      <td>5.0</td>\n",
       "      <td>3.4</td>\n",
       "      <td>1.6</td>\n",
       "      <td>0.4</td>\n",
       "      <td>[5.0, 3.4, 1.6, 0.4]</td>\n",
       "      <td>13</td>\n",
       "    </tr>\n",
       "    <tr>\n",
       "      <th>Iris-setosa</th>\n",
       "      <td>5.2</td>\n",
       "      <td>3.5</td>\n",
       "      <td>1.5</td>\n",
       "      <td>0.2</td>\n",
       "      <td>[5.2, 3.5, 1.5, 0.2]</td>\n",
       "      <td>13</td>\n",
       "    </tr>\n",
       "    <tr>\n",
       "      <th>Iris-setosa</th>\n",
       "      <td>5.2</td>\n",
       "      <td>3.4</td>\n",
       "      <td>1.4</td>\n",
       "      <td>0.2</td>\n",
       "      <td>[5.2, 3.4, 1.4, 0.2]</td>\n",
       "      <td>13</td>\n",
       "    </tr>\n",
       "    <tr>\n",
       "      <th>Iris-setosa</th>\n",
       "      <td>4.7</td>\n",
       "      <td>3.2</td>\n",
       "      <td>1.6</td>\n",
       "      <td>0.2</td>\n",
       "      <td>[4.7, 3.2, 1.6, 0.2]</td>\n",
       "      <td>0</td>\n",
       "    </tr>\n",
       "    <tr>\n",
       "      <th>...</th>\n",
       "      <td>...</td>\n",
       "      <td>...</td>\n",
       "      <td>...</td>\n",
       "      <td>...</td>\n",
       "      <td>...</td>\n",
       "      <td>...</td>\n",
       "    </tr>\n",
       "    <tr>\n",
       "      <th>Iris-versicolor</th>\n",
       "      <td>5.9</td>\n",
       "      <td>3.2</td>\n",
       "      <td>4.8</td>\n",
       "      <td>1.8</td>\n",
       "      <td>[5.9, 3.2, 4.8, 1.8]</td>\n",
       "      <td>14</td>\n",
       "    </tr>\n",
       "    <tr>\n",
       "      <th>Iris-versicolor</th>\n",
       "      <td>6.1</td>\n",
       "      <td>2.8</td>\n",
       "      <td>4.0</td>\n",
       "      <td>1.3</td>\n",
       "      <td>[6.1, 2.8, 4.0, 1.3]</td>\n",
       "      <td>10</td>\n",
       "    </tr>\n",
       "    <tr>\n",
       "      <th>Iris-versicolor</th>\n",
       "      <td>6.3</td>\n",
       "      <td>2.5</td>\n",
       "      <td>4.9</td>\n",
       "      <td>1.5</td>\n",
       "      <td>[6.3, 2.5, 4.9, 1.5]</td>\n",
       "      <td>18</td>\n",
       "    </tr>\n",
       "    <tr>\n",
       "      <th>Iris-versicolor</th>\n",
       "      <td>6.1</td>\n",
       "      <td>2.8</td>\n",
       "      <td>4.7</td>\n",
       "      <td>1.2</td>\n",
       "      <td>[6.1, 2.8, 4.7, 1.2]</td>\n",
       "      <td>6</td>\n",
       "    </tr>\n",
       "    <tr>\n",
       "      <th>Iris-versicolor</th>\n",
       "      <td>6.4</td>\n",
       "      <td>2.9</td>\n",
       "      <td>4.3</td>\n",
       "      <td>1.3</td>\n",
       "      <td>[6.4, 2.9, 4.3, 1.3]</td>\n",
       "      <td>6</td>\n",
       "    </tr>\n",
       "    <tr>\n",
       "      <th>Iris-versicolor</th>\n",
       "      <td>6.6</td>\n",
       "      <td>3.0</td>\n",
       "      <td>4.4</td>\n",
       "      <td>1.4</td>\n",
       "      <td>[6.6, 3.0, 4.4, 1.4]</td>\n",
       "      <td>11</td>\n",
       "    </tr>\n",
       "    <tr>\n",
       "      <th>Iris-versicolor</th>\n",
       "      <td>6.8</td>\n",
       "      <td>2.8</td>\n",
       "      <td>4.8</td>\n",
       "      <td>1.4</td>\n",
       "      <td>[6.8, 2.8, 4.8, 1.4]</td>\n",
       "      <td>11</td>\n",
       "    </tr>\n",
       "    <tr>\n",
       "      <th>Iris-versicolor</th>\n",
       "      <td>6.7</td>\n",
       "      <td>3.0</td>\n",
       "      <td>5.0</td>\n",
       "      <td>1.7</td>\n",
       "      <td>[6.7, 3.0, 5.0, 1.7]</td>\n",
       "      <td>12</td>\n",
       "    </tr>\n",
       "    <tr>\n",
       "      <th>Iris-versicolor</th>\n",
       "      <td>6.0</td>\n",
       "      <td>2.9</td>\n",
       "      <td>4.5</td>\n",
       "      <td>1.5</td>\n",
       "      <td>[6.0, 2.9, 4.5, 1.5]</td>\n",
       "      <td>6</td>\n",
       "    </tr>\n",
       "    <tr>\n",
       "      <th>Iris-versicolor</th>\n",
       "      <td>5.7</td>\n",
       "      <td>2.6</td>\n",
       "      <td>3.5</td>\n",
       "      <td>1.0</td>\n",
       "      <td>[5.7, 2.6, 3.5, 1.0]</td>\n",
       "      <td>16</td>\n",
       "    </tr>\n",
       "    <tr>\n",
       "      <th>Iris-versicolor</th>\n",
       "      <td>5.5</td>\n",
       "      <td>2.4</td>\n",
       "      <td>3.8</td>\n",
       "      <td>1.1</td>\n",
       "      <td>[5.5, 2.4, 3.8, 1.1]</td>\n",
       "      <td>16</td>\n",
       "    </tr>\n",
       "    <tr>\n",
       "      <th>Iris-versicolor</th>\n",
       "      <td>5.5</td>\n",
       "      <td>2.4</td>\n",
       "      <td>3.7</td>\n",
       "      <td>1.0</td>\n",
       "      <td>[5.5, 2.4, 3.7, 1.0]</td>\n",
       "      <td>16</td>\n",
       "    </tr>\n",
       "    <tr>\n",
       "      <th>Iris-versicolor</th>\n",
       "      <td>5.8</td>\n",
       "      <td>2.7</td>\n",
       "      <td>3.9</td>\n",
       "      <td>1.2</td>\n",
       "      <td>[5.8, 2.7, 3.9, 1.2]</td>\n",
       "      <td>10</td>\n",
       "    </tr>\n",
       "    <tr>\n",
       "      <th>Iris-versicolor</th>\n",
       "      <td>6.0</td>\n",
       "      <td>2.7</td>\n",
       "      <td>5.1</td>\n",
       "      <td>1.6</td>\n",
       "      <td>[6.0, 2.7, 5.1, 1.6]</td>\n",
       "      <td>18</td>\n",
       "    </tr>\n",
       "    <tr>\n",
       "      <th>Iris-versicolor</th>\n",
       "      <td>5.4</td>\n",
       "      <td>3.0</td>\n",
       "      <td>4.5</td>\n",
       "      <td>1.5</td>\n",
       "      <td>[5.4, 3.0, 4.5, 1.5]</td>\n",
       "      <td>4</td>\n",
       "    </tr>\n",
       "    <tr>\n",
       "      <th>Iris-versicolor</th>\n",
       "      <td>6.0</td>\n",
       "      <td>3.4</td>\n",
       "      <td>4.5</td>\n",
       "      <td>1.6</td>\n",
       "      <td>[6.0, 3.4, 4.5, 1.6]</td>\n",
       "      <td>6</td>\n",
       "    </tr>\n",
       "    <tr>\n",
       "      <th>Iris-versicolor</th>\n",
       "      <td>6.7</td>\n",
       "      <td>3.1</td>\n",
       "      <td>4.7</td>\n",
       "      <td>1.5</td>\n",
       "      <td>[6.7, 3.1, 4.7, 1.5]</td>\n",
       "      <td>11</td>\n",
       "    </tr>\n",
       "    <tr>\n",
       "      <th>Iris-versicolor</th>\n",
       "      <td>6.3</td>\n",
       "      <td>2.3</td>\n",
       "      <td>4.4</td>\n",
       "      <td>1.3</td>\n",
       "      <td>[6.3, 2.3, 4.4, 1.3]</td>\n",
       "      <td>5</td>\n",
       "    </tr>\n",
       "    <tr>\n",
       "      <th>Iris-versicolor</th>\n",
       "      <td>5.6</td>\n",
       "      <td>3.0</td>\n",
       "      <td>4.1</td>\n",
       "      <td>1.3</td>\n",
       "      <td>[5.6, 3.0, 4.1, 1.3]</td>\n",
       "      <td>10</td>\n",
       "    </tr>\n",
       "    <tr>\n",
       "      <th>Iris-versicolor</th>\n",
       "      <td>5.5</td>\n",
       "      <td>2.5</td>\n",
       "      <td>4.0</td>\n",
       "      <td>1.3</td>\n",
       "      <td>[5.5, 2.5, 4.0, 1.3]</td>\n",
       "      <td>16</td>\n",
       "    </tr>\n",
       "    <tr>\n",
       "      <th>Iris-versicolor</th>\n",
       "      <td>5.5</td>\n",
       "      <td>2.6</td>\n",
       "      <td>4.4</td>\n",
       "      <td>1.2</td>\n",
       "      <td>[5.5, 2.6, 4.4, 1.2]</td>\n",
       "      <td>10</td>\n",
       "    </tr>\n",
       "    <tr>\n",
       "      <th>Iris-versicolor</th>\n",
       "      <td>6.1</td>\n",
       "      <td>3.0</td>\n",
       "      <td>4.6</td>\n",
       "      <td>1.4</td>\n",
       "      <td>[6.1, 3.0, 4.6, 1.4]</td>\n",
       "      <td>6</td>\n",
       "    </tr>\n",
       "    <tr>\n",
       "      <th>Iris-versicolor</th>\n",
       "      <td>5.8</td>\n",
       "      <td>2.6</td>\n",
       "      <td>4.0</td>\n",
       "      <td>1.2</td>\n",
       "      <td>[5.8, 2.6, 4.0, 1.2]</td>\n",
       "      <td>10</td>\n",
       "    </tr>\n",
       "    <tr>\n",
       "      <th>Iris-versicolor</th>\n",
       "      <td>5.0</td>\n",
       "      <td>2.3</td>\n",
       "      <td>3.3</td>\n",
       "      <td>1.0</td>\n",
       "      <td>[5.0, 2.3, 3.3, 1.0]</td>\n",
       "      <td>9</td>\n",
       "    </tr>\n",
       "    <tr>\n",
       "      <th>Iris-versicolor</th>\n",
       "      <td>5.6</td>\n",
       "      <td>2.7</td>\n",
       "      <td>4.2</td>\n",
       "      <td>1.3</td>\n",
       "      <td>[5.6, 2.7, 4.2, 1.3]</td>\n",
       "      <td>10</td>\n",
       "    </tr>\n",
       "    <tr>\n",
       "      <th>Iris-versicolor</th>\n",
       "      <td>5.7</td>\n",
       "      <td>3.0</td>\n",
       "      <td>4.2</td>\n",
       "      <td>1.2</td>\n",
       "      <td>[5.7, 3.0, 4.2, 1.2]</td>\n",
       "      <td>10</td>\n",
       "    </tr>\n",
       "    <tr>\n",
       "      <th>Iris-versicolor</th>\n",
       "      <td>5.7</td>\n",
       "      <td>2.9</td>\n",
       "      <td>4.2</td>\n",
       "      <td>1.3</td>\n",
       "      <td>[5.7, 2.9, 4.2, 1.3]</td>\n",
       "      <td>10</td>\n",
       "    </tr>\n",
       "    <tr>\n",
       "      <th>Iris-versicolor</th>\n",
       "      <td>6.2</td>\n",
       "      <td>2.9</td>\n",
       "      <td>4.3</td>\n",
       "      <td>1.3</td>\n",
       "      <td>[6.2, 2.9, 4.3, 1.3]</td>\n",
       "      <td>6</td>\n",
       "    </tr>\n",
       "    <tr>\n",
       "      <th>Iris-versicolor</th>\n",
       "      <td>5.1</td>\n",
       "      <td>2.5</td>\n",
       "      <td>3.0</td>\n",
       "      <td>1.1</td>\n",
       "      <td>[5.1, 2.5, 3.0, 1.1]</td>\n",
       "      <td>9</td>\n",
       "    </tr>\n",
       "    <tr>\n",
       "      <th>Iris-versicolor</th>\n",
       "      <td>5.7</td>\n",
       "      <td>2.8</td>\n",
       "      <td>4.1</td>\n",
       "      <td>1.3</td>\n",
       "      <td>[5.7, 2.8, 4.1, 1.3]</td>\n",
       "      <td>10</td>\n",
       "    </tr>\n",
       "  </tbody>\n",
       "</table>\n",
       "<p>100 rows × 6 columns</p>\n",
       "</div>"
      ],
      "text/plain": [
       "                 sepal_length  sepal_width  petal_length  petal_width  \\\n",
       "class                                                                   \n",
       "Iris-setosa               5.1          3.5           1.4          0.2   \n",
       "Iris-setosa               4.9          3.0           1.4          0.2   \n",
       "Iris-setosa               4.7          3.2           1.3          0.2   \n",
       "Iris-setosa               4.6          3.1           1.5          0.2   \n",
       "Iris-setosa               5.0          3.6           1.4          0.2   \n",
       "Iris-setosa               5.4          3.9           1.7          0.4   \n",
       "Iris-setosa               4.6          3.4           1.4          0.3   \n",
       "Iris-setosa               5.0          3.4           1.5          0.2   \n",
       "Iris-setosa               4.4          2.9           1.4          0.2   \n",
       "Iris-setosa               4.9          3.1           1.5          0.1   \n",
       "Iris-setosa               5.4          3.7           1.5          0.2   \n",
       "Iris-setosa               4.8          3.4           1.6          0.2   \n",
       "Iris-setosa               4.8          3.0           1.4          0.1   \n",
       "Iris-setosa               4.3          3.0           1.1          0.1   \n",
       "Iris-setosa               5.8          4.0           1.2          0.2   \n",
       "Iris-setosa               5.7          4.4           1.5          0.4   \n",
       "Iris-setosa               5.4          3.9           1.3          0.4   \n",
       "Iris-setosa               5.1          3.5           1.4          0.3   \n",
       "Iris-setosa               5.7          3.8           1.7          0.3   \n",
       "Iris-setosa               5.1          3.8           1.5          0.3   \n",
       "Iris-setosa               5.4          3.4           1.7          0.2   \n",
       "Iris-setosa               5.1          3.7           1.5          0.4   \n",
       "Iris-setosa               4.6          3.6           1.0          0.2   \n",
       "Iris-setosa               5.1          3.3           1.7          0.5   \n",
       "Iris-setosa               4.8          3.4           1.9          0.2   \n",
       "Iris-setosa               5.0          3.0           1.6          0.2   \n",
       "Iris-setosa               5.0          3.4           1.6          0.4   \n",
       "Iris-setosa               5.2          3.5           1.5          0.2   \n",
       "Iris-setosa               5.2          3.4           1.4          0.2   \n",
       "Iris-setosa               4.7          3.2           1.6          0.2   \n",
       "...                       ...          ...           ...          ...   \n",
       "Iris-versicolor           5.9          3.2           4.8          1.8   \n",
       "Iris-versicolor           6.1          2.8           4.0          1.3   \n",
       "Iris-versicolor           6.3          2.5           4.9          1.5   \n",
       "Iris-versicolor           6.1          2.8           4.7          1.2   \n",
       "Iris-versicolor           6.4          2.9           4.3          1.3   \n",
       "Iris-versicolor           6.6          3.0           4.4          1.4   \n",
       "Iris-versicolor           6.8          2.8           4.8          1.4   \n",
       "Iris-versicolor           6.7          3.0           5.0          1.7   \n",
       "Iris-versicolor           6.0          2.9           4.5          1.5   \n",
       "Iris-versicolor           5.7          2.6           3.5          1.0   \n",
       "Iris-versicolor           5.5          2.4           3.8          1.1   \n",
       "Iris-versicolor           5.5          2.4           3.7          1.0   \n",
       "Iris-versicolor           5.8          2.7           3.9          1.2   \n",
       "Iris-versicolor           6.0          2.7           5.1          1.6   \n",
       "Iris-versicolor           5.4          3.0           4.5          1.5   \n",
       "Iris-versicolor           6.0          3.4           4.5          1.6   \n",
       "Iris-versicolor           6.7          3.1           4.7          1.5   \n",
       "Iris-versicolor           6.3          2.3           4.4          1.3   \n",
       "Iris-versicolor           5.6          3.0           4.1          1.3   \n",
       "Iris-versicolor           5.5          2.5           4.0          1.3   \n",
       "Iris-versicolor           5.5          2.6           4.4          1.2   \n",
       "Iris-versicolor           6.1          3.0           4.6          1.4   \n",
       "Iris-versicolor           5.8          2.6           4.0          1.2   \n",
       "Iris-versicolor           5.0          2.3           3.3          1.0   \n",
       "Iris-versicolor           5.6          2.7           4.2          1.3   \n",
       "Iris-versicolor           5.7          3.0           4.2          1.2   \n",
       "Iris-versicolor           5.7          2.9           4.2          1.3   \n",
       "Iris-versicolor           6.2          2.9           4.3          1.3   \n",
       "Iris-versicolor           5.1          2.5           3.0          1.1   \n",
       "Iris-versicolor           5.7          2.8           4.1          1.3   \n",
       "\n",
       "                             features  prediction  \n",
       "class                                              \n",
       "Iris-setosa      [5.1, 3.5, 1.4, 0.2]          13  \n",
       "Iris-setosa      [4.9, 3.0, 1.4, 0.2]           0  \n",
       "Iris-setosa      [4.7, 3.2, 1.3, 0.2]           0  \n",
       "Iris-setosa      [4.6, 3.1, 1.5, 0.2]           0  \n",
       "Iris-setosa      [5.0, 3.6, 1.4, 0.2]          13  \n",
       "Iris-setosa      [5.4, 3.9, 1.7, 0.4]          17  \n",
       "Iris-setosa      [4.6, 3.4, 1.4, 0.3]           0  \n",
       "Iris-setosa      [5.0, 3.4, 1.5, 0.2]          13  \n",
       "Iris-setosa      [4.4, 2.9, 1.4, 0.2]           0  \n",
       "Iris-setosa      [4.9, 3.1, 1.5, 0.1]           0  \n",
       "Iris-setosa      [5.4, 3.7, 1.5, 0.2]          17  \n",
       "Iris-setosa      [4.8, 3.4, 1.6, 0.2]          13  \n",
       "Iris-setosa      [4.8, 3.0, 1.4, 0.1]           0  \n",
       "Iris-setosa      [4.3, 3.0, 1.1, 0.1]           0  \n",
       "Iris-setosa      [5.8, 4.0, 1.2, 0.2]          17  \n",
       "Iris-setosa      [5.7, 4.4, 1.5, 0.4]          17  \n",
       "Iris-setosa      [5.4, 3.9, 1.3, 0.4]          17  \n",
       "Iris-setosa      [5.1, 3.5, 1.4, 0.3]          13  \n",
       "Iris-setosa      [5.7, 3.8, 1.7, 0.3]          17  \n",
       "Iris-setosa      [5.1, 3.8, 1.5, 0.3]          13  \n",
       "Iris-setosa      [5.4, 3.4, 1.7, 0.2]          13  \n",
       "Iris-setosa      [5.1, 3.7, 1.5, 0.4]          13  \n",
       "Iris-setosa      [4.6, 3.6, 1.0, 0.2]           0  \n",
       "Iris-setosa      [5.1, 3.3, 1.7, 0.5]          13  \n",
       "Iris-setosa      [4.8, 3.4, 1.9, 0.2]          13  \n",
       "Iris-setosa      [5.0, 3.0, 1.6, 0.2]           0  \n",
       "Iris-setosa      [5.0, 3.4, 1.6, 0.4]          13  \n",
       "Iris-setosa      [5.2, 3.5, 1.5, 0.2]          13  \n",
       "Iris-setosa      [5.2, 3.4, 1.4, 0.2]          13  \n",
       "Iris-setosa      [4.7, 3.2, 1.6, 0.2]           0  \n",
       "...                               ...         ...  \n",
       "Iris-versicolor  [5.9, 3.2, 4.8, 1.8]          14  \n",
       "Iris-versicolor  [6.1, 2.8, 4.0, 1.3]          10  \n",
       "Iris-versicolor  [6.3, 2.5, 4.9, 1.5]          18  \n",
       "Iris-versicolor  [6.1, 2.8, 4.7, 1.2]           6  \n",
       "Iris-versicolor  [6.4, 2.9, 4.3, 1.3]           6  \n",
       "Iris-versicolor  [6.6, 3.0, 4.4, 1.4]          11  \n",
       "Iris-versicolor  [6.8, 2.8, 4.8, 1.4]          11  \n",
       "Iris-versicolor  [6.7, 3.0, 5.0, 1.7]          12  \n",
       "Iris-versicolor  [6.0, 2.9, 4.5, 1.5]           6  \n",
       "Iris-versicolor  [5.7, 2.6, 3.5, 1.0]          16  \n",
       "Iris-versicolor  [5.5, 2.4, 3.8, 1.1]          16  \n",
       "Iris-versicolor  [5.5, 2.4, 3.7, 1.0]          16  \n",
       "Iris-versicolor  [5.8, 2.7, 3.9, 1.2]          10  \n",
       "Iris-versicolor  [6.0, 2.7, 5.1, 1.6]          18  \n",
       "Iris-versicolor  [5.4, 3.0, 4.5, 1.5]           4  \n",
       "Iris-versicolor  [6.0, 3.4, 4.5, 1.6]           6  \n",
       "Iris-versicolor  [6.7, 3.1, 4.7, 1.5]          11  \n",
       "Iris-versicolor  [6.3, 2.3, 4.4, 1.3]           5  \n",
       "Iris-versicolor  [5.6, 3.0, 4.1, 1.3]          10  \n",
       "Iris-versicolor  [5.5, 2.5, 4.0, 1.3]          16  \n",
       "Iris-versicolor  [5.5, 2.6, 4.4, 1.2]          10  \n",
       "Iris-versicolor  [6.1, 3.0, 4.6, 1.4]           6  \n",
       "Iris-versicolor  [5.8, 2.6, 4.0, 1.2]          10  \n",
       "Iris-versicolor  [5.0, 2.3, 3.3, 1.0]           9  \n",
       "Iris-versicolor  [5.6, 2.7, 4.2, 1.3]          10  \n",
       "Iris-versicolor  [5.7, 3.0, 4.2, 1.2]          10  \n",
       "Iris-versicolor  [5.7, 2.9, 4.2, 1.3]          10  \n",
       "Iris-versicolor  [6.2, 2.9, 4.3, 1.3]           6  \n",
       "Iris-versicolor  [5.1, 2.5, 3.0, 1.1]           9  \n",
       "Iris-versicolor  [5.7, 2.8, 4.1, 1.3]          10  \n",
       "\n",
       "[100 rows x 6 columns]"
      ]
     },
     "execution_count": 55,
     "metadata": {},
     "output_type": "execute_result"
    }
   ],
   "source": [
    "df_plot = predictions.toPandas().set_index('class')\n",
    "df_plot"
   ]
  },
  {
   "cell_type": "code",
   "execution_count": 65,
   "metadata": {
    "ExecuteTime": {
     "end_time": "2021-03-26T13:07:54.598322Z",
     "start_time": "2021-03-26T13:07:54.396864Z"
    }
   },
   "outputs": [
    {
     "data": {
      "image/png": "[encoded data removed]",
      "text/plain": [
       "<Figure size 1296x1152 with 1 Axes>"
      ]
     },
     "metadata": {},
     "output_type": "display_data"
    }
   ],
   "source": [
    "# some visualization ... just 3 features\n",
    "\n",
    "plot3D = plt.figure(figsize=(18,16)).gca(projection='3d')\n",
    "plot3D.scatter(df_plot.petal_width, df_plot.sepal_width, df_plot.sepal_length, c=df_plot.prediction)\n",
    "plot3D.set_xlabel('petal width')\n",
    "plot3D.set_ylabel('sepal width')\n",
    "plot3D.set_zlabel('sepal length')\n",
    "\n",
    "# todo: add centroids with colour of the cluster of concern\n",
    "\n",
    "plt.show()"
   ]
  },
  {
   "cell_type": "code",
   "execution_count": 57,
   "metadata": {
    "ExecuteTime": {
     "end_time": "2021-03-26T13:05:50.490637Z",
     "start_time": "2021-03-26T13:05:50.485775Z"
    }
   },
   "outputs": [],
   "source": [
    "# to be continued, but considering prediction vs class \n"
   ]
  },
  {
   "cell_type": "code",
   "execution_count": 62,
   "metadata": {
    "ExecuteTime": {
     "end_time": "2021-03-26T13:06:45.333507Z",
     "start_time": "2021-03-26T13:06:45.204633Z"
    }
   },
   "outputs": [
    {
     "data": {
      "text/html": [
       "<div>\n",
       "<style scoped>\n",
       "    .dataframe tbody tr th:only-of-type {\n",
       "        vertical-align: middle;\n",
       "    }\n",
       "\n",
       "    .dataframe tbody tr th {\n",
       "        vertical-align: top;\n",
       "    }\n",
       "\n",
       "    .dataframe thead th {\n",
       "        text-align: right;\n",
       "    }\n",
       "</style>\n",
       "<table border=\"1\" class=\"dataframe\">\n",
       "  <thead>\n",
       "    <tr style=\"text-align: right;\">\n",
       "      <th></th>\n",
       "      <th>sepal_length</th>\n",
       "      <th>sepal_width</th>\n",
       "      <th>petal_length</th>\n",
       "      <th>petal_width</th>\n",
       "      <th>class</th>\n",
       "      <th>prediction</th>\n",
       "    </tr>\n",
       "  </thead>\n",
       "  <tbody>\n",
       "    <tr>\n",
       "      <th>0</th>\n",
       "      <td>5.1</td>\n",
       "      <td>3.5</td>\n",
       "      <td>1.4</td>\n",
       "      <td>0.2</td>\n",
       "      <td>Iris-setosa</td>\n",
       "      <td>13</td>\n",
       "    </tr>\n",
       "    <tr>\n",
       "      <th>1</th>\n",
       "      <td>4.9</td>\n",
       "      <td>3.0</td>\n",
       "      <td>1.4</td>\n",
       "      <td>0.2</td>\n",
       "      <td>Iris-setosa</td>\n",
       "      <td>0</td>\n",
       "    </tr>\n",
       "    <tr>\n",
       "      <th>2</th>\n",
       "      <td>4.7</td>\n",
       "      <td>3.2</td>\n",
       "      <td>1.3</td>\n",
       "      <td>0.2</td>\n",
       "      <td>Iris-setosa</td>\n",
       "      <td>0</td>\n",
       "    </tr>\n",
       "    <tr>\n",
       "      <th>3</th>\n",
       "      <td>4.6</td>\n",
       "      <td>3.1</td>\n",
       "      <td>1.5</td>\n",
       "      <td>0.2</td>\n",
       "      <td>Iris-setosa</td>\n",
       "      <td>0</td>\n",
       "    </tr>\n",
       "    <tr>\n",
       "      <th>4</th>\n",
       "      <td>5.0</td>\n",
       "      <td>3.6</td>\n",
       "      <td>1.4</td>\n",
       "      <td>0.2</td>\n",
       "      <td>Iris-setosa</td>\n",
       "      <td>13</td>\n",
       "    </tr>\n",
       "    <tr>\n",
       "      <th>5</th>\n",
       "      <td>5.4</td>\n",
       "      <td>3.9</td>\n",
       "      <td>1.7</td>\n",
       "      <td>0.4</td>\n",
       "      <td>Iris-setosa</td>\n",
       "      <td>17</td>\n",
       "    </tr>\n",
       "    <tr>\n",
       "      <th>6</th>\n",
       "      <td>4.6</td>\n",
       "      <td>3.4</td>\n",
       "      <td>1.4</td>\n",
       "      <td>0.3</td>\n",
       "      <td>Iris-setosa</td>\n",
       "      <td>0</td>\n",
       "    </tr>\n",
       "    <tr>\n",
       "      <th>7</th>\n",
       "      <td>5.0</td>\n",
       "      <td>3.4</td>\n",
       "      <td>1.5</td>\n",
       "      <td>0.2</td>\n",
       "      <td>Iris-setosa</td>\n",
       "      <td>13</td>\n",
       "    </tr>\n",
       "    <tr>\n",
       "      <th>8</th>\n",
       "      <td>4.4</td>\n",
       "      <td>2.9</td>\n",
       "      <td>1.4</td>\n",
       "      <td>0.2</td>\n",
       "      <td>Iris-setosa</td>\n",
       "      <td>0</td>\n",
       "    </tr>\n",
       "    <tr>\n",
       "      <th>9</th>\n",
       "      <td>4.9</td>\n",
       "      <td>3.1</td>\n",
       "      <td>1.5</td>\n",
       "      <td>0.1</td>\n",
       "      <td>Iris-setosa</td>\n",
       "      <td>0</td>\n",
       "    </tr>\n",
       "    <tr>\n",
       "      <th>10</th>\n",
       "      <td>5.4</td>\n",
       "      <td>3.7</td>\n",
       "      <td>1.5</td>\n",
       "      <td>0.2</td>\n",
       "      <td>Iris-setosa</td>\n",
       "      <td>17</td>\n",
       "    </tr>\n",
       "    <tr>\n",
       "      <th>11</th>\n",
       "      <td>4.8</td>\n",
       "      <td>3.4</td>\n",
       "      <td>1.6</td>\n",
       "      <td>0.2</td>\n",
       "      <td>Iris-setosa</td>\n",
       "      <td>13</td>\n",
       "    </tr>\n",
       "    <tr>\n",
       "      <th>12</th>\n",
       "      <td>4.8</td>\n",
       "      <td>3.0</td>\n",
       "      <td>1.4</td>\n",
       "      <td>0.1</td>\n",
       "      <td>Iris-setosa</td>\n",
       "      <td>0</td>\n",
       "    </tr>\n",
       "    <tr>\n",
       "      <th>13</th>\n",
       "      <td>4.3</td>\n",
       "      <td>3.0</td>\n",
       "      <td>1.1</td>\n",
       "      <td>0.1</td>\n",
       "      <td>Iris-setosa</td>\n",
       "      <td>0</td>\n",
       "    </tr>\n",
       "    <tr>\n",
       "      <th>14</th>\n",
       "      <td>5.8</td>\n",
       "      <td>4.0</td>\n",
       "      <td>1.2</td>\n",
       "      <td>0.2</td>\n",
       "      <td>Iris-setosa</td>\n",
       "      <td>17</td>\n",
       "    </tr>\n",
       "    <tr>\n",
       "      <th>15</th>\n",
       "      <td>5.7</td>\n",
       "      <td>4.4</td>\n",
       "      <td>1.5</td>\n",
       "      <td>0.4</td>\n",
       "      <td>Iris-setosa</td>\n",
       "      <td>17</td>\n",
       "    </tr>\n",
       "    <tr>\n",
       "      <th>16</th>\n",
       "      <td>5.4</td>\n",
       "      <td>3.9</td>\n",
       "      <td>1.3</td>\n",
       "      <td>0.4</td>\n",
       "      <td>Iris-setosa</td>\n",
       "      <td>17</td>\n",
       "    </tr>\n",
       "    <tr>\n",
       "      <th>17</th>\n",
       "      <td>5.1</td>\n",
       "      <td>3.5</td>\n",
       "      <td>1.4</td>\n",
       "      <td>0.3</td>\n",
       "      <td>Iris-setosa</td>\n",
       "      <td>13</td>\n",
       "    </tr>\n",
       "    <tr>\n",
       "      <th>18</th>\n",
       "      <td>5.7</td>\n",
       "      <td>3.8</td>\n",
       "      <td>1.7</td>\n",
       "      <td>0.3</td>\n",
       "      <td>Iris-setosa</td>\n",
       "      <td>17</td>\n",
       "    </tr>\n",
       "    <tr>\n",
       "      <th>19</th>\n",
       "      <td>5.1</td>\n",
       "      <td>3.8</td>\n",
       "      <td>1.5</td>\n",
       "      <td>0.3</td>\n",
       "      <td>Iris-setosa</td>\n",
       "      <td>13</td>\n",
       "    </tr>\n",
       "    <tr>\n",
       "      <th>20</th>\n",
       "      <td>5.4</td>\n",
       "      <td>3.4</td>\n",
       "      <td>1.7</td>\n",
       "      <td>0.2</td>\n",
       "      <td>Iris-setosa</td>\n",
       "      <td>13</td>\n",
       "    </tr>\n",
       "    <tr>\n",
       "      <th>21</th>\n",
       "      <td>5.1</td>\n",
       "      <td>3.7</td>\n",
       "      <td>1.5</td>\n",
       "      <td>0.4</td>\n",
       "      <td>Iris-setosa</td>\n",
       "      <td>13</td>\n",
       "    </tr>\n",
       "    <tr>\n",
       "      <th>22</th>\n",
       "      <td>4.6</td>\n",
       "      <td>3.6</td>\n",
       "      <td>1.0</td>\n",
       "      <td>0.2</td>\n",
       "      <td>Iris-setosa</td>\n",
       "      <td>0</td>\n",
       "    </tr>\n",
       "    <tr>\n",
       "      <th>23</th>\n",
       "      <td>5.1</td>\n",
       "      <td>3.3</td>\n",
       "      <td>1.7</td>\n",
       "      <td>0.5</td>\n",
       "      <td>Iris-setosa</td>\n",
       "      <td>13</td>\n",
       "    </tr>\n",
       "    <tr>\n",
       "      <th>24</th>\n",
       "      <td>4.8</td>\n",
       "      <td>3.4</td>\n",
       "      <td>1.9</td>\n",
       "      <td>0.2</td>\n",
       "      <td>Iris-setosa</td>\n",
       "      <td>13</td>\n",
       "    </tr>\n",
       "    <tr>\n",
       "      <th>25</th>\n",
       "      <td>5.0</td>\n",
       "      <td>3.0</td>\n",
       "      <td>1.6</td>\n",
       "      <td>0.2</td>\n",
       "      <td>Iris-setosa</td>\n",
       "      <td>0</td>\n",
       "    </tr>\n",
       "    <tr>\n",
       "      <th>26</th>\n",
       "      <td>5.0</td>\n",
       "      <td>3.4</td>\n",
       "      <td>1.6</td>\n",
       "      <td>0.4</td>\n",
       "      <td>Iris-setosa</td>\n",
       "      <td>13</td>\n",
       "    </tr>\n",
       "    <tr>\n",
       "      <th>27</th>\n",
       "      <td>5.2</td>\n",
       "      <td>3.5</td>\n",
       "      <td>1.5</td>\n",
       "      <td>0.2</td>\n",
       "      <td>Iris-setosa</td>\n",
       "      <td>13</td>\n",
       "    </tr>\n",
       "    <tr>\n",
       "      <th>28</th>\n",
       "      <td>5.2</td>\n",
       "      <td>3.4</td>\n",
       "      <td>1.4</td>\n",
       "      <td>0.2</td>\n",
       "      <td>Iris-setosa</td>\n",
       "      <td>13</td>\n",
       "    </tr>\n",
       "    <tr>\n",
       "      <th>29</th>\n",
       "      <td>4.7</td>\n",
       "      <td>3.2</td>\n",
       "      <td>1.6</td>\n",
       "      <td>0.2</td>\n",
       "      <td>Iris-setosa</td>\n",
       "      <td>0</td>\n",
       "    </tr>\n",
       "    <tr>\n",
       "      <th>...</th>\n",
       "      <td>...</td>\n",
       "      <td>...</td>\n",
       "      <td>...</td>\n",
       "      <td>...</td>\n",
       "      <td>...</td>\n",
       "      <td>...</td>\n",
       "    </tr>\n",
       "    <tr>\n",
       "      <th>70</th>\n",
       "      <td>5.9</td>\n",
       "      <td>3.2</td>\n",
       "      <td>4.8</td>\n",
       "      <td>1.8</td>\n",
       "      <td>Iris-versicolor</td>\n",
       "      <td>14</td>\n",
       "    </tr>\n",
       "    <tr>\n",
       "      <th>71</th>\n",
       "      <td>6.1</td>\n",
       "      <td>2.8</td>\n",
       "      <td>4.0</td>\n",
       "      <td>1.3</td>\n",
       "      <td>Iris-versicolor</td>\n",
       "      <td>10</td>\n",
       "    </tr>\n",
       "    <tr>\n",
       "      <th>72</th>\n",
       "      <td>6.3</td>\n",
       "      <td>2.5</td>\n",
       "      <td>4.9</td>\n",
       "      <td>1.5</td>\n",
       "      <td>Iris-versicolor</td>\n",
       "      <td>18</td>\n",
       "    </tr>\n",
       "    <tr>\n",
       "      <th>73</th>\n",
       "      <td>6.1</td>\n",
       "      <td>2.8</td>\n",
       "      <td>4.7</td>\n",
       "      <td>1.2</td>\n",
       "      <td>Iris-versicolor</td>\n",
       "      <td>6</td>\n",
       "    </tr>\n",
       "    <tr>\n",
       "      <th>74</th>\n",
       "      <td>6.4</td>\n",
       "      <td>2.9</td>\n",
       "      <td>4.3</td>\n",
       "      <td>1.3</td>\n",
       "      <td>Iris-versicolor</td>\n",
       "      <td>6</td>\n",
       "    </tr>\n",
       "    <tr>\n",
       "      <th>75</th>\n",
       "      <td>6.6</td>\n",
       "      <td>3.0</td>\n",
       "      <td>4.4</td>\n",
       "      <td>1.4</td>\n",
       "      <td>Iris-versicolor</td>\n",
       "      <td>11</td>\n",
       "    </tr>\n",
       "    <tr>\n",
       "      <th>76</th>\n",
       "      <td>6.8</td>\n",
       "      <td>2.8</td>\n",
       "      <td>4.8</td>\n",
       "      <td>1.4</td>\n",
       "      <td>Iris-versicolor</td>\n",
       "      <td>11</td>\n",
       "    </tr>\n",
       "    <tr>\n",
       "      <th>77</th>\n",
       "      <td>6.7</td>\n",
       "      <td>3.0</td>\n",
       "      <td>5.0</td>\n",
       "      <td>1.7</td>\n",
       "      <td>Iris-versicolor</td>\n",
       "      <td>12</td>\n",
       "    </tr>\n",
       "    <tr>\n",
       "      <th>78</th>\n",
       "      <td>6.0</td>\n",
       "      <td>2.9</td>\n",
       "      <td>4.5</td>\n",
       "      <td>1.5</td>\n",
       "      <td>Iris-versicolor</td>\n",
       "      <td>6</td>\n",
       "    </tr>\n",
       "    <tr>\n",
       "      <th>79</th>\n",
       "      <td>5.7</td>\n",
       "      <td>2.6</td>\n",
       "      <td>3.5</td>\n",
       "      <td>1.0</td>\n",
       "      <td>Iris-versicolor</td>\n",
       "      <td>16</td>\n",
       "    </tr>\n",
       "    <tr>\n",
       "      <th>80</th>\n",
       "      <td>5.5</td>\n",
       "      <td>2.4</td>\n",
       "      <td>3.8</td>\n",
       "      <td>1.1</td>\n",
       "      <td>Iris-versicolor</td>\n",
       "      <td>16</td>\n",
       "    </tr>\n",
       "    <tr>\n",
       "      <th>81</th>\n",
       "      <td>5.5</td>\n",
       "      <td>2.4</td>\n",
       "      <td>3.7</td>\n",
       "      <td>1.0</td>\n",
       "      <td>Iris-versicolor</td>\n",
       "      <td>16</td>\n",
       "    </tr>\n",
       "    <tr>\n",
       "      <th>82</th>\n",
       "      <td>5.8</td>\n",
       "      <td>2.7</td>\n",
       "      <td>3.9</td>\n",
       "      <td>1.2</td>\n",
       "      <td>Iris-versicolor</td>\n",
       "      <td>10</td>\n",
       "    </tr>\n",
       "    <tr>\n",
       "      <th>83</th>\n",
       "      <td>6.0</td>\n",
       "      <td>2.7</td>\n",
       "      <td>5.1</td>\n",
       "      <td>1.6</td>\n",
       "      <td>Iris-versicolor</td>\n",
       "      <td>18</td>\n",
       "    </tr>\n",
       "    <tr>\n",
       "      <th>84</th>\n",
       "      <td>5.4</td>\n",
       "      <td>3.0</td>\n",
       "      <td>4.5</td>\n",
       "      <td>1.5</td>\n",
       "      <td>Iris-versicolor</td>\n",
       "      <td>4</td>\n",
       "    </tr>\n",
       "    <tr>\n",
       "      <th>85</th>\n",
       "      <td>6.0</td>\n",
       "      <td>3.4</td>\n",
       "      <td>4.5</td>\n",
       "      <td>1.6</td>\n",
       "      <td>Iris-versicolor</td>\n",
       "      <td>6</td>\n",
       "    </tr>\n",
       "    <tr>\n",
       "      <th>86</th>\n",
       "      <td>6.7</td>\n",
       "      <td>3.1</td>\n",
       "      <td>4.7</td>\n",
       "      <td>1.5</td>\n",
       "      <td>Iris-versicolor</td>\n",
       "      <td>11</td>\n",
       "    </tr>\n",
       "    <tr>\n",
       "      <th>87</th>\n",
       "      <td>6.3</td>\n",
       "      <td>2.3</td>\n",
       "      <td>4.4</td>\n",
       "      <td>1.3</td>\n",
       "      <td>Iris-versicolor</td>\n",
       "      <td>5</td>\n",
       "    </tr>\n",
       "    <tr>\n",
       "      <th>88</th>\n",
       "      <td>5.6</td>\n",
       "      <td>3.0</td>\n",
       "      <td>4.1</td>\n",
       "      <td>1.3</td>\n",
       "      <td>Iris-versicolor</td>\n",
       "      <td>10</td>\n",
       "    </tr>\n",
       "    <tr>\n",
       "      <th>89</th>\n",
       "      <td>5.5</td>\n",
       "      <td>2.5</td>\n",
       "      <td>4.0</td>\n",
       "      <td>1.3</td>\n",
       "      <td>Iris-versicolor</td>\n",
       "      <td>16</td>\n",
       "    </tr>\n",
       "    <tr>\n",
       "      <th>90</th>\n",
       "      <td>5.5</td>\n",
       "      <td>2.6</td>\n",
       "      <td>4.4</td>\n",
       "      <td>1.2</td>\n",
       "      <td>Iris-versicolor</td>\n",
       "      <td>10</td>\n",
       "    </tr>\n",
       "    <tr>\n",
       "      <th>91</th>\n",
       "      <td>6.1</td>\n",
       "      <td>3.0</td>\n",
       "      <td>4.6</td>\n",
       "      <td>1.4</td>\n",
       "      <td>Iris-versicolor</td>\n",
       "      <td>6</td>\n",
       "    </tr>\n",
       "    <tr>\n",
       "      <th>92</th>\n",
       "      <td>5.8</td>\n",
       "      <td>2.6</td>\n",
       "      <td>4.0</td>\n",
       "      <td>1.2</td>\n",
       "      <td>Iris-versicolor</td>\n",
       "      <td>10</td>\n",
       "    </tr>\n",
       "    <tr>\n",
       "      <th>93</th>\n",
       "      <td>5.0</td>\n",
       "      <td>2.3</td>\n",
       "      <td>3.3</td>\n",
       "      <td>1.0</td>\n",
       "      <td>Iris-versicolor</td>\n",
       "      <td>9</td>\n",
       "    </tr>\n",
       "    <tr>\n",
       "      <th>94</th>\n",
       "      <td>5.6</td>\n",
       "      <td>2.7</td>\n",
       "      <td>4.2</td>\n",
       "      <td>1.3</td>\n",
       "      <td>Iris-versicolor</td>\n",
       "      <td>10</td>\n",
       "    </tr>\n",
       "    <tr>\n",
       "      <th>95</th>\n",
       "      <td>5.7</td>\n",
       "      <td>3.0</td>\n",
       "      <td>4.2</td>\n",
       "      <td>1.2</td>\n",
       "      <td>Iris-versicolor</td>\n",
       "      <td>10</td>\n",
       "    </tr>\n",
       "    <tr>\n",
       "      <th>96</th>\n",
       "      <td>5.7</td>\n",
       "      <td>2.9</td>\n",
       "      <td>4.2</td>\n",
       "      <td>1.3</td>\n",
       "      <td>Iris-versicolor</td>\n",
       "      <td>10</td>\n",
       "    </tr>\n",
       "    <tr>\n",
       "      <th>97</th>\n",
       "      <td>6.2</td>\n",
       "      <td>2.9</td>\n",
       "      <td>4.3</td>\n",
       "      <td>1.3</td>\n",
       "      <td>Iris-versicolor</td>\n",
       "      <td>6</td>\n",
       "    </tr>\n",
       "    <tr>\n",
       "      <th>98</th>\n",
       "      <td>5.1</td>\n",
       "      <td>2.5</td>\n",
       "      <td>3.0</td>\n",
       "      <td>1.1</td>\n",
       "      <td>Iris-versicolor</td>\n",
       "      <td>9</td>\n",
       "    </tr>\n",
       "    <tr>\n",
       "      <th>99</th>\n",
       "      <td>5.7</td>\n",
       "      <td>2.8</td>\n",
       "      <td>4.1</td>\n",
       "      <td>1.3</td>\n",
       "      <td>Iris-versicolor</td>\n",
       "      <td>10</td>\n",
       "    </tr>\n",
       "  </tbody>\n",
       "</table>\n",
       "<p>100 rows × 6 columns</p>\n",
       "</div>"
      ],
      "text/plain": [
       "    sepal_length  sepal_width  petal_length  petal_width            class  \\\n",
       "0            5.1          3.5           1.4          0.2      Iris-setosa   \n",
       "1            4.9          3.0           1.4          0.2      Iris-setosa   \n",
       "2            4.7          3.2           1.3          0.2      Iris-setosa   \n",
       "3            4.6          3.1           1.5          0.2      Iris-setosa   \n",
       "4            5.0          3.6           1.4          0.2      Iris-setosa   \n",
       "5            5.4          3.9           1.7          0.4      Iris-setosa   \n",
       "6            4.6          3.4           1.4          0.3      Iris-setosa   \n",
       "7            5.0          3.4           1.5          0.2      Iris-setosa   \n",
       "8            4.4          2.9           1.4          0.2      Iris-setosa   \n",
       "9            4.9          3.1           1.5          0.1      Iris-setosa   \n",
       "10           5.4          3.7           1.5          0.2      Iris-setosa   \n",
       "11           4.8          3.4           1.6          0.2      Iris-setosa   \n",
       "12           4.8          3.0           1.4          0.1      Iris-setosa   \n",
       "13           4.3          3.0           1.1          0.1      Iris-setosa   \n",
       "14           5.8          4.0           1.2          0.2      Iris-setosa   \n",
       "15           5.7          4.4           1.5          0.4      Iris-setosa   \n",
       "16           5.4          3.9           1.3          0.4      Iris-setosa   \n",
       "17           5.1          3.5           1.4          0.3      Iris-setosa   \n",
       "18           5.7          3.8           1.7          0.3      Iris-setosa   \n",
       "19           5.1          3.8           1.5          0.3      Iris-setosa   \n",
       "20           5.4          3.4           1.7          0.2      Iris-setosa   \n",
       "21           5.1          3.7           1.5          0.4      Iris-setosa   \n",
       "22           4.6          3.6           1.0          0.2      Iris-setosa   \n",
       "23           5.1          3.3           1.7          0.5      Iris-setosa   \n",
       "24           4.8          3.4           1.9          0.2      Iris-setosa   \n",
       "25           5.0          3.0           1.6          0.2      Iris-setosa   \n",
       "26           5.0          3.4           1.6          0.4      Iris-setosa   \n",
       "27           5.2          3.5           1.5          0.2      Iris-setosa   \n",
       "28           5.2          3.4           1.4          0.2      Iris-setosa   \n",
       "29           4.7          3.2           1.6          0.2      Iris-setosa   \n",
       "..           ...          ...           ...          ...              ...   \n",
       "70           5.9          3.2           4.8          1.8  Iris-versicolor   \n",
       "71           6.1          2.8           4.0          1.3  Iris-versicolor   \n",
       "72           6.3          2.5           4.9          1.5  Iris-versicolor   \n",
       "73           6.1          2.8           4.7          1.2  Iris-versicolor   \n",
       "74           6.4          2.9           4.3          1.3  Iris-versicolor   \n",
       "75           6.6          3.0           4.4          1.4  Iris-versicolor   \n",
       "76           6.8          2.8           4.8          1.4  Iris-versicolor   \n",
       "77           6.7          3.0           5.0          1.7  Iris-versicolor   \n",
       "78           6.0          2.9           4.5          1.5  Iris-versicolor   \n",
       "79           5.7          2.6           3.5          1.0  Iris-versicolor   \n",
       "80           5.5          2.4           3.8          1.1  Iris-versicolor   \n",
       "81           5.5          2.4           3.7          1.0  Iris-versicolor   \n",
       "82           5.8          2.7           3.9          1.2  Iris-versicolor   \n",
       "83           6.0          2.7           5.1          1.6  Iris-versicolor   \n",
       "84           5.4          3.0           4.5          1.5  Iris-versicolor   \n",
       "85           6.0          3.4           4.5          1.6  Iris-versicolor   \n",
       "86           6.7          3.1           4.7          1.5  Iris-versicolor   \n",
       "87           6.3          2.3           4.4          1.3  Iris-versicolor   \n",
       "88           5.6          3.0           4.1          1.3  Iris-versicolor   \n",
       "89           5.5          2.5           4.0          1.3  Iris-versicolor   \n",
       "90           5.5          2.6           4.4          1.2  Iris-versicolor   \n",
       "91           6.1          3.0           4.6          1.4  Iris-versicolor   \n",
       "92           5.8          2.6           4.0          1.2  Iris-versicolor   \n",
       "93           5.0          2.3           3.3          1.0  Iris-versicolor   \n",
       "94           5.6          2.7           4.2          1.3  Iris-versicolor   \n",
       "95           5.7          3.0           4.2          1.2  Iris-versicolor   \n",
       "96           5.7          2.9           4.2          1.3  Iris-versicolor   \n",
       "97           6.2          2.9           4.3          1.3  Iris-versicolor   \n",
       "98           5.1          2.5           3.0          1.1  Iris-versicolor   \n",
       "99           5.7          2.8           4.1          1.3  Iris-versicolor   \n",
       "\n",
       "    prediction  \n",
       "0           13  \n",
       "1            0  \n",
       "2            0  \n",
       "3            0  \n",
       "4           13  \n",
       "5           17  \n",
       "6            0  \n",
       "7           13  \n",
       "8            0  \n",
       "9            0  \n",
       "10          17  \n",
       "11          13  \n",
       "12           0  \n",
       "13           0  \n",
       "14          17  \n",
       "15          17  \n",
       "16          17  \n",
       "17          13  \n",
       "18          17  \n",
       "19          13  \n",
       "20          13  \n",
       "21          13  \n",
       "22           0  \n",
       "23          13  \n",
       "24          13  \n",
       "25           0  \n",
       "26          13  \n",
       "27          13  \n",
       "28          13  \n",
       "29           0  \n",
       "..         ...  \n",
       "70          14  \n",
       "71          10  \n",
       "72          18  \n",
       "73           6  \n",
       "74           6  \n",
       "75          11  \n",
       "76          11  \n",
       "77          12  \n",
       "78           6  \n",
       "79          16  \n",
       "80          16  \n",
       "81          16  \n",
       "82          10  \n",
       "83          18  \n",
       "84           4  \n",
       "85           6  \n",
       "86          11  \n",
       "87           5  \n",
       "88          10  \n",
       "89          16  \n",
       "90          10  \n",
       "91           6  \n",
       "92          10  \n",
       "93           9  \n",
       "94          10  \n",
       "95          10  \n",
       "96          10  \n",
       "97           6  \n",
       "98           9  \n",
       "99          10  \n",
       "\n",
       "[100 rows x 6 columns]"
      ]
     },
     "execution_count": 62,
     "metadata": {},
     "output_type": "execute_result"
    }
   ],
   "source": [
    "df_plot2 = predictions.select(['sepal_length', 'sepal_width', 'petal_length', 'petal_width', 'class', 'prediction']).toPandas()\n",
    "df_plot2"
   ]
  },
  {
   "cell_type": "code",
   "execution_count": 63,
   "metadata": {
    "ExecuteTime": {
     "end_time": "2021-03-26T13:06:49.977619Z",
     "start_time": "2021-03-26T13:06:49.692775Z"
    }
   },
   "outputs": [
    {
     "data": {
      "text/plain": [
       "<AxesSubplot:>"
      ]
     },
     "execution_count": 63,
     "metadata": {},
     "output_type": "execute_result"
    },
    {
     "data": {
      "image/png": "[encoded data removed]",
      "text/plain": [
       "<Figure size 432x288 with 1 Axes>"
      ]
     },
     "metadata": {},
     "output_type": "display_data"
    }
   ],
   "source": [
    "# a better visualization is to use parallel coordinates as we have many features\n",
    "\n",
    "pd.plotting.parallel_coordinates(df_plot2, 'class')"
   ]
  },
  {
   "cell_type": "code",
   "execution_count": 64,
   "metadata": {
    "ExecuteTime": {
     "end_time": "2021-03-26T13:06:52.413393Z",
     "start_time": "2021-03-26T13:06:50.797649Z"
    },
    "scrolled": true
   },
   "outputs": [
    {
     "data": {
      "text/plain": [
       "array([[<AxesSubplot:xlabel='sepal_length', ylabel='sepal_length'>,\n",
       "        <AxesSubplot:xlabel='sepal_width', ylabel='sepal_length'>,\n",
       "        <AxesSubplot:xlabel='petal_length', ylabel='sepal_length'>,\n",
       "        <AxesSubplot:xlabel='petal_width', ylabel='sepal_length'>,\n",
       "        <AxesSubplot:xlabel='prediction', ylabel='sepal_length'>],\n",
       "       [<AxesSubplot:xlabel='sepal_length', ylabel='sepal_width'>,\n",
       "        <AxesSubplot:xlabel='sepal_width', ylabel='sepal_width'>,\n",
       "        <AxesSubplot:xlabel='petal_length', ylabel='sepal_width'>,\n",
       "        <AxesSubplot:xlabel='petal_width', ylabel='sepal_width'>,\n",
       "        <AxesSubplot:xlabel='prediction', ylabel='sepal_width'>],\n",
       "       [<AxesSubplot:xlabel='sepal_length', ylabel='petal_length'>,\n",
       "        <AxesSubplot:xlabel='sepal_width', ylabel='petal_length'>,\n",
       "        <AxesSubplot:xlabel='petal_length', ylabel='petal_length'>,\n",
       "        <AxesSubplot:xlabel='petal_width', ylabel='petal_length'>,\n",
       "        <AxesSubplot:xlabel='prediction', ylabel='petal_length'>],\n",
       "       [<AxesSubplot:xlabel='sepal_length', ylabel='petal_width'>,\n",
       "        <AxesSubplot:xlabel='sepal_width', ylabel='petal_width'>,\n",
       "        <AxesSubplot:xlabel='petal_length', ylabel='petal_width'>,\n",
       "        <AxesSubplot:xlabel='petal_width', ylabel='petal_width'>,\n",
       "        <AxesSubplot:xlabel='prediction', ylabel='petal_width'>],\n",
       "       [<AxesSubplot:xlabel='sepal_length', ylabel='prediction'>,\n",
       "        <AxesSubplot:xlabel='sepal_width', ylabel='prediction'>,\n",
       "        <AxesSubplot:xlabel='petal_length', ylabel='prediction'>,\n",
       "        <AxesSubplot:xlabel='petal_width', ylabel='prediction'>,\n",
       "        <AxesSubplot:xlabel='prediction', ylabel='prediction'>]],\n",
       "      dtype=object)"
      ]
     },
     "execution_count": 64,
     "metadata": {},
     "output_type": "execute_result"
    },
    {
     "data": {
      "image/png": "[encoded data removed]",
      "text/plain": [
       "<Figure size 1440x1440 with 25 Axes>"
      ]
     },
     "metadata": {},
     "output_type": "display_data"
    }
   ],
   "source": [
    "# ... and another way\n",
    "pd.plotting.scatter_matrix(df_plot2, alpha=1.0, figsize=(20,20))"
   ]
  },
  {
   "cell_type": "code",
   "execution_count": null,
   "metadata": {},
   "outputs": [],
   "source": []
  }
 ],
 "metadata": {
  "kernelspec": {
   "display_name": "PySpark",
   "language": "python",
   "name": "pyspark"
  },
  "language_info": {
   "codemirror_mode": {
    "name": "ipython",
    "version": 3
   },
   "file_extension": ".py",
   "mimetype": "text/x-python",
   "name": "python",
   "nbconvert_exporter": "python",
   "pygments_lexer": "ipython3",
   "version": "3.6.9"
  },
  "toc": {
   "base_numbering": 1,
   "nav_menu": {
    "height": "249px",
    "width": "332px"
   },
   "number_sections": true,
   "sideBar": true,
   "skip_h1_title": false,
   "title_cell": "Table of Contents",
   "title_sidebar": "Contents",
   "toc_cell": false,
   "toc_position": {
    "height": "calc(100% - 180px)",
    "left": "10px",
    "top": "150px",
    "width": "204.98px"
   },
   "toc_section_display": true,
   "toc_window_display": false
  }
 },
 "nbformat": 4,
 "nbformat_minor": 2
}
