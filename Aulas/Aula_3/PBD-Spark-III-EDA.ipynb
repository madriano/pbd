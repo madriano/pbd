{
 "cells": [
  {
   "cell_type": "markdown",
   "id": "37ef7736",
   "metadata": {},
   "source": [
    "**Processamento de Big Data**\n",
    "\n",
    "**2022/23**"
   ]
  },
  {
   "cell_type": "markdown",
   "id": "61efefaf",
   "metadata": {
    "heading_collapsed": true,
    "jp-MarkdownHeadingCollapsed": true,
    "tags": []
   },
   "source": [
    "# Exploratory Data Analysis (EDA)\n",
    "In this lecture, we will carry out some common data analysis to extract insights from data stored in a DataFrame. The main goal is to consolidate knownledge from previous lectures about useful Spark's transformations and actions functions."
   ]
  },
  {
   "cell_type": "markdown",
   "id": "3bc8ee65",
   "metadata": {
    "heading_collapsed": true
   },
   "source": [
    "# Problem formulation\n",
    "\n",
    "This exercise is about EDA related to **Fire Department calls for service** in San Francisco, USA. \n",
    "\n",
    "We ask you write down a Spark program that:\n",
    "\n",
    "a) Reads a file containing the dataset under analysis.\n",
    "\n",
    "b) Provides answers to the following questions about the data.\n",
    "\n",
    "1. How many distinct types of calls were made to the Fire Department?\n",
    "2. What are distinct types of calls that were made to the Fire Department?\n",
    "3. Find out all responses or delayed times that were greater than 5 minutes?\n",
    "4. What were the most common call types, listed in descending order by count?\n",
    "5. What zip codes accounted for most common calls and what type were they?\n",
    "6. What neighbourhoods are in the two top zip codes from the listing in the previous question?\n",
    "\n",
    "The dataset of concern can also be found via the link \n",
    "\n",
    "https://data.sfgov.org/Public-Safety/Fire-Department-Calls-for-Service/nuek-vuh3"
   ]
  },
  {
   "cell_type": "markdown",
   "id": "019fda0e",
   "metadata": {
    "heading_collapsed": true
   },
   "source": [
    "# Initial settings\n",
    "\n",
    "Prior to any computation, let us set some imports and useful functions"
   ]
  },
  {
   "cell_type": "markdown",
   "id": "d78a2570",
   "metadata": {
    "hidden": true
   },
   "source": [
    "## Additional packages and imports"
   ]
  },
  {
   "cell_type": "code",
   "execution_count": null,
   "id": "c4e68f12",
   "metadata": {
    "hidden": true
   },
   "outputs": [],
   "source": [
    "# If we need to install some packages, e.g. matplotlib\n",
    "\n",
    "! pip3 install matplotlib seaborn pandas numpy"
   ]
  },
  {
   "cell_type": "code",
   "execution_count": null,
   "id": "1a8af046",
   "metadata": {
    "hidden": true
   },
   "outputs": [],
   "source": [
    "# Some general imports \n",
    "\n",
    "import os \n",
    "\n",
    "# import numpy as np \n",
    "import pandas as pd  \n",
    "import matplotlib.pyplot as plt\n",
    "import seaborn as sns\n",
    "import warnings\n",
    "warnings.filterwarnings(\"ignore\")"
   ]
  },
  {
   "cell_type": "code",
   "execution_count": null,
   "id": "ca7794bd",
   "metadata": {
    "hidden": true
   },
   "outputs": [],
   "source": [
    "# Spark's imports that we need hereafter. \n",
    "# It can be imported here or further down as we need them, step by step\n",
    "\n",
    "import sys\n",
    "\n",
    "from pyspark.sql import SparkSession\n",
    "from pyspark.sql.types import *\n",
    "import pyspark.sql.functions as F"
   ]
  },
  {
   "cell_type": "markdown",
   "id": "b35b0f43",
   "metadata": {
    "hidden": true
   },
   "source": [
    "## Useful visualization functions\n",
    "\n",
    "Some functions that we can use to plot data but as Python DataFrames.\n",
    "\n",
    "**Disclaimer**: these functions are broadly distributed among users. Further adjustments are needed and/or advisable. \n",
    "\n",
    "We encourage you to use your own plotting functions. \n",
    "\n",
    "Remember: *\"A picture is worth a thousand words\"*"
   ]
  },
  {
   "cell_type": "code",
   "execution_count": null,
   "id": "ad146bbb",
   "metadata": {
    "hidden": true
   },
   "outputs": [],
   "source": [
    "def plot(df, xcol, ycol):\n",
    "    sns.lineplot(data=df, x=xcol, y=ycol)"
   ]
  },
  {
   "cell_type": "code",
   "execution_count": null,
   "id": "4b86f626",
   "metadata": {
    "hidden": true
   },
   "outputs": [],
   "source": [
    "def plotHistogram(df, xcol, huecol):\n",
    "    sns.histplot(data=df, x=xcol, hue=huecol, multiple=\"stack\")"
   ]
  },
  {
   "cell_type": "code",
   "execution_count": null,
   "id": "dd9ec691",
   "metadata": {
    "hidden": true
   },
   "outputs": [],
   "source": [
    "def plotScatter(df, xcol, ycol, huecol):\n",
    "    sns.scatterplot(data=df, x=xcol, y=ycol, hue=huecol)"
   ]
  },
  {
   "cell_type": "code",
   "execution_count": null,
   "id": "ea1108c0",
   "metadata": {
    "hidden": true
   },
   "outputs": [],
   "source": [
    "def plotScatterMatrix(df, huecol):\n",
    "    sns.pairplot(data=df, hue=huecol)"
   ]
  },
  {
   "cell_type": "code",
   "execution_count": null,
   "id": "496a74b3",
   "metadata": {
    "hidden": true
   },
   "outputs": [],
   "source": [
    "def plotCorrelationMatrix_1(df):\n",
    "    # compute the correlation matrix\n",
    "    corr = df.corr()\n",
    "\n",
    "    # generate a mask for the upper triangle\n",
    "    mask = np.triu(np.ones_like(corr, dtype=bool))\n",
    "\n",
    "    # set up the matplotlib figure\n",
    "    f, ax = plt.subplots(figsize=(11, 9))\n",
    "\n",
    "    # generate a custom diverging colormap\n",
    "    cmap = sns.diverging_palette(230, 20, as_cmap=True)\n",
    "\n",
    "    # draw the heatmap with the mask and correct aspect ratio\n",
    "    sns.heatmap(corr, mask=mask, cmap=cmap, vmax=.3, center=0,\n",
    "            square=True, linewidths=.5, cbar_kws={\"shrink\": .5})"
   ]
  },
  {
   "cell_type": "code",
   "execution_count": null,
   "id": "2f90d6f8",
   "metadata": {
    "hidden": true
   },
   "outputs": [],
   "source": [
    "def plotCorrelationMatrix_2(df):\n",
    "    # compute a correlation matrix and convert to long-form\n",
    "    corr_mat = df.corr().stack().reset_index(name=\"correlation\")\n",
    "    # draw each cell as a scatter point with varying size and color\n",
    "    g = sns.relplot(\n",
    "        data=corr_mat,\n",
    "        x=\"level_0\", y=\"level_1\", hue=\"correlation\", size=\"correlation\",\n",
    "        palette=\"vlag\", hue_norm=(-1, 1), edgecolor=\".7\",\n",
    "        height=10, sizes=(50, 250), size_norm=(-.2, .8),\n",
    "    )\n",
    "\n",
    "    # tweak the figure to finalize\n",
    "    g.set(xlabel=\"\", ylabel=\"\", aspect=\"equal\")\n",
    "    g.despine(left=True, bottom=True)\n",
    "    g.ax.margins(.02)\n",
    "    for label in g.ax.get_xticklabels():\n",
    "        label.set_rotation(90)\n",
    "    for artist in g.legend.legendHandles:\n",
    "        artist.set_edgecolor(\".7\")"
   ]
  },
  {
   "cell_type": "markdown",
   "id": "53479f6a",
   "metadata": {
    "heading_collapsed": true
   },
   "source": [
    "# Data ingestion"
   ]
  },
  {
   "cell_type": "code",
   "execution_count": null,
   "id": "522e7d18",
   "metadata": {
    "hidden": true
   },
   "outputs": [],
   "source": [
    "# Check working directory\n",
    "\n",
    "! pwd\n",
    "! ls -la"
   ]
  },
  {
   "cell_type": "code",
   "execution_count": null,
   "id": "b8be7ba0",
   "metadata": {
    "hidden": true
   },
   "outputs": [],
   "source": [
    "! ls -la fire-department-calls"
   ]
  },
  {
   "cell_type": "code",
   "execution_count": null,
   "id": "8fd72b35",
   "metadata": {
    "hidden": true
   },
   "outputs": [],
   "source": [
    "# Check file directly using commands head and tail\n",
    "\n",
    "! head -n 2 fire-department-calls/Fire_Department_Calls_for_Service_Excel_EU.csv\n",
    "! tail -n 2 fire-department-calls/Fire_Department_Calls_for_Service_Excel_EU.csv"
   ]
  },
  {
   "cell_type": "raw",
   "id": "d115fe03-fd29-48ce-b820-429300e00193",
   "metadata": {},
   "source": [
    "Notice: we can also use commands like:\n",
    "    \n",
    "%pwd\n",
    "%system ls -la\n",
    "\n",
    "Check the list of available magic commands with\n",
    "\n",
    "%lsmagic"
   ]
  },
  {
   "cell_type": "code",
   "execution_count": null,
   "id": "07792fc8",
   "metadata": {
    "hidden": true
   },
   "outputs": [],
   "source": [
    "# Build a SparkSession instance if one does not exist. Notice that we can only have one per JVM\n",
    "#\n",
    "# Notice however that, when using a PySpark kernel, a default SparkSession has been created with \n",
    "# the name spark. But if we want to use different settings, then we have to create our own.\n",
    "\n",
    "spark = SparkSession\\\n",
    "    .builder\\\n",
    "    .appName(\"FireDepartmentCalls\")\\\n",
    "    .config(\"spark.sql.shuffle.partitions\",6)\\\n",
    "    .getOrCreate()"
   ]
  },
  {
   "cell_type": "markdown",
   "id": "eca9f386",
   "metadata": {
    "hidden": true
   },
   "source": [
    "## Reading the dataset"
   ]
  },
  {
   "cell_type": "code",
   "execution_count": null,
   "id": "3e43d822",
   "metadata": {
    "hidden": true
   },
   "outputs": [],
   "source": [
    "# As the file is quite big, (recall that inferring the schema is expensive for large files) \n",
    "# and we know it, so let us use it (How do we know it?)\n",
    "\n",
    "fire_schema = StructType([StructField('Call Number', IntegerType(), True),\n",
    "                     StructField('Unit ID', StringType(), True),\n",
    "                     StructField('Incident Number', IntegerType(), True),\n",
    "                     StructField('Call Type', StringType(), True),                  \n",
    "                     StructField('Call Date', StringType(), True),      \n",
    "                     StructField('Watch Date', StringType(), True),                \n",
    "                     StructField('Received DtTm', StringType(), True),\n",
    "                     StructField('Entry DtTm', StringType(), True),\n",
    "                     StructField('Dispatch DtTm', StringType(), True),\n",
    "                     StructField('Response DtTm', StringType(), True),\n",
    "                     StructField('On Scene DtTm', StringType(), True),\n",
    "                     StructField('Transport DtTm', StringType(), True),\n",
    "                     StructField('Hospital DtTm', StringType(), True),\n",
    "                     StructField('Call Final Disposition', StringType(), True),\n",
    "                     StructField('Available DtTm', StringType(), True),\n",
    "                     StructField('Address', StringType(), True),       \n",
    "                     StructField('City', StringType(), True),       \n",
    "                     StructField('Zipcode of Incident', IntegerType(), True),       \n",
    "                     StructField('Battalion', StringType(), True),                 \n",
    "                     StructField('Station Area', StringType(), True),       \n",
    "                     StructField('Box', StringType(), True),       \n",
    "                     StructField('Original Priority', StringType(), True),       \n",
    "                     StructField('Priority', StringType(), True),       \n",
    "                     StructField('Final Priority', IntegerType(), True),       \n",
    "                     StructField('ALS Unit', BooleanType(), True),\n",
    "                     StructField('Call Type Group', StringType(), True),\n",
    "                     StructField('Number of Alarms', IntegerType(), True),\n",
    "                     StructField('Unit Type', StringType(), True),\n",
    "                     StructField('Unit sequence in call dispatch', IntegerType(), True),\n",
    "                     StructField('Fire Prevention District', StringType(), True),\n",
    "                     StructField('Supervisor District', StringType(), True),\n",
    "                     StructField('Neighborhooods - Analysis Boundaries', StringType(), True),\n",
    "                     StructField('RowID', StringType(), True),\n",
    "                     StructField('case_location', StringType(), True),\n",
    "                     StructField('Analysis Neighborhoods', IntegerType(), True)])\n",
    "                          "
   ]
  },
  {
   "cell_type": "code",
   "execution_count": null,
   "id": "3a049fb1",
   "metadata": {
    "hidden": true
   },
   "outputs": [],
   "source": [
    "# Reading the dataset\n",
    "\n",
    "filename = \"fire-department-calls/Fire_Department_Calls_for_Service_Excel_EU.csv\"\n",
    "#fire_df = spark.read.csv(filename, header=True, schema=fire_schema, sep=';')\n",
    "fire_df = spark.read.csv(filename, header=True, inferSchema=\"true\", sep=';')"
   ]
  },
  {
   "cell_type": "markdown",
   "id": "a3bb29dd",
   "metadata": {
    "hidden": true
   },
   "source": [
    "## Checking data\n",
    "Schema, show, count, and statistical information."
   ]
  },
  {
   "cell_type": "code",
   "execution_count": null,
   "id": "b71d9b2e",
   "metadata": {
    "hidden": true
   },
   "outputs": [],
   "source": [
    "# Schema\n",
    "\n",
    "fire_df."
   ]
  },
  {
   "cell_type": "code",
   "execution_count": null,
   "id": "bf57437b",
   "metadata": {
    "hidden": true
   },
   "outputs": [],
   "source": [
    "# Show\n",
    "\n",
    "fire_df."
   ]
  },
  {
   "cell_type": "code",
   "execution_count": null,
   "id": "744329e8",
   "metadata": {
    "hidden": true
   },
   "outputs": [],
   "source": [
    "# Count\n",
    "\n",
    "fire_df."
   ]
  },
  {
   "cell_type": "code",
   "execution_count": null,
   "id": "65c0949c",
   "metadata": {
    "hidden": true
   },
   "outputs": [],
   "source": [
    "# Statistical information using describe()\n",
    "# PS: Output takes time to compute given the number of columns \n",
    "#     and size of dataset\n",
    "\n",
    "for cl in fire_df.columns:\n",
    "    fire_df."
   ]
  },
  {
   "cell_type": "markdown",
   "id": "c5f22cbf",
   "metadata": {
    "heading_collapsed": true
   },
   "source": [
    "# Exploratory data analysis"
   ]
  },
  {
   "cell_type": "markdown",
   "id": "ec2b659d",
   "metadata": {
    "hidden": true
   },
   "source": [
    "Prior to any further analysis, we should consider upating the data types of time related fields.\n",
    "The data dictionary provided shows the fields that are considered as of *Date & Time*.\n",
    "\n",
    "The default format should be MM-dd-yyyy HH:mm:ss.SSS ... \n",
    "\n",
    "but it looks like we have MM/dd/yyyy HH:mm:ss PM (or AM)\n",
    "\n",
    "\n",
    "|Column     | Type| Description |\n",
    "|:---:|:---:| :---:| \n",
    "| **Call Date** |Date & Time| Date the call is received at the 911 Dispatch Center. Used for reporting purposes.|\n",
    "| **Watch Date** |Date & Time| Watch date when the call is received. Watch date starts at 0800 each morning and ends at 0800 the next day.|\n",
    "| **Received DtTm** |Date & Time| Date and time of call is received at the 911 Dispatch Center.|\n",
    "| **Entry DtTm** |Date & Time| Date and time the 911 operator submits the entry of the initical call information into the CAD system.|\n",
    "| **Dispatch DtTm** |Date & Time| Date and time the 911 operator dispatches this unit to the call.|\n",
    "| **Response DtTm** |Date & Time| Date and time this unit acknowledges the dispatch and records that the unit is en route to the location of the call.|\n",
    "| **On Scene DtTm** |Date & Time| Date and time the unit records arriving to the location of the incident.|\n",
    "| **Transport DtTm** |Date & Time| If this unit is an ambulance, date and time the unit begins the transport unit arrives to hospital.|\n",
    "| **Hospital DtTm** |Date & Time| If this unit is an ambulance, date and time the unit arrives to the hospital.|\n",
    "| **Available DtTm** |Date & Time| Date and time this unit is not longer assigned to this call and it is available for another dispatch.|\n"
   ]
  },
  {
   "cell_type": "code",
   "execution_count": null,
   "id": "c4d2907e",
   "metadata": {
    "hidden": true
   },
   "outputs": [],
   "source": [
    "# See https://spark.apache.org/docs/latest/sql-ref-datetime-pattern.html\n",
    "\n",
    "new_fire_df = ( fire_df\n",
    "                .withColumn(\"Call Date ts\", F.to_timestamp(\"Call Date\",\"MM/dd/yyyy\"))\n",
    "                .withColumn(\"Watch Date ts\", F.to_timestamp(\"Watch Date\",\"MM/dd/yyyy\"))\n",
    "                .withColumn(\"Received DtTm ts\", F.to_timestamp(\"Received DtTm\",\"MM/dd/yyyy KK:mm:ss a\"))\n",
    "                .withColumn(\"Entry DtTm ts\", F.to_timestamp(\"Entry DtTm\",\"MM/dd/yyyy KK:mm:ss a\"))\n",
    "                .withColumn(\"Dispatch DtTm ts\", F.to_timestamp(\"Dispatch DtTm\",\"MM/dd/yyyy KK:mm:ss a\"))\n",
    "                .withColumn(\"Response DtTm ts\", F.to_timestamp(\"Response DtTm\",\"MM/dd/yyyy KK:mm:ss a\"))\n",
    "                .withColumn(\"On Scene DtTm ts\", F.to_timestamp(\"On Scene DtTm\",\"MM/dd/yyyy KK:mm:ss a\"))\n",
    "                .withColumn(\"Transport DtTm ts\", F.to_timestamp(\"Transport DtTm\",\"MM/dd/yyyy KK:mm:ss a\"))\n",
    "                .withColumn(\"Entry DtTm ts\", F.to_timestamp(\"Entry DtTm\",\"MM/dd/yyyy KK:mm:ss a\"))\n",
    "                .withColumn(\"Hospital DtTm ts\", F.to_timestamp(\"Hospital DtTm\",\"MM/dd/yyyy KK:mm:ss a\"))\n",
    "                .withColumn(\"Available DtTm ts\", F.to_timestamp(\"Available DtTm\",\"MM/dd/yyyy KK:mm:ss a\"))\n",
    "                )"
   ]
  },
  {
   "cell_type": "code",
   "execution_count": null,
   "id": "938350f1",
   "metadata": {
    "hidden": true
   },
   "outputs": [],
   "source": [
    "# Check changes\n",
    "\n",
    "new_fire_df.\n",
    "# or new_fire_df.columns\n",
    "new_fire_df."
   ]
  },
  {
   "cell_type": "code",
   "execution_count": null,
   "id": "8c824bfb",
   "metadata": {
    "hidden": true
   },
   "outputs": [],
   "source": [
    "# Delete old dataframe if no longer needed\n",
    "\n",
    "del fire_df"
   ]
  },
  {
   "cell_type": "code",
   "execution_count": null,
   "id": "7d6343f4",
   "metadata": {
    "hidden": true
   },
   "outputs": [],
   "source": [
    "# Cache the DataFrame since we will be performing many operations on it.\n",
    "# It makes operations faster at expenses of memory storage. \n",
    "# Or better not using it!\n",
    "\n",
    "# new_fire_df.cache()"
   ]
  },
  {
   "cell_type": "markdown",
   "id": "96f048a2",
   "metadata": {
    "hidden": true
   },
   "source": [
    "## Questions to be anwsered"
   ]
  },
  {
   "cell_type": "code",
   "execution_count": null,
   "id": "61e2842a",
   "metadata": {
    "hidden": true
   },
   "outputs": [],
   "source": [
    "# Just to review columns' name\n",
    "\n",
    "new_fire_df.columns"
   ]
  },
  {
   "cell_type": "code",
   "execution_count": null,
   "id": "b3ce9571-9598-4fc3-899c-ecc38e88e611",
   "metadata": {},
   "outputs": [],
   "source": [
    "# Set a short list of main columns just for showing purposes, if needed\n",
    "\n",
    "main_cols = ['Call Number',\n",
    " 'Unit ID',\n",
    " 'Incident Number',\n",
    " 'Call Type',\n",
    " 'Call Date',\n",
    " 'Watch Date',\n",
    " 'Received DtTm',\n",
    " 'Entry DtTm',\n",
    " 'Dispatch DtTm',\n",
    " 'Response DtTm',\n",
    " 'On Scene DtTm',\n",
    " 'Transport DtTm',\n",
    " 'Hospital DtTm',\n",
    " 'Call Final Disposition',\n",
    " 'Available DtTm',\n",
    " 'Address',\n",
    " 'City',\n",
    " 'Zipcode of Incident',\n",
    " 'Call Date ts',\n",
    " 'Watch Date ts',\n",
    " 'Received DtTm ts',\n",
    " 'Entry DtTm ts',\n",
    " 'Dispatch DtTm ts',\n",
    " 'Response DtTm ts',\n",
    " 'On Scene DtTm ts',\n",
    " 'Transport DtTm ts',\n",
    " 'Hospital DtTm ts',\n",
    " 'Available DtTm ts']"
   ]
  },
  {
   "cell_type": "markdown",
   "id": "f1a342bb",
   "metadata": {
    "hidden": true
   },
   "source": [
    "**1) How many distinct types of calls were made to the Fire Department?**\n",
    "\n",
    "Of course, we will not count \"null\" strings in that column."
   ]
  },
  {
   "cell_type": "code",
   "execution_count": null,
   "id": "585e9e8a",
   "metadata": {
    "hidden": true,
    "tags": []
   },
   "outputs": [],
   "source": [
    "new_fire_df."
   ]
  },
  {
   "cell_type": "markdown",
   "id": "7ce4be82",
   "metadata": {
    "hidden": true
   },
   "source": [
    "**2) What are the distinct types of calls that were made to the Fire Department?**"
   ]
  },
  {
   "cell_type": "code",
   "execution_count": null,
   "id": "51c88714",
   "metadata": {
    "hidden": true
   },
   "outputs": [],
   "source": [
    "new_fire_df."
   ]
  },
  {
   "cell_type": "markdown",
   "id": "7b298bdc",
   "metadata": {
    "hidden": true
   },
   "source": [
    "**3) Find out all responses or delayed times that were greater than 5 minutes?**\n",
    "\n",
    "*(from the moment call is received till response is acknowledged and unit is on route)*\n",
    "\n",
    "1. Creates a new field *Response Delay* with the delay in minutes\n",
    "2. Filter out the records with delay higher than 5 minutes."
   ]
  },
  {
   "cell_type": "code",
   "execution_count": null,
   "id": "42cba27e",
   "metadata": {
    "hidden": true
   },
   "outputs": [],
   "source": [
    "new_fire_df = new_fire_df."
   ]
  },
  {
   "cell_type": "code",
   "execution_count": null,
   "id": "73609386",
   "metadata": {
    "hidden": true
   },
   "outputs": [],
   "source": [
    "cols_to_show = main_cols + ['Response Delay']\n",
    "new_fire_df."
   ]
  },
  {
   "cell_type": "code",
   "execution_count": null,
   "id": "720dc0a5",
   "metadata": {
    "hidden": true
   },
   "outputs": [],
   "source": [
    "( new_fire_df\n",
    "     .\n",
    " \n",
    ")"
   ]
  },
  {
   "cell_type": "markdown",
   "id": "a6e5b677",
   "metadata": {
    "hidden": true
   },
   "source": [
    "**4) What were the most common call types, listed in descending order by count?**"
   ]
  },
  {
   "cell_type": "code",
   "execution_count": null,
   "id": "55244adb",
   "metadata": {
    "hidden": true
   },
   "outputs": [],
   "source": [
    "( new_fire_df\n",
    "     .\n",
    " \n",
    ")"
   ]
  },
  {
   "cell_type": "markdown",
   "id": "cd0c84cc",
   "metadata": {
    "hidden": true
   },
   "source": [
    "**5) What zip codes accounted for most common calls and what type were they?**\n",
    "\n",
    "1. Filter out by Call Type\n",
    "2. Group them by Call Type and Zipcode of Incident\n",
    "3. Count them and display in descending order"
   ]
  },
  {
   "cell_type": "code",
   "execution_count": null,
   "id": "08894cd6",
   "metadata": {
    "hidden": true
   },
   "outputs": [],
   "source": [
    "( new_fire_df\n",
    "     .\n",
    " \n",
    ")"
   ]
  },
  {
   "cell_type": "markdown",
   "id": "bc8c01cb",
   "metadata": {
    "hidden": true
   },
   "source": [
    "**6) What neighbourhoods are in the two top zip codes from the listing in the previous question?**\n",
    "\n",
    "Probably these two zip codes are somehow related to contested neighbourhood with high reported crimes."
   ]
  },
  {
   "cell_type": "code",
   "execution_count": null,
   "id": "ea22ac75",
   "metadata": {
    "hidden": true
   },
   "outputs": [],
   "source": [
    "( new_fire_df\n",
    "     .\n",
    " \n",
    ")"
   ]
  },
  {
   "cell_type": "markdown",
   "id": "7a886392-2950-459a-8e8d-6c7adde69f00",
   "metadata": {},
   "source": [
    "## Answers regarding the questions above"
   ]
  },
  {
   "cell_type": "markdown",
   "id": "fc25ee76-d3b3-4aa0-8cb6-cd76b338e736",
   "metadata": {
    "hidden": true
   },
   "source": [
    "**1) How many distinct types of calls were made to the Fire Department?**\n",
    "\n",
    "Of course, we will not count \"null\" strings in that column."
   ]
  },
  {
   "cell_type": "raw",
   "id": "a2c97a2e-e82f-49ac-b50f-50bc748f7898",
   "metadata": {},
   "source": [
    "answer:\n",
    "    \n",
    "33"
   ]
  },
  {
   "cell_type": "markdown",
   "id": "c0a0b0f2-f481-475f-a34f-b09d16b6d283",
   "metadata": {
    "hidden": true
   },
   "source": [
    "**2) What are the distinct types of calls that were made to the Fire Department?**"
   ]
  },
  {
   "cell_type": "raw",
   "id": "308e7606-aa79-4780-8e3b-ba8df24b55c7",
   "metadata": {},
   "source": [
    "answer:\n",
    "\n",
    "+--------------------------------------------+\n",
    "|Call Type                                   |\n",
    "+--------------------------------------------+\n",
    "|Electrical Hazard                           |\n",
    "|High Angle Rescue                           |\n",
    "|Assist Police                               |\n",
    "|Train / Rail Incident                       |\n",
    "|Medical Incident                            |\n",
    "|Vehicle Fire                                |\n",
    "|Explosion                                   |\n",
    "|Confined Space / Structure Collapse         |\n",
    "|Industrial Accidents                        |\n",
    "|Administrative                              |\n",
    "|Train / Rail Fire                           |\n",
    "|Alarms                                      |\n",
    "|Structure Fire                              |\n",
    "|Water Rescue                                |\n",
    "|Elevator / Escalator Rescue                 |\n",
    "|Smoke Investigation (Outside)               |\n",
    "|HazMat                                      |\n",
    "|Marine Fire                                 |\n",
    "|Outside Fire                                |\n",
    "|Citizen Assist / Service Call               |\n",
    "|Odor (Strange / Unknown)                    |\n",
    "|Gas Leak (Natural and LP Gases)             |\n",
    "|Mutual Aid / Assist Outside Agency          |\n",
    "|Extrication / Entrapped (Machinery, Vehicle)|\n",
    "|Other                                       |\n",
    "|Traffic Collision                           |\n",
    "|Fuel Spill                                  |\n",
    "|Watercraft in Distress                      |\n",
    "|Suspicious Package                          |\n",
    "|Oil Spill                                   |\n",
    "|Aircraft Emergency                          |\n",
    "|Structure Fire / Smoke in Building          |\n",
    "|Lightning Strike (Investigation)            |\n",
    "+--------------------------------------------+\n"
   ]
  },
  {
   "cell_type": "markdown",
   "id": "4afe2749-e63e-4711-9ba1-26fa1ed26f6b",
   "metadata": {
    "hidden": true
   },
   "source": [
    "**3) Find out all responses or delayed times that were greater than 5 minutes?**\n",
    "\n",
    "*(from the moment call is received till response is acknowledged and unit is on route)*\n",
    "\n",
    "1. Creates a new field *Response Delay* with the delay in minutes\n",
    "2. Filter out the records with delay higher than 5 minutes."
   ]
  },
  {
   "cell_type": "raw",
   "id": "7e7eca39-8069-4625-badd-425b88682822",
   "metadata": {},
   "source": [
    "answer:\n",
    "    \n",
    "-RECORD 0--------------------------------------\n",
    " Call Number            | 220181779            \n",
    " ... \n",
    " Response Delay         | 20.9                 \n",
    "-RECORD 1--------------------------------------\n",
    " Call Number            | 211941035            \n",
    " ... \n",
    " Response Delay         | 5.266666666666667    \n",
    "-RECORD 2--------------------------------------\n",
    " Call Number            | 220180731            \n",
    " ... \n",
    " Response Delay         | 5.2                  \n",
    "-RECORD 3--------------------------------------\n",
    " Call Number            | 211940174            \n",
    " ... \n",
    " Response Delay         | 6.3                  \n",
    "-RECORD 4--------------------------------------\n",
    " Call Number            | 221200301            \n",
    " ...\n",
    " Response Delay         | 5.816666666666666    \n",
    "only showing top 5 rows\n"
   ]
  },
  {
   "cell_type": "markdown",
   "id": "88355d0d-f460-4e3a-b5ff-8de36fa865fb",
   "metadata": {
    "hidden": true
   },
   "source": [
    "**4) What were the most common call types, listed in descending order by count?**"
   ]
  },
  {
   "cell_type": "raw",
   "id": "51057c6d-9001-4c07-b2da-8387c8d28bb8",
   "metadata": {},
   "source": [
    "answer:\n",
    "\n",
    "+-------------------------------+-------+\n",
    "|Call Type                      |count  |\n",
    "+-------------------------------+-------+\n",
    "|Medical Incident               |4012244|\n",
    "|Structure Fire                 |715178 |\n",
    "|Alarms                         |677178 |\n",
    "|Traffic Collision              |247862 |\n",
    "|Other                          |101940 |\n",
    "|Citizen Assist / Service Call  |90988  |\n",
    "|Outside Fire                   |79245  |\n",
    "|Water Rescue                   |32353  |\n",
    "|Gas Leak (Natural and LP Gases)|27573  |\n",
    "|Vehicle Fire                   |27435  |\n",
    "+-------------------------------+-------+\n",
    "only showing top 10 rows"
   ]
  },
  {
   "cell_type": "markdown",
   "id": "eb6de8f9-02bd-495f-8a43-666d6c806b7c",
   "metadata": {
    "hidden": true
   },
   "source": [
    "**5) What zip codes accounted for most common calls and what type were they?**\n",
    "\n",
    "1. Filter out by Call Type\n",
    "2. Group them by Call Type and Zipcode of Incident\n",
    "3. Count them and display in descending order"
   ]
  },
  {
   "cell_type": "raw",
   "id": "a80b7833-27d1-485e-8db3-a8c0f41e9cfa",
   "metadata": {},
   "source": [
    "answer:\n",
    "    \n",
    "+----------------+-------------------+------+\n",
    "|Call Type       |Zipcode of Incident|count |\n",
    "+----------------+-------------------+------+\n",
    "|Medical Incident|94102              |582264|\n",
    "|Medical Incident|94103              |538180|\n",
    "|Medical Incident|94109              |347426|\n",
    "|Medical Incident|94110              |346086|\n",
    "|Medical Incident|94124              |206334|\n",
    "|Medical Incident|94112              |194948|\n",
    "|Medical Incident|94115              |166438|\n",
    "|Medical Incident|94107              |147324|\n",
    "|Medical Incident|94122              |144526|\n",
    "|Medical Incident|94133              |135291|\n",
    "+----------------+-------------------+------+\n",
    "only showing top 10 rows"
   ]
  },
  {
   "cell_type": "markdown",
   "id": "badc6d9a-6401-4181-8b9d-97b7db11bea4",
   "metadata": {
    "hidden": true
   },
   "source": [
    "**6) What neighbourhoods are in the two top zip codes from the listing in the previous question?**\n",
    "\n",
    "Probably these two zip codes are somehow related to contested neighbourhood with high reported crimes."
   ]
  },
  {
   "cell_type": "raw",
   "id": "afa33aca-c3bc-45d8-a326-ed19234e270f",
   "metadata": {},
   "source": [
    "answer:\n",
    "\n",
    "+------------------------------------+-------------------+\n",
    "|Neighborhooods - Analysis Boundaries|Zipcode of Incident|\n",
    "+------------------------------------+-------------------+\n",
    "|Financial District/South Beach      |94102              |\n",
    "|South of Market                     |94102              |\n",
    "|Mission Bay                         |94103              |\n",
    "|Nob Hill                            |94102              |\n",
    "|Castro/Upper Market                 |94103              |\n",
    "|Hayes Valley                        |94102              |\n",
    "|Tenderloin                          |94103              |\n",
    "|Western Addition                    |94102              |\n",
    "|Potrero Hill                        |94103              |\n",
    "|Mission                             |94103              |\n",
    "+------------------------------------+-------------------+\n",
    "only showing top 10 rows"
   ]
  },
  {
   "cell_type": "markdown",
   "id": "fda889ec",
   "metadata": {
    "heading_collapsed": true
   },
   "source": [
    "# Additional exercise\n",
    "\n",
    "Using the above dataset, write down code to anwser the following questions:\n",
    "\n",
    "1. What was the sum of all calls, average, min and max of the response times for calls (from the moment call is received till response is acknowledged and unit is on route)?\n",
    "\n",
    "    Hint: Use the functions sum(), avg(), min() and max()\n",
    "\n",
    "2. How many distinct years of data is in the CSV file?\n",
    "\n",
    "    Hint: Use the year() SQL Spark function off the timestamp of the Call Date column\n",
    "\n",
    "3. What week of the year in 2017 had the most fire calls?\n",
    "\n",
    "    Hint: Use the weekofyear() SQL Spark function off the timestamp of the Call Date column\n",
    "    \n",
    "Furthermore, create some visualizations to better understand the results obtained."
   ]
  },
  {
   "cell_type": "markdown",
   "id": "91a361e2",
   "metadata": {
    "heading_collapsed": true
   },
   "source": [
    "# References"
   ]
  },
  {
   "cell_type": "markdown",
   "id": "40dc87d9",
   "metadata": {
    "hidden": true
   },
   "source": [
    "* Learning Spark - Lightning-Fast Data Analytics, 2nd Ed. J. Damji, B. Wenig, T. Das, and D. Lee. O'Reilly, 2020\n",
    "* Spark: The Definitive Guide - Big Data Processing Made Simple, 1st Ed. B. Chambers and M. Zaharia. O'Reilly, 2018\n",
    "* https://spark.apache.org/docs/latest\n",
    "* https://docs.python.org/3/\n",
    "\n",
    "\n",
    "* https://data.sfgov.org/Public-Safety/Fire-Department-Calls-for-Service/nuek-vuh3\n"
   ]
  },
  {
   "cell_type": "code",
   "execution_count": null,
   "id": "902b757e",
   "metadata": {
    "hidden": true
   },
   "outputs": [],
   "source": []
  }
 ],
 "metadata": {
  "kernelspec": {
   "display_name": "PySpark",
   "language": "python",
   "name": "pyspark"
  },
  "language_info": {
   "codemirror_mode": {
    "name": "ipython",
    "version": 3
   },
   "file_extension": ".py",
   "mimetype": "text/x-python",
   "name": "python",
   "nbconvert_exporter": "python",
   "pygments_lexer": "ipython3",
   "version": "3.10.6"
  },
  "toc": {
   "base_numbering": 1,
   "nav_menu": {},
   "number_sections": true,
   "sideBar": true,
   "skip_h1_title": false,
   "title_cell": "Table of Contents",
   "title_sidebar": "Contents",
   "toc_cell": false,
   "toc_position": {},
   "toc_section_display": true,
   "toc_window_display": true
  }
 },
 "nbformat": 4,
 "nbformat_minor": 5
}
