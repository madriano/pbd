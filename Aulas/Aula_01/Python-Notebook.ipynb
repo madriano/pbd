{
 "cells": [
  {
   "cell_type": "markdown",
   "metadata": {},
   "source": [
    "**2021/22**"
   ]
  },
  {
   "cell_type": "markdown",
   "metadata": {
    "heading_collapsed": true
   },
   "source": [
    "# Revisiting Python and Jupyter notebooks"
   ]
  },
  {
   "cell_type": "markdown",
   "metadata": {
    "ExecuteTime": {
     "end_time": "2021-02-05T19:59:40.238538Z",
     "start_time": "2021-02-05T19:59:40.231832Z"
    },
    "hidden": true
   },
   "source": [
    "There is a growing demand for people to collaborate and present experiment results faster but in a friendly manner. Furthermore, results should be checked and validated collaboratively.\n",
    "\n",
    "In this context, using notebooks and a programming language like Python is an option that has achieved greater relevance in recent years.\n",
    "\n",
    "**Python** is a high level interpreted but object oriented programming language. It is also a strong and dynamic typed language. Strong typing means that variables do have a type and that the type matters when performing operations on a variable whereas dynamic typing means that the type of the variable is determined only during runtime. \n",
    "\n",
    "**Jupyter notebooks** are documents that can contain both code to be run and rich elements mainly for explanatory purposes such as images, links, text, etc."
   ]
  },
  {
   "cell_type": "markdown",
   "metadata": {
    "heading_collapsed": true
   },
   "source": [
    "# Jupyter notebooks\n",
    "Let us focus on the most important features"
   ]
  },
  {
   "cell_type": "markdown",
   "metadata": {
    "ExecuteTime": {
     "end_time": "2021-01-12T22:55:50.028157Z",
     "start_time": "2021-01-12T22:55:50.024024Z"
    },
    "hidden": true
   },
   "source": [
    "## Magic commands"
   ]
  },
  {
   "cell_type": "markdown",
   "metadata": {
    "hidden": true
   },
   "source": [
    "There are commands denominated `_magic command_` that starts with character `%`. \n",
    "\n",
    "- To obtain the list of commands available use `%lsmagic`.\n",
    "- For more information in general use `%magic`."
   ]
  },
  {
   "cell_type": "code",
   "execution_count": null,
   "metadata": {
    "ExecuteTime": {
     "end_time": "2021-02-09T12:38:54.531214Z",
     "start_time": "2021-02-09T12:38:54.524751Z"
    },
    "hidden": true
   },
   "outputs": [],
   "source": [
    "# line (%) and cell (%%) magics\n",
    "%lsmagic"
   ]
  },
  {
   "cell_type": "code",
   "execution_count": null,
   "metadata": {
    "ExecuteTime": {
     "end_time": "2021-02-09T12:38:55.430305Z",
     "start_time": "2021-02-09T12:38:55.408249Z"
    },
    "hidden": true
   },
   "outputs": [],
   "source": [
    "%magic"
   ]
  },
  {
   "cell_type": "markdown",
   "metadata": {
    "hidden": true
   },
   "source": [
    "One command _magic_ introduced in one unique line must start with the character `%` (_line magic_). On case of a command with multiple lines use `%%`.\n",
    "\n",
    "Some magic useful commands:\n",
    "\n",
    "- `!`: Executes a `shell` command. E.g.: `! ls -l`.\n",
    "- `%pylab inline`: Load the module `numpy` (as `np`) and the module `matplotlib` \"inline\".\n",
    "- `%time`: Evaluate the execution time of a command.\n",
    "- `%bash`: To run cell with bash shell.\n",
    "- `%%latex`: Interprets a cell as latex.\n",
    "- `%timeit`: Evaluates the time of execution of a command multiple times and shows the average time.\n",
    "- `%reset`: Delete all _workspace_ the variables.\n",
    "- `%bookmark`: (Allow to save a location in hard drive, i.e. actual directory to use later.\n",
    "- `%hist -o`: (history returns the list of executed commands).\n",
    "\n",
    "\n",
    "Explore some of those commands. \n",
    "\n",
    "For instance, if we want to run a script file, say script.py, we can use command magic `run` to do so:\n",
    "\n",
    "`%run script.py`"
   ]
  },
  {
   "cell_type": "code",
   "execution_count": null,
   "metadata": {
    "ExecuteTime": {
     "end_time": "2021-02-09T12:38:58.224078Z",
     "start_time": "2021-02-09T12:38:57.872769Z"
    },
    "hidden": true
   },
   "outputs": [],
   "source": [
    "# Some magic useful commands\n",
    "! ls -la\n",
    "! pwd\n",
    "! env\n",
    "%time\n",
    "# check others ..."
   ]
  },
  {
   "cell_type": "code",
   "execution_count": null,
   "metadata": {
    "ExecuteTime": {
     "end_time": "2021-02-09T12:42:39.879731Z",
     "start_time": "2021-02-09T12:42:39.871983Z"
    },
    "hidden": true
   },
   "outputs": [],
   "source": [
    "%%HTML\n",
    "<p>This is an HTML paragraph</p>\n",
    "<p>and another paragraph</p>"
   ]
  },
  {
   "cell_type": "markdown",
   "metadata": {
    "heading_collapsed": true
   },
   "source": [
    "# Python\n",
    "An overview of the main features of the language"
   ]
  },
  {
   "cell_type": "markdown",
   "metadata": {
    "heading_collapsed": true,
    "hidden": true
   },
   "source": [
    "## Basic instructions"
   ]
  },
  {
   "cell_type": "markdown",
   "metadata": {
    "hidden": true
   },
   "source": [
    "Try the follow simple instructions:\n",
    "    \n",
    "    1+1\n",
    "    4+2*3\n",
    "    6 / 7\n",
    "    6 // 7 (floor or integer division)\n",
    "    x = 2\n",
    "    y = 3\n",
    "    z = x+y\n",
    "    print(z)\n",
    "    print(\"Hello world\")"
   ]
  },
  {
   "cell_type": "code",
   "execution_count": null,
   "metadata": {
    "ExecuteTime": {
     "end_time": "2021-02-09T12:42:54.019063Z",
     "start_time": "2021-02-09T12:42:54.008827Z"
    },
    "hidden": true
   },
   "outputs": [],
   "source": []
  },
  {
   "cell_type": "markdown",
   "metadata": {
    "hidden": true
   },
   "source": [
    "## Primitive data types"
   ]
  },
  {
   "cell_type": "markdown",
   "metadata": {
    "hidden": true
   },
   "source": [
    "### String\n",
    "\n",
    "The type `string` allow us to save a character sequence. A character sequence is defined between \"\" or ''.\n",
    "\n",
    "Special characters (_escape characters_) can be defined using the character `\\`  follow the one letter. E.g. `\\n` defines a new line.\n",
    "\n",
    "    s = \"Hello\"\n",
    "    print(s)\n",
    "    t = \"hello\\neverything fine?\"\n",
    "    print(t) "
   ]
  },
  {
   "cell_type": "code",
   "execution_count": null,
   "metadata": {
    "ExecuteTime": {
     "end_time": "2021-02-09T12:43:39.036954Z",
     "start_time": "2021-02-09T12:43:39.031409Z"
    },
    "hidden": true
   },
   "outputs": [],
   "source": [
    "s = \"Hello\""
   ]
  },
  {
   "cell_type": "markdown",
   "metadata": {
    "hidden": true
   },
   "source": [
    "The command `print` accepts multiple arguments and options:\n",
    "\n",
    "    print(s,t)\n",
    "    print(\"Hello \", end='')\n",
    "    print(\"Everything fine?)\n",
    "    "
   ]
  },
  {
   "cell_type": "code",
   "execution_count": null,
   "metadata": {
    "ExecuteTime": {
     "end_time": "2021-02-09T12:43:42.422860Z",
     "start_time": "2021-02-09T12:43:42.416987Z"
    },
    "hidden": true
   },
   "outputs": [],
   "source": [
    "print(s)"
   ]
  },
  {
   "cell_type": "code",
   "execution_count": null,
   "metadata": {
    "ExecuteTime": {
     "end_time": "2021-02-09T12:43:46.036529Z",
     "start_time": "2021-02-09T12:43:46.032882Z"
    },
    "hidden": true
   },
   "outputs": [],
   "source": [
    "# to uppercase \n",
    "s = \"hello\"\n",
    "s.upper()"
   ]
  },
  {
   "cell_type": "code",
   "execution_count": null,
   "metadata": {
    "ExecuteTime": {
     "end_time": "2021-02-09T12:43:48.921132Z",
     "start_time": "2021-02-09T12:43:48.913259Z"
    },
    "hidden": true
   },
   "outputs": [],
   "source": [
    "type(s) # check the type object x"
   ]
  },
  {
   "cell_type": "code",
   "execution_count": null,
   "metadata": {
    "ExecuteTime": {
     "end_time": "2021-02-09T12:43:50.993296Z",
     "start_time": "2021-02-09T12:43:50.984042Z"
    },
    "hidden": true
   },
   "outputs": [],
   "source": [
    "dir(s) # check the methods of string type x"
   ]
  },
  {
   "cell_type": "code",
   "execution_count": null,
   "metadata": {
    "ExecuteTime": {
     "end_time": "2021-02-09T12:43:57.170891Z",
     "start_time": "2021-02-09T12:43:57.163643Z"
    },
    "hidden": true
   },
   "outputs": [],
   "source": [
    "help(s.upper)"
   ]
  },
  {
   "cell_type": "code",
   "execution_count": null,
   "metadata": {
    "ExecuteTime": {
     "end_time": "2021-02-09T12:44:07.270619Z",
     "start_time": "2021-02-09T12:44:07.264120Z"
    },
    "hidden": true
   },
   "outputs": [],
   "source": [
    "s = \"hello\\neverything\\t fine?\"\n",
    "print(s) # change the string line after \"hello\" and put a tab between \"everything\" and \"fine\""
   ]
  },
  {
   "cell_type": "code",
   "execution_count": null,
   "metadata": {
    "ExecuteTime": {
     "end_time": "2021-02-09T12:44:33.426988Z",
     "start_time": "2021-02-09T12:44:33.416785Z"
    },
    "hidden": true
   },
   "outputs": [],
   "source": [
    "len(s) # len of a string"
   ]
  },
  {
   "cell_type": "markdown",
   "metadata": {
    "heading_collapsed": true,
    "hidden": true
   },
   "source": [
    "### Concatenation and Length\n",
    "\n",
    "    s = \"Hello\" + \"margarida\"\n",
    "    print(s)\n",
    "    \n",
    "    len(s)\n",
    "    \n",
    "    s=\"-\"*1000\n",
    "    print(s)"
   ]
  },
  {
   "cell_type": "code",
   "execution_count": null,
   "metadata": {
    "ExecuteTime": {
     "end_time": "2021-02-09T12:44:57.194691Z",
     "start_time": "2021-02-09T12:44:57.189871Z"
    },
    "hidden": true
   },
   "outputs": [],
   "source": []
  },
  {
   "cell_type": "markdown",
   "metadata": {
    "heading_collapsed": true,
    "hidden": true
   },
   "source": [
    "### Slices\n",
    "Allow the access of an element or set of elements in a variable."
   ]
  },
  {
   "cell_type": "markdown",
   "metadata": {
    "hidden": true
   },
   "source": [
    "`s[begin : end]`. E.g.: be `s = \"Hello\"`.\n",
    "\n",
    "    s[1:4]\n",
    "    s[1:]\n",
    "    s[:]\n",
    "    s[1:100]\n",
    "\n"
   ]
  },
  {
   "cell_type": "markdown",
   "metadata": {
    "hidden": true
   },
   "source": [
    "**Important:**\n",
    "\n",
    "    s[:n] + s[n:] == s"
   ]
  },
  {
   "cell_type": "code",
   "execution_count": null,
   "metadata": {
    "ExecuteTime": {
     "end_time": "2021-02-09T12:46:05.156651Z",
     "start_time": "2021-02-09T12:46:05.149585Z"
    },
    "hidden": true
   },
   "outputs": [],
   "source": [
    "s[1:4]"
   ]
  },
  {
   "cell_type": "markdown",
   "metadata": {
    "hidden": true
   },
   "source": [
    "### Operators\n",
    "\n",
    "#### Arithmetic  Operators\n",
    "\n",
    "Operator | Description | Example\n",
    ":-:|-|- \n",
    "`+` | Addiction | x = y+2\n",
    "`-` | Subtraction | x = y-2\n",
    "`*` | Multiplication | x = 3*y\n",
    "`/` | Division (by default integer if operands are integers) | x = y / 2\n",
    "`//` | Integer division (regardless of operands) | x = 3.0 // 2.\n",
    "`**` | Exponentiation | x = 2**4\n",
    "`%` | Rest of the whole division | x = 5%4"
   ]
  },
  {
   "cell_type": "markdown",
   "metadata": {
    "heading_collapsed": true,
    "hidden": true
   },
   "source": [
    "#### Relational Operators \n",
    "\n",
    "Operator | Description\n",
    ":-:|-\n",
    "`<` | Less than\n",
    "`<=` | Less or equal than\n",
    "`>` | Greater than\n",
    "`>=` | Greater or equal than\n",
    "`==` | Equal\n",
    "`!=` or `<>` | Different "
   ]
  },
  {
   "cell_type": "markdown",
   "metadata": {
    "heading_collapsed": true,
    "hidden": true
   },
   "source": [
    "#### Logical Operators\n",
    "\n",
    "Operator | Description \n",
    ":-:|-\n",
    "`or` | Disjunction - \"or\"\n",
    "`and` | Conjunction - \"and\"\n",
    "`not` | Negation - \"not\""
   ]
  },
  {
   "cell_type": "markdown",
   "metadata": {
    "hidden": true
   },
   "source": [
    "#### Inclusion Operators \n",
    "`in` e `not in`\n",
    "\n",
    "    character = \"s\"\n",
    "    word = \"operators\"\n",
    "    character in word"
   ]
  },
  {
   "cell_type": "code",
   "execution_count": null,
   "metadata": {
    "hidden": true
   },
   "outputs": [],
   "source": []
  },
  {
   "cell_type": "markdown",
   "metadata": {
    "hidden": true
   },
   "source": [
    "#### Identity Operators \n",
    "\n",
    "In `Python` most of the times the operator `=` does not copy the object but return a reference  for the same.  for testing if two objects share the same memory position can be used identity operators.\n",
    "\n",
    "Operador | Description\n",
    ":-:|-\n",
    "`is` | Returns true if two variables points the same object.\n",
    "`is not` | Returns false if two variables do not point to the same object. "
   ]
  },
  {
   "cell_type": "markdown",
   "metadata": {
    "hidden": true
   },
   "source": [
    "#### Attention!\n",
    "`==` and `!=` vs `is` and `is not`\n",
    "\n",
    "    [2,3] == [3,3]\n",
    "    [2,3] == [2,3]\n",
    "    [2,3] is [2,3]\n",
    "    \n",
    "    x=[2,3]\n",
    "    y = x\n",
    "    y is x\n",
    "    \n",
    "    x=[2,3]\n",
    "    y = x\n",
    "    y is x\n",
    "    \n",
    "**Note: Check the id of an object:**\n",
    "\n",
    "    id(x)\n",
    "    id(y)\n",
    "    \n",
    "For copy complex structures can be used the module `copy`.\n",
    "\n",
    "    import copy\n",
    "    x = [1,[2]]\n",
    "    y = copy.copy(x)"
   ]
  },
  {
   "cell_type": "code",
   "execution_count": null,
   "metadata": {
    "hidden": true
   },
   "outputs": [],
   "source": []
  },
  {
   "cell_type": "markdown",
   "metadata": {
    "heading_collapsed": true,
    "hidden": true
   },
   "source": [
    "### Integer and Decimals\n",
    "\n",
    "If an integer value is set into a variable the type of data is (`int`). If the value has decimal part, it is a `float`.\n",
    "\n",
    "    x=2\n",
    "    type(x)\n",
    "    \n",
    "    x=2.\n",
    "    type(x)"
   ]
  },
  {
   "cell_type": "code",
   "execution_count": null,
   "metadata": {
    "hidden": true
   },
   "outputs": [],
   "source": []
  },
  {
   "cell_type": "markdown",
   "metadata": {
    "hidden": true
   },
   "source": [
    "### Boolean\n",
    "\n",
    "The type of data `boolean` allow us to save two values: true(`True`) or false (`False`).\n",
    "\n",
    "    x = True\n",
    "    y = False\n",
    "    type(y)"
   ]
  },
  {
   "cell_type": "code",
   "execution_count": null,
   "metadata": {
    "hidden": true
   },
   "outputs": [],
   "source": []
  },
  {
   "cell_type": "markdown",
   "metadata": {
    "heading_collapsed": true,
    "hidden": true
   },
   "source": [
    "## Other data types"
   ]
  },
  {
   "cell_type": "markdown",
   "metadata": {
    "hidden": true
   },
   "source": [
    "### Lists\n",
    "\n",
    "Lists are **mutable** sequences of objects of any type.\n",
    "\n",
    "    lista = ['machine', 'learning', 2019]\n",
    "    numbers = [1,2,3,4]\n",
    "    lista[2] = 'is the best'\n",
    "    del lista[2]\n",
    "    numbers.append(10)\n",
    "    \n",
    "    x = [12, 14, 16]\n",
    "    numbers + x\n",
    "    \n",
    "    numbers.reverse()\n",
    "    \n",
    "    names = [\"Joao\", \"Antonio\", \"Pedro\"]\n",
    "    names.sort() \n",
    "    \n",
    "    len(names)"
   ]
  },
  {
   "cell_type": "code",
   "execution_count": null,
   "metadata": {
    "hidden": true
   },
   "outputs": [],
   "source": []
  },
  {
   "cell_type": "markdown",
   "metadata": {
    "hidden": true
   },
   "source": [
    "### Tuples\n",
    "\n",
    "Tuples are **immutable** sequences typically used to store heterogeneous data. It is a single object that consists of several different parts.\n",
    "\n",
    "Once common use is to return more than one object from a Python function."
   ]
  },
  {
   "cell_type": "code",
   "execution_count": null,
   "metadata": {
    "ExecuteTime": {
     "end_time": "2021-02-05T21:54:10.799375Z",
     "start_time": "2021-02-05T21:54:10.797365Z"
    },
    "hidden": true
   },
   "outputs": [],
   "source": [
    "tup1 = ('big', 'data', 2019)\n",
    "tup2 = (1,2,3,4,5,6)"
   ]
  },
  {
   "cell_type": "code",
   "execution_count": null,
   "metadata": {
    "ExecuteTime": {
     "end_time": "2021-02-05T21:54:12.168100Z",
     "start_time": "2021-02-05T21:54:12.158042Z"
    },
    "hidden": true
   },
   "outputs": [],
   "source": [
    "tup1[1:]"
   ]
  },
  {
   "cell_type": "markdown",
   "metadata": {
    "hidden": true
   },
   "source": [
    "### Ranges\n",
    "\n",
    "Ranges are immutable sequences of integers (range object not a list)"
   ]
  },
  {
   "cell_type": "code",
   "execution_count": null,
   "metadata": {
    "ExecuteTime": {
     "end_time": "2021-02-05T21:54:14.250281Z",
     "start_time": "2021-02-05T21:54:14.244761Z"
    },
    "hidden": true
   },
   "outputs": [],
   "source": [
    "range(0,5)"
   ]
  },
  {
   "cell_type": "code",
   "execution_count": null,
   "metadata": {
    "ExecuteTime": {
     "end_time": "2021-02-05T21:54:15.320183Z",
     "start_time": "2021-02-05T21:54:15.317417Z"
    },
    "hidden": true
   },
   "outputs": [],
   "source": [
    "list(range(5))"
   ]
  },
  {
   "cell_type": "markdown",
   "metadata": {
    "hidden": true
   },
   "source": [
    "### Sets\n",
    "\n",
    "`sets` are a collection of elements without repetitions. The objects of type  `set` support math operations such as `union`, `intersection`, `difference` e `symmetric difference`.\n",
    "\n",
    "    colors = {'blue', 'red', 'green', 'orange', 'red'}\n",
    "    colors\n",
    "    \n",
    "    'green' in colors\n",
    "    'yellow' in colors\n",
    "    \n",
    "    lesscolors = set(['blue', 'green', 'yellow'])\n",
    "    \n",
    "    colors - lesscolors\n",
    "    colors | lesscolors\n",
    "    colors & lesscolors\n",
    "    colors ^ lesscolors\n",
    "\n",
    "\n",
    "Add or remove elements\n",
    "\n",
    "    colors.add('black')\n",
    "    colors.pop()"
   ]
  },
  {
   "cell_type": "code",
   "execution_count": null,
   "metadata": {
    "hidden": true
   },
   "outputs": [],
   "source": []
  },
  {
   "cell_type": "markdown",
   "metadata": {
    "hidden": true
   },
   "source": [
    "### Dictionaries\n",
    "\n",
    "Dictionaries are maps between _key objects_ for _value objects_.\n",
    "\n",
    "The _key objects_ must be unchanging!\n",
    "\n",
    "The dictionaries can be created with `{ }` or using constructor  `dict()`:\n",
    "\n",
    "    phones = {'joao': 123, 'pedro': 124, 'antónio': 125}\n",
    "    rooms = dict([('joao', 'D604'), ('pedro', 'D605')])\n",
    "    months = dict(jan=31, fev=29, mar=31)\n",
    "    \n",
    "#### Access dictionary elements     \n",
    "    \n",
    "The access of a dictionary elements do it using `[ ]`  and indicating the corresponding _key_:\n",
    "    \n",
    "    phones['joao']\n",
    "    rooms['pedro'] = 'D606'\n",
    "    \n",
    "Delete a element we use del command `del`:\n",
    "    \n",
    "    del rooms['pedro']   # Remove the entry with 'pedro' key. \n",
    "    months.clear()      # Remove all the dictionary elements.\n",
    "    del months         # Delete the dictionary.\n",
    "    \n",
    "#### Methods\n",
    "\n",
    "The following table lists a set of methods available for dictionary objects (note that there are more).\n",
    "\n",
    "Method | Description\n",
    "-|-\n",
    "`dict.clear()` | Remove all dictionary elements `dict`.\n",
    "`dict.copy()` | Returns a copy of the dictionary `dict`.\n",
    "`dict.keys()` | Returns a list with dictionary `keys`. \n",
    "`dict.values()` | Returns a list of dictionary elements `dict`.\n",
    "`dict.items()` | Returns a list of tuples (`key`, `value`) from the dictionary `dict`.\n",
    "`dict.has_key(key)` | Returns `true` if the `key` exists in the dictionary `dict`."
   ]
  },
  {
   "cell_type": "code",
   "execution_count": null,
   "metadata": {
    "hidden": true
   },
   "outputs": [],
   "source": []
  },
  {
   "cell_type": "markdown",
   "metadata": {
    "heading_collapsed": true,
    "hidden": true
   },
   "source": [
    "## Control structures"
   ]
  },
  {
   "cell_type": "markdown",
   "metadata": {
    "hidden": true
   },
   "source": [
    "### Indentation\n",
    "\n",
    "- code block starts with character`:`\n",
    "- use o TAB\n",
    "- select the code block and use TAB or shift TAB"
   ]
  },
  {
   "cell_type": "markdown",
   "metadata": {
    "hidden": true
   },
   "source": [
    "### Ifs"
   ]
  },
  {
   "cell_type": "code",
   "execution_count": null,
   "metadata": {
    "ExecuteTime": {
     "end_time": "2021-02-05T21:55:12.022213Z",
     "start_time": "2021-02-05T21:55:12.013522Z"
    },
    "hidden": true
   },
   "outputs": [],
   "source": [
    "if x>5:\n",
    "    print(\"Bigger than 5\")\n",
    "else:\n",
    "    print(\"Less or equal to 5\")"
   ]
  },
  {
   "cell_type": "code",
   "execution_count": null,
   "metadata": {
    "ExecuteTime": {
     "end_time": "2021-02-05T21:55:12.766976Z",
     "start_time": "2021-02-05T21:55:12.757810Z"
    },
    "hidden": true
   },
   "outputs": [],
   "source": [
    "if x>5:\n",
    "    print(\"Bigger than 5\")\n",
    "elif x==5:\n",
    "    print(\"Equal to 5\")\n",
    "else:\n",
    "    print(\"Less than 5\")"
   ]
  },
  {
   "cell_type": "markdown",
   "metadata": {
    "hidden": true
   },
   "source": [
    "### Loops"
   ]
  },
  {
   "cell_type": "code",
   "execution_count": null,
   "metadata": {
    "ExecuteTime": {
     "end_time": "2021-02-05T21:55:24.945123Z",
     "start_time": "2021-02-05T21:55:24.941141Z"
    },
    "hidden": true
   },
   "outputs": [],
   "source": [
    "x = 10\n",
    "while x > 0:\n",
    "    print(x)\n",
    "    x-=1"
   ]
  },
  {
   "cell_type": "code",
   "execution_count": null,
   "metadata": {
    "ExecuteTime": {
     "end_time": "2021-02-05T21:55:25.690043Z",
     "start_time": "2021-02-05T21:55:25.678972Z"
    },
    "hidden": true
   },
   "outputs": [],
   "source": [
    "new_list = ['Hello', 'Good', 'Morning']\n",
    "for item in new_list:\n",
    "    print(item)"
   ]
  },
  {
   "cell_type": "code",
   "execution_count": null,
   "metadata": {
    "ExecuteTime": {
     "end_time": "2021-02-05T21:55:27.000051Z",
     "start_time": "2021-02-05T21:55:26.996886Z"
    },
    "hidden": true
   },
   "outputs": [],
   "source": [
    "for i in range (2,10,2):\n",
    "    print(i)"
   ]
  },
  {
   "cell_type": "code",
   "execution_count": null,
   "metadata": {
    "ExecuteTime": {
     "end_time": "2021-02-09T12:48:09.164625Z",
     "start_time": "2021-02-09T12:48:09.158857Z"
    },
    "hidden": true
   },
   "outputs": [],
   "source": [
    "coordinates = [(i, i**2) for i in range(10)]"
   ]
  },
  {
   "cell_type": "code",
   "execution_count": null,
   "metadata": {
    "ExecuteTime": {
     "end_time": "2021-02-09T12:48:09.719755Z",
     "start_time": "2021-02-09T12:48:09.710919Z"
    },
    "hidden": true
   },
   "outputs": [],
   "source": [
    "coordinates"
   ]
  },
  {
   "cell_type": "markdown",
   "metadata": {
    "heading_collapsed": true,
    "hidden": true
   },
   "source": [
    "## Functions"
   ]
  },
  {
   "cell_type": "code",
   "execution_count": null,
   "metadata": {
    "ExecuteTime": {
     "end_time": "2021-02-09T12:48:19.881758Z",
     "start_time": "2021-02-09T12:48:19.879363Z"
    },
    "hidden": true
   },
   "outputs": [],
   "source": [
    "def fib(n):    # write Fibonacci series up to n\n",
    "   \"\"\"Print a Fibonacci series up to n.\"\"\"\n",
    "   a, b = 0, 1\n",
    "   while a < n:\n",
    "     print (a,\"\", end='')\n",
    "     a, b = b, a+b"
   ]
  },
  {
   "cell_type": "code",
   "execution_count": null,
   "metadata": {
    "ExecuteTime": {
     "end_time": "2021-02-09T12:48:20.800000Z",
     "start_time": "2021-02-09T12:48:20.791394Z"
    },
    "hidden": true
   },
   "outputs": [],
   "source": [
    "fib(5)"
   ]
  },
  {
   "cell_type": "code",
   "execution_count": null,
   "metadata": {
    "ExecuteTime": {
     "end_time": "2021-02-09T12:48:29.724554Z",
     "start_time": "2021-02-09T12:48:29.718417Z"
    },
    "hidden": true
   },
   "outputs": [],
   "source": [
    "# Return more than one value in a function\n",
    "def squares_till_n(n):\n",
    "    return [(i,i**2) for i in range(1,n+1)]"
   ]
  },
  {
   "cell_type": "code",
   "execution_count": null,
   "metadata": {
    "ExecuteTime": {
     "end_time": "2021-02-09T12:48:30.730302Z",
     "start_time": "2021-02-09T12:48:30.721186Z"
    },
    "hidden": true
   },
   "outputs": [],
   "source": [
    "squares_till_n(5)"
   ]
  },
  {
   "cell_type": "markdown",
   "metadata": {
    "hidden": true
   },
   "source": [
    "### Anonymous functions"
   ]
  },
  {
   "cell_type": "code",
   "execution_count": null,
   "metadata": {
    "ExecuteTime": {
     "end_time": "2021-02-09T12:48:39.055343Z",
     "start_time": "2021-02-09T12:48:39.047076Z"
    },
    "hidden": true
   },
   "outputs": [],
   "source": [
    "sqr = lambda x: x**2\n",
    "sqr(5)"
   ]
  },
  {
   "cell_type": "code",
   "execution_count": null,
   "metadata": {
    "ExecuteTime": {
     "end_time": "2021-02-09T12:48:43.843490Z",
     "start_time": "2021-02-09T12:48:43.838336Z"
    },
    "hidden": true
   },
   "outputs": [],
   "source": [
    "# One function can return a function:\n",
    "def make_incrementor(n):\n",
    "        return lambda x: x + n"
   ]
  },
  {
   "cell_type": "code",
   "execution_count": null,
   "metadata": {
    "ExecuteTime": {
     "end_time": "2021-02-09T12:48:44.580824Z",
     "start_time": "2021-02-09T12:48:44.569312Z"
    },
    "hidden": true
   },
   "outputs": [],
   "source": [
    "incrementa4 = make_incrementor(4)\n",
    "incrementa4(5)"
   ]
  },
  {
   "cell_type": "markdown",
   "metadata": {
    "heading_collapsed": true,
    "hidden": true
   },
   "source": [
    "## Classes"
   ]
  },
  {
   "cell_type": "code",
   "execution_count": null,
   "metadata": {
    "ExecuteTime": {
     "end_time": "2021-02-09T12:48:53.933466Z",
     "start_time": "2021-02-09T12:48:53.927087Z"
    },
    "hidden": true
   },
   "outputs": [],
   "source": [
    "# Defining a new class with a function that receives a list and removes the min integer. \n",
    "\n",
    "class MyList(list):\n",
    "    def remove_min(self):\n",
    "        self.remove(min(self))"
   ]
  },
  {
   "cell_type": "code",
   "execution_count": null,
   "metadata": {
    "ExecuteTime": {
     "end_time": "2021-02-09T12:48:54.534023Z",
     "start_time": "2021-02-09T12:48:54.519521Z"
    },
    "hidden": true
   },
   "outputs": [],
   "source": [
    "x = [10,3, 5, 1, 2, 7, 6, 4, 8]\n",
    "y = MyList(x)\n",
    "y\n",
    "\n",
    "y.remove_min()\n",
    "y"
   ]
  },
  {
   "cell_type": "markdown",
   "metadata": {
    "heading_collapsed": true,
    "hidden": true
   },
   "source": [
    "## Files"
   ]
  },
  {
   "cell_type": "markdown",
   "metadata": {
    "hidden": true
   },
   "source": [
    "### Create files\n",
    "\n",
    "The command `%%file` allow us to create a text file.\n",
    "\n",
    "    %%file script.py\n",
    "    x = 10\n",
    "    y = x**2\n",
    "    print (\"x = %d, e y = %d\" %(x,y))"
   ]
  },
  {
   "cell_type": "code",
   "execution_count": null,
   "metadata": {
    "ExecuteTime": {
     "end_time": "2021-02-09T12:55:38.654130Z",
     "start_time": "2021-02-09T12:55:38.645910Z"
    },
    "hidden": true
   },
   "outputs": [],
   "source": []
  },
  {
   "cell_type": "markdown",
   "metadata": {
    "hidden": true
   },
   "source": [
    "### Running code from a file\n",
    "\n",
    "To run a python script:\n",
    "\n",
    "`python <scriptname.py>`"
   ]
  },
  {
   "cell_type": "code",
   "execution_count": null,
   "metadata": {
    "ExecuteTime": {
     "end_time": "2021-02-09T12:57:00.724428Z",
     "start_time": "2021-02-09T12:57:00.578605Z"
    },
    "hidden": true
   },
   "outputs": [],
   "source": []
  },
  {
   "cell_type": "markdown",
   "metadata": {
    "heading_collapsed": true,
    "hidden": true
   },
   "source": [
    "## Modules"
   ]
  },
  {
   "cell_type": "markdown",
   "metadata": {
    "hidden": true
   },
   "source": [
    "- Modules are libraries of code. \n",
    "- Can be used using the command `import`.\n",
    "\n",
    "E.g.:\n",
    "\n",
    "    import math\n",
    "    math.pi\n",
    "    math.sqrt(10)\n",
    "    from math import pi\n",
    "\n",
    "A **namespace** is a container of names shared by objects that typically go together, and its intention is to prevent naming conflicts.\n",
    "\n",
    "E.g.:\n",
    "\n",
    "    import math\n",
    "    import numpy as np\n",
    "    math.sqrt\n",
    "    np.sqrt"
   ]
  },
  {
   "cell_type": "markdown",
   "metadata": {
    "hidden": true
   },
   "source": [
    "What happens when you use the `import` statement?\n",
    "\n",
    "1. creates a new namespace.\n",
    "2. executes the code of module within this newly created namespace.\n",
    "3. creates a name (e.g. np for numpy) and this name references this new namespace."
   ]
  },
  {
   "cell_type": "markdown",
   "metadata": {
    "hidden": true
   },
   "source": [
    "## Useful Python-based packages"
   ]
  },
  {
   "cell_type": "markdown",
   "metadata": {
    "ExecuteTime": {
     "end_time": "2021-01-13T16:19:44.531535Z",
     "start_time": "2021-01-13T16:19:44.523801Z"
    },
    "hidden": true
   },
   "source": [
    "There is a comprehensive Python-based ecosystem of open-source packages. See https://www.python.org/ for further details.\n",
    "\n",
    "The ones we might be interested on are the following:\n",
    "\n",
    "1. pandas - Data structures and analysis (see https://pandas.pydata.org)\n",
    "2. numPy - Base N-dimensional array package (see https://numpy.org)\n",
    "3. seaborn - Data visualization librarye (see https://seaborn.pydata.org)"
   ]
  },
  {
   "cell_type": "markdown",
   "metadata": {
    "heading_collapsed": true
   },
   "source": [
    "# References"
   ]
  },
  {
   "cell_type": "markdown",
   "metadata": {
    "hidden": true
   },
   "source": [
    "https://docs.python.org/3/"
   ]
  }
 ],
 "metadata": {
  "kernelspec": {
   "display_name": "Python 3 (ipykernel)",
   "language": "python",
   "name": "python3"
  },
  "language_info": {
   "codemirror_mode": {
    "name": "ipython",
    "version": 3
   },
   "file_extension": ".py",
   "mimetype": "text/x-python",
   "name": "python",
   "nbconvert_exporter": "python",
   "pygments_lexer": "ipython3",
   "version": "3.9.10"
  },
  "toc": {
   "base_numbering": 1,
   "nav_menu": {
    "height": "429px",
    "width": "339px"
   },
   "number_sections": true,
   "sideBar": true,
   "skip_h1_title": false,
   "title_cell": "Table of Contents",
   "title_sidebar": "Contents",
   "toc_cell": false,
   "toc_position": {},
   "toc_section_display": true,
   "toc_window_display": false
  }
 },
 "nbformat": 4,
 "nbformat_minor": 2
}
