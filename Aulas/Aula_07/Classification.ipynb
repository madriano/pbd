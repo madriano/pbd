{
 "cells": [
  {
   "cell_type": "markdown",
   "metadata": {},
   "source": [
    "**2020/21**"
   ]
  },
  {
   "cell_type": "markdown",
   "metadata": {
    "heading_collapsed": true
   },
   "source": [
    "# Classification\n",
    "This lecture is about data classification in discrete spaces."
   ]
  },
  {
   "attachments": {
    "up_down.png": {
     "image/png": "[encoded data removed]"
    }
   },
   "cell_type": "markdown",
   "metadata": {
    "ExecuteTime": {
     "end_time": "2021-03-06T10:22:17.327501Z",
     "start_time": "2021-03-06T10:22:17.319814Z"
    },
    "hidden": true
   },
   "source": [
    "Previously we have worked on linear regression, where the goal was to establish predictions in a continuous space. Now we keep the same sort of goal but moving into the discrete space.\n",
    "\n",
    "In this notebook, the dataset under consideration is from the domain of financial markets. We still be using the Apache Spark MLlib, as well as will be revisiting the concept of `ML Pipeline`.\n",
    "\n",
    "![up_down.png](attachment:up_down.png)"
   ]
  },
  {
   "cell_type": "markdown",
   "metadata": {
    "heading_collapsed": true
   },
   "source": [
    "# ML Pipelines\n",
    "\n",
    "As stated in the Spark's programming guide, *\"ML Pipelines provide a uniform set of high-level APIs built on top of DataFrames that help users create and tune practical machine learning pipelines.\"*"
   ]
  },
  {
   "attachments": {},
   "cell_type": "markdown",
   "metadata": {
    "hidden": true
   },
   "source": [
    "Hence, it is possible to combine multiple algorithms into a single pipeline, or workflow. \n",
    "\n",
    "Besides DataFrames, it involves the following:\n",
    "\n",
    "1. **Transformer**: an algorithm which can transform one DataFrame into another DataFrame. For example, an ML model is a Transformer which transforms a DataFrame with features into a DataFrame with predictions.\n",
    "\n",
    "2. **Estimator**: an algorithm which can be fit on a DataFrame to produce a Transformer. For example, a learning algorithm is an Estimator which trains on a DataFrame and produces a model.\n",
    "\n",
    "3. **Pipeline**: the way to chain multiple Transformers and Estimators together to specify an ML workflow.\n",
    "\n",
    "4. **Parameter**: all Transformers and Estimators share a common API for specifying parameters.\n",
    "\n",
    "\n",
    "Further details can be found in http://spark.apache.org/docs/latest/ml-pipeline.html"
   ]
  },
  {
   "cell_type": "code",
   "execution_count": null,
   "metadata": {
    "ExecuteTime": {
     "end_time": "2021-03-14T17:17:36.137035Z",
     "start_time": "2021-03-14T17:17:35.572402Z"
    },
    "hidden": true
   },
   "outputs": [],
   "source": [
    "# some imports \n",
    "\n",
    "import os # OS e.g directory structure\n",
    "import numpy as np # linear algebra\n",
    "import scipy as sc  # scientific computing\n",
    "import pandas as pd # data processing, file I/O\n",
    "import seaborn as sns  # visualization\n",
    "import matplotlib.pyplot as plt # visualization\n",
    "import warnings\n",
    "warnings.filterwarnings(\"ignore\")"
   ]
  },
  {
   "cell_type": "markdown",
   "metadata": {
    "heading_collapsed": true
   },
   "source": [
    "# Exercise\n",
    "\n",
    "This exercise is about **stock market prediction** in the financial industry. Our case-study and dataset is based on a Kaggle competition currently going on, which details can be found in https://www.kaggle.com/c/jane-street-market-prediction .\n",
    "\n",
    "Obviously we are not going to create a complex quantitative trading system but just work on a tiny bit - classification. It relates to deciding whether a particular trade proposal is going to be accepted, so traded, or not. \n",
    "\n",
    "Basically, the functional requirements for the Spark program we are about to create are as follows:\n",
    "\n",
    "\n",
    "1. To load the dataset under analysis and making sure it can be further processed by a ML classifier. \n",
    "2. To create a classification model supported by a SVM algorithm, fitted for the purpose of the classification goal set above.\n",
    "3. For each day, to compute the daily score as the sum of the product `weight` x `resp` (see schema below) of the trades the system opt to trade in that day. In that respect, the data to be processed is different from the one being used to create the model.\n",
    "    "
   ]
  },
  {
   "cell_type": "markdown",
   "metadata": {
    "hidden": true
   },
   "source": [
    "## Context\n",
    "`Buy low, sell high.` Sounds good but it is not as easy as it seems!\n",
    "\n",
    "Financial markets are nowdays very complex. In such a fast-moving environment, electronic trading allows for thousands of transactions to occur within a fraction of a second, and so providing many opportunities to find and take advantage of price differences in real time.\n",
    "\n",
    "In an efficient market, buyers and sellers would have all the information they need to make rational decisions. As result, products remain at *fair* values, not undervalued nor overpriced. But in the real world, markets do not work like that. \n",
    "\n",
    "Developing trading strategies to identify and take advantage of inefficiencies is challenging. Even if a strategy is profitable at some point in time, it may not be in the future, and market volatility makes it impossible to predict the profitability of any given trade with certainty. It is hard to distinguish good luck from good trading decision. \n",
    "\n",
    "The ultimated goal is to build a quantitative trading model to maximize returns using real time market data. Once the model faces trading opportunities, it must decide whether to accept or reject them.\n",
    "\n",
    "The all building process includes testing its predictiveness against future market returns, as well as checking against historical data, the so-called backtesting. There are a few more notes worth considering, namely:\n",
    "\n",
    "- The development of good models is very challenging. For example, we may collect too much noise from the market data, there will be redundancy in the information collected, we may experience strong feature correlations, it is difficult to establish a proper mathematical formulation, etc.\n",
    "- An highly predictive model, which selects the right trades to execute, will contribute to pushing prices closer to *fair* values, as it sends correct messages to the market.\n",
    "- As more people are using this kind of strategies, the slimest advantage due to having good models will pay off. \n"
   ]
  },
  {
   "cell_type": "markdown",
   "metadata": {
    "ExecuteTime": {
     "end_time": "2021-03-06T19:09:50.951636Z",
     "start_time": "2021-03-06T19:09:50.937311Z"
    },
    "hidden": true
   },
   "source": [
    "## Market data\n",
    "\n",
    "The dataset we are going to use relates to the Kaggle competition mentioned above. It contains an anonymized set of features, feature_{0...129}, representing real stock market data features. For example, trading volume and volatility in various time horizons, statistical indicators like Relative Strength Index (RSI), etc.\n",
    "\n",
    "Each row in the dataset represents a trading opportunity, for which the system will be predicting an action value: 1 to make the trade or 0 to pass on it. \n",
    "\n",
    "For each trade, there is an associated `weight` and `resp`. The former, `weight`, is the importance of the trade like for example a ratio of transaction cost or, in other words, the capital invested in the trade.\n",
    "\n",
    "The `resp` represents the return of the trade, and we can have additional returns over specific but not revealed time horizons. But what really matters is `resp`.\n",
    "\n",
    "The data also includes the day of the trade (as a number) and a value `ts_id` representing time ordering. \n",
    "\n",
    "\n",
    "**Column Description**\n",
    "\n",
    "\n",
    "|Column     | Type       | Description |\n",
    "|--------  |---------  |--------- |\n",
    "| **date** | Integer | Day of the trade |\n",
    "| **weight** | Double |The importante of the trade. When 0, it does not contribute for the score of the evaluation of the model, but it is included for the purpose of completeness  |\n",
    "| **resp_1** | Double | Value related to returns over time horizon 1 |\n",
    "| **resp_2** | Double | Value related to returns over time horizon 2 |\n",
    "| **resp_3** | Double | Value related to returns over time horizon 3 |\n",
    "| **resp_4** | Double | Value related to returns over time horizon 4 |\n",
    "| **resp** | Double | Value i.e. returns|\n",
    "| **feature_0** | Double | Value of anonymized feature 0|\n",
    "| ... | ... | Columns with features 1 to 128, |\n",
    "| **feature_129** | Double | Value of anonymized feature 129 |\n",
    "| **ts_id** | Integer | Time ordering |\n",
    "\n",
    "    "
   ]
  },
  {
   "cell_type": "markdown",
   "metadata": {
    "ExecuteTime": {
     "end_time": "2021-03-14T03:05:21.244563Z",
     "start_time": "2021-03-14T03:05:21.241518Z"
    },
    "hidden": true
   },
   "source": [
    "## Useful functions\n",
    "Some functions we may use"
   ]
  },
  {
   "cell_type": "code",
   "execution_count": null,
   "metadata": {
    "ExecuteTime": {
     "end_time": "2021-03-14T17:17:36.142460Z",
     "start_time": "2021-03-14T17:17:36.138810Z"
    },
    "hidden": true
   },
   "outputs": [],
   "source": [
    "def ScatterPlot(df, width, height):\n",
    "    plt.figure(figsize=(width, height))\n",
    "    plt.pcolor(df)\n",
    "    plt.yticks(np.arange(0.5, len(df.index), 1), df.index)\n",
    "    plt.xticks(np.arange(0.5, len(df.columns), 1), df.columns)\n",
    "    plt.show()"
   ]
  },
  {
   "cell_type": "markdown",
   "metadata": {
    "hidden": true
   },
   "source": [
    "## Loading the dataset"
   ]
  },
  {
   "cell_type": "code",
   "execution_count": null,
   "metadata": {
    "ExecuteTime": {
     "end_time": "2021-03-14T17:17:36.369915Z",
     "start_time": "2021-03-14T17:17:36.143863Z"
    },
    "hidden": true
   },
   "outputs": [],
   "source": [
    "! pwd \n",
    "! ls -la\n",
    "# ! head -n 3 JaneStreetMarket.csv\n",
    "# ! tail -n 3 JaneStreetMarket.csv"
   ]
  },
  {
   "cell_type": "code",
   "execution_count": null,
   "metadata": {
    "ExecuteTime": {
     "end_time": "2021-03-14T17:17:36.387366Z",
     "start_time": "2021-03-14T17:17:36.372141Z"
    },
    "hidden": true
   },
   "outputs": [],
   "source": [
    "# some Spark related imports\n",
    "\n",
    "import sys\n",
    "\n",
    "from pyspark.sql import SparkSession\n",
    "from pyspark.sql import Row\n",
    "from pyspark.sql.functions import *\n",
    "from pyspark.sql.types import *"
   ]
  },
  {
   "cell_type": "code",
   "execution_count": null,
   "metadata": {
    "ExecuteTime": {
     "end_time": "2021-03-14T17:18:12.504323Z",
     "start_time": "2021-03-14T17:17:36.388986Z"
    },
    "hidden": true
   },
   "outputs": [],
   "source": [
    "# read the dataset JaneStreetMarket.csv\n",
    "# this time we will be using pyspark.sql.DataFrameReader.csv\n",
    "\n",
    "df = "
   ]
  },
  {
   "cell_type": "markdown",
   "metadata": {
    "hidden": true
   },
   "source": [
    "## Exploratory data analysis\n",
    "\n",
    "Let us get some insight from data"
   ]
  },
  {
   "cell_type": "code",
   "execution_count": null,
   "metadata": {
    "ExecuteTime": {
     "end_time": "2021-03-14T17:18:14.795311Z",
     "start_time": "2021-03-14T17:18:12.506079Z"
    },
    "hidden": true
   },
   "outputs": [],
   "source": [
    "# check the data, both schema and some content\n",
    "\n",
    "\n",
    "cols = \n"
   ]
  },
  {
   "cell_type": "code",
   "execution_count": null,
   "metadata": {
    "ExecuteTime": {
     "end_time": "2021-03-14T17:18:14.799569Z",
     "start_time": "2021-03-14T17:18:14.797334Z"
    },
    "hidden": true
   },
   "outputs": [],
   "source": [
    "# df.show(3)\n"
   ]
  },
  {
   "cell_type": "markdown",
   "metadata": {
    "hidden": true
   },
   "source": [
    "### Data cleasing/preparation"
   ]
  },
  {
   "cell_type": "code",
   "execution_count": null,
   "metadata": {
    "ExecuteTime": {
     "end_time": "2021-03-14T17:18:46.202852Z",
     "start_time": "2021-03-14T17:18:14.802190Z"
    },
    "hidden": true
   },
   "outputs": [],
   "source": [
    "# checking nulls\n",
    "# It seems there are no nulls anyway\n",
    "\n"
   ]
  },
  {
   "cell_type": "code",
   "execution_count": null,
   "metadata": {
    "ExecuteTime": {
     "end_time": "2021-03-14T17:18:46.207089Z",
     "start_time": "2021-03-14T17:18:46.204854Z"
    },
    "hidden": true
   },
   "outputs": [],
   "source": [
    "# columns\n",
    "\n",
    "cols_non_features = [\"date\", \"weight\", \"resp_1\", \"resp_2\", \"resp_3\", \"resp_4\", \"resp\", \"ts_id\"]\n",
    "\n",
    "cols_features = [c for c in cols if c not in cols_non_features]"
   ]
  },
  {
   "cell_type": "code",
   "execution_count": null,
   "metadata": {
    "ExecuteTime": {
     "end_time": "2021-03-14T17:18:46.232477Z",
     "start_time": "2021-03-14T17:18:46.208340Z"
    },
    "hidden": true
   },
   "outputs": [],
   "source": [
    "# wondering if we can reduce the size of the DataFrame, \n",
    "# just for the purpose of working locally with a small dataset\n",
    "\n",
    "\n",
    "\n",
    "# limit the number of rows \n",
    "\n",
    "dfclean = "
   ]
  },
  {
   "cell_type": "code",
   "execution_count": null,
   "metadata": {
    "ExecuteTime": {
     "end_time": "2021-03-14T17:18:46.235430Z",
     "start_time": "2021-03-14T17:18:46.233712Z"
    },
    "hidden": true
   },
   "outputs": [],
   "source": [
    "# As for completing missing numeric values, we can use Inputer \n",
    "# either using the mean or the median of the columns in which the missing \n",
    "# values are located. \n",
    "\n",
    "# See pyspark.ml.feature.Imputer\n",
    "\n",
    "# leave it for now"
   ]
  },
  {
   "cell_type": "markdown",
   "metadata": {
    "ExecuteTime": {
     "end_time": "2021-03-06T21:59:55.649596Z",
     "start_time": "2021-03-06T21:59:55.646188Z"
    },
    "hidden": true
   },
   "source": [
    "### Basic statistics\n",
    "Correlations and summary statistics about the data\n"
   ]
  },
  {
   "cell_type": "code",
   "execution_count": null,
   "metadata": {
    "ExecuteTime": {
     "end_time": "2021-03-14T17:18:54.749187Z",
     "start_time": "2021-03-14T17:18:46.236598Z"
    },
    "hidden": true
   },
   "outputs": [],
   "source": [
    "# use of Correlation from pyspark.ml.stat\n",
    "\n",
    "from pyspark.ml.stat import Correlation\n",
    "from pyspark.ml.feature import VectorAssembler\n",
    "\n",
    "# Correlation requires vectors so prior we convert to vector column\n",
    "\n",
    "vector_col = \"corr_features\"\n",
    "assembler = VectorAssembler(inputCols=cols, outputCol=vector_col)\n",
    "df_vector = assembler.transform(dfclean).select(vector_col)\n",
    "\n",
    "# get correlation matrix\n",
    "\n",
    "matrix = Correlation.corr(df_vector, vector_col).collect()[0][0]\n",
    "corrmatrix = matrix.toArray().tolist()\n",
    "# corrmatrix"
   ]
  },
  {
   "cell_type": "code",
   "execution_count": null,
   "metadata": {
    "ExecuteTime": {
     "end_time": "2021-03-14T17:18:54.761899Z",
     "start_time": "2021-03-14T17:18:54.750494Z"
    },
    "hidden": true
   },
   "outputs": [],
   "source": [
    "# Python DataFrame for visualization\n",
    "\n",
    "df_plot = \n",
    "# df_plot"
   ]
  },
  {
   "cell_type": "code",
   "execution_count": null,
   "metadata": {
    "ExecuteTime": {
     "end_time": "2021-03-14T17:18:57.752933Z",
     "start_time": "2021-03-14T17:18:54.763197Z"
    },
    "hidden": true,
    "scrolled": true
   },
   "outputs": [],
   "source": [
    "# plot and draw conclusions about similarities among features\n",
    "# check around [1..40], [61..70], [71..120], [121...129]\n",
    "\n",
    "ScatterPlot(df_plot, 20, 20)"
   ]
  },
  {
   "cell_type": "code",
   "execution_count": null,
   "metadata": {
    "ExecuteTime": {
     "end_time": "2021-03-14T17:19:00.891931Z",
     "start_time": "2021-03-14T17:18:57.754274Z"
    },
    "hidden": true
   },
   "outputs": [],
   "source": [
    "# summary of basic statistics with describe()\n",
    "\n"
   ]
  },
  {
   "cell_type": "code",
   "execution_count": null,
   "metadata": {
    "ExecuteTime": {
     "end_time": "2021-03-14T17:19:00.965092Z",
     "start_time": "2021-03-14T17:19:00.893417Z"
    },
    "hidden": true
   },
   "outputs": [],
   "source": [
    "# and check average values by day (it seems sensible as, on average, \n",
    "# daily behaviour does not change that much)\n",
    "\n",
    "dfclean_daily = \n"
   ]
  },
  {
   "cell_type": "code",
   "execution_count": null,
   "metadata": {
    "ExecuteTime": {
     "end_time": "2021-03-14T17:19:08.950218Z",
     "start_time": "2021-03-14T17:19:00.966293Z"
    },
    "hidden": true
   },
   "outputs": [],
   "source": [
    "df_plot = "
   ]
  },
  {
   "cell_type": "code",
   "execution_count": null,
   "metadata": {
    "ExecuteTime": {
     "end_time": "2021-03-14T17:19:09.193932Z",
     "start_time": "2021-03-14T17:19:08.951401Z"
    },
    "hidden": true,
    "scrolled": true
   },
   "outputs": [],
   "source": [
    "df_plot.plot(x ='date', y=['avg(weight)'], kind = 'line')\n",
    "df_plot.plot(x ='date', y=['avg(resp)', 'avg(resp_1)', 'avg(resp_2)', 'avg(resp_3)', 'avg(resp_4)'], kind = 'line')\n",
    "\n",
    "plt.show()"
   ]
  },
  {
   "cell_type": "code",
   "execution_count": null,
   "metadata": {
    "ExecuteTime": {
     "end_time": "2021-03-14T17:19:09.198117Z",
     "start_time": "2021-03-14T17:19:09.195823Z"
    },
    "hidden": true
   },
   "outputs": [],
   "source": [
    "# What about some clustering of features?\n",
    "# We leave it for the time being\n"
   ]
  },
  {
   "cell_type": "code",
   "execution_count": null,
   "metadata": {
    "ExecuteTime": {
     "end_time": "2021-03-14T17:19:09.207144Z",
     "start_time": "2021-03-14T17:19:09.199540Z"
    },
    "hidden": true
   },
   "outputs": [],
   "source": [
    "# clear some objects we no longer need\n",
    "\n",
    "del "
   ]
  },
  {
   "attachments": {},
   "cell_type": "markdown",
   "metadata": {
    "ExecuteTime": {
     "end_time": "2021-03-06T12:46:42.492329Z",
     "start_time": "2021-03-06T12:46:42.487767Z"
    },
    "hidden": true
   },
   "source": [
    "## Classification\n",
    "Given the clean dataset, we start to train and test a model that will be used for classification, that is, to decide whether to trade or not. \n",
    "\n",
    "We are going to use a Linear Support Vector Machine algorithm, as presented in http://spark.apache.org/docs/latest/ml-classification-regression.html#linear-support-vector-machine . The picture below highlights the concept supporting the algorithm."
   ]
  },
  {
   "attachments": {
    "image.png": {
     "image/png": "[encoded data removed]"
    }
   },
   "cell_type": "markdown",
   "metadata": {
    "hidden": true
   },
   "source": [
    "![image.png](attachment:image.png)"
   ]
  },
  {
   "cell_type": "code",
   "execution_count": null,
   "metadata": {
    "ExecuteTime": {
     "end_time": "2021-03-14T17:19:09.214461Z",
     "start_time": "2021-03-14T17:19:09.208690Z"
    },
    "hidden": true
   },
   "outputs": [],
   "source": [
    "# some pyspark imports\n",
    "\n",
    "from pyspark.ml import Pipeline\n",
    "from pyspark.ml.classification import LinearSVC"
   ]
  },
  {
   "cell_type": "markdown",
   "metadata": {
    "ExecuteTime": {
     "end_time": "2021-03-14T00:22:24.330628Z",
     "start_time": "2021-03-14T00:22:24.326631Z"
    },
    "hidden": true
   },
   "source": [
    "### Feature and target engineering\n",
    "It is time to decide which columns to use, whether to remove columns or add new derived ones, etc.\n",
    "To do so, we should understand what the business is all about, alongside the characteristics of the data we were given. Previous basic statistics made, and more to do,  would help to figure out patterns of interest. (recall that features are anonymized) Clustering is also an option. \n",
    "\n",
    "In the context of this course, we will make straightforward decisions so leaving a thoroughly business analysis for the experts. But at the end of the day, there is a score to pursuit, as pointed out above:\n",
    "\n",
    "*For each day, to compute the daily score as the sum of the product `weight` x `resp` (see schema below) of the trades the system opt to trade in that day. In that respect, the data to be processed is different from the one being used to create the model.*\n",
    "\n",
    "**Notice**: MLlib provides a set of tools to help tackling this issue of features. (See http://spark.apache.org/docs/latest/ml-features.html) We leave it for another exercise.\n"
   ]
  },
  {
   "cell_type": "code",
   "execution_count": null,
   "metadata": {
    "ExecuteTime": {
     "end_time": "2021-03-14T17:19:10.717811Z",
     "start_time": "2021-03-14T17:19:09.216115Z"
    },
    "hidden": true
   },
   "outputs": [],
   "source": [
    "# columns we will hold: cols, features and targets\n",
    "\n",
    "features = [c for c in cols if 'feature' in c]\n",
    "targets = [\"resp_1\", \"resp_2\", \"resp_3\", \"resp_4\", \"resp\"]\n",
    "\n",
    "# label, the target to predict, to be assumed as \n",
    "# positive if both weight and resp are positive\n",
    "\n",
    "df_preprocessed = \n",
    "\n",
    "# [features, targets]"
   ]
  },
  {
   "cell_type": "markdown",
   "metadata": {
    "hidden": true
   },
   "source": [
    "### Training/testing data split"
   ]
  },
  {
   "cell_type": "code",
   "execution_count": null,
   "metadata": {
    "ExecuteTime": {
     "end_time": "2021-03-14T17:19:25.448548Z",
     "start_time": "2021-03-14T17:19:10.722152Z"
    },
    "hidden": true
   },
   "outputs": [],
   "source": [
    "dftrain, dftest = df_preprocessed.randomSplit([0.8, 0.2], 42)\n",
    "\n",
    "# caching data ... but just the train\n",
    "dftrain.cache()\n",
    "\n",
    "# print the number of rows in each part\n",
    "\n"
   ]
  },
  {
   "cell_type": "code",
   "execution_count": null,
   "metadata": {
    "ExecuteTime": {
     "end_time": "2021-03-14T17:19:25.452338Z",
     "start_time": "2021-03-14T17:19:25.450374Z"
    },
    "hidden": true
   },
   "outputs": [],
   "source": [
    "# recalling the schema of training data\n",
    "\n"
   ]
  },
  {
   "cell_type": "code",
   "execution_count": null,
   "metadata": {
    "ExecuteTime": {
     "end_time": "2021-03-14T17:19:25.522610Z",
     "start_time": "2021-03-14T17:19:25.453667Z"
    },
    "hidden": true
   },
   "outputs": [],
   "source": [
    "# feature engineering\n",
    "\n",
    "# we have to put all input features into a single vector, \n",
    "# by using a transformer\n",
    "\n",
    "vec_assembler = VectorAssembler(inputCols=features, outputCol=\"features\")\n",
    "vec_dftrain = vec_assembler.transform(dftrain)\n"
   ]
  },
  {
   "cell_type": "markdown",
   "metadata": {
    "hidden": true
   },
   "source": [
    "## Model setting\n",
    "Use of the Linear SVM algorithm to learn from the training dataset"
   ]
  },
  {
   "cell_type": "code",
   "execution_count": null,
   "metadata": {
    "ExecuteTime": {
     "end_time": "2021-03-14T17:19:27.479975Z",
     "start_time": "2021-03-14T17:19:25.523831Z"
    },
    "hidden": true
   },
   "outputs": [],
   "source": [
    "# the SVC algorithm \n",
    "\n",
    "# defaults: featuresCol='features', labelCol='label', predictionCol='prediction'\n",
    "lsvc = LinearSVC(maxIter=10, regParam=0.1)\n",
    "\n",
    "# fit the model\n",
    "\n",
    "lsvc_model = lsvc.fit(vec_dftrain)\n",
    "\n",
    "# print the coefficients and intercept for the linear SVC\n"
   ]
  },
  {
   "cell_type": "markdown",
   "metadata": {
    "hidden": true
   },
   "source": [
    "### ML pipeline configuration"
   ]
  },
  {
   "cell_type": "code",
   "execution_count": null,
   "metadata": {
    "ExecuteTime": {
     "end_time": "2021-03-14T17:19:27.483968Z",
     "start_time": "2021-03-14T17:19:27.481449Z"
    },
    "hidden": true
   },
   "outputs": [],
   "source": [
    "# pipeline holding two stages: vec_assembler and lsvc_model\n",
    "      \n",
    "pipeline = "
   ]
  },
  {
   "cell_type": "markdown",
   "metadata": {
    "hidden": true
   },
   "source": [
    "### Fitting the pipeline to training data"
   ]
  },
  {
   "cell_type": "code",
   "execution_count": null,
   "metadata": {
    "ExecuteTime": {
     "end_time": "2021-03-14T17:19:27.506205Z",
     "start_time": "2021-03-14T17:19:27.485452Z"
    },
    "hidden": true
   },
   "outputs": [],
   "source": [
    "# get the pipeline model (as transformer) \n",
    "# by fitting the pipline to training data\n",
    "\n",
    "pipeline_model = "
   ]
  },
  {
   "cell_type": "markdown",
   "metadata": {
    "hidden": true
   },
   "source": [
    "### Predictions on testing data"
   ]
  },
  {
   "cell_type": "code",
   "execution_count": null,
   "metadata": {
    "ExecuteTime": {
     "end_time": "2021-03-14T17:19:34.479190Z",
     "start_time": "2021-03-14T17:19:27.507426Z"
    },
    "hidden": true
   },
   "outputs": [],
   "source": [
    "# make predictions on testing data and show values of columns of interest\n",
    "\n",
    "df_prediction = \n",
    "\n",
    "# check its schema\n",
    "\n",
    "# show columns of interest\n"
   ]
  },
  {
   "cell_type": "markdown",
   "metadata": {
    "hidden": true
   },
   "source": [
    "### Model evaluation\n",
    "\n",
    "How right is supposed to be the model? Let us figure out based on the **confusion matrix** below"
   ]
  },
  {
   "cell_type": "markdown",
   "metadata": {
    "ExecuteTime": {
     "end_time": "2021-03-06T18:16:43.671525Z",
     "start_time": "2021-03-06T18:16:43.664390Z"
    },
    "hidden": true
   },
   "source": [
    "<img src=\"confusion_matrix.png\" width=\"350px\"/>\n",
    "\n",
    "Recalling:\n",
    "* True Positive: the prediction was positive and it is true. (Great, we trade and score)\n",
    "* True Negative: the prediction was negative and it is true. (Fine, we do not trade and so avoiding to lose)\n",
    "* False Positive: the prediction was positive and it is false. (Terrible, we trade and lose)\n",
    "* False Negative: the prediction was negative and it is false. (Not so good, we do not trade and therefore missing to score)"
   ]
  },
  {
   "cell_type": "markdown",
   "metadata": {
    "ExecuteTime": {
     "end_time": "2021-03-14T03:28:38.610672Z",
     "start_time": "2021-03-14T03:28:38.603615Z"
    },
    "hidden": true
   },
   "source": [
    "**TP, TN, FP and FN computations**"
   ]
  },
  {
   "cell_type": "code",
   "execution_count": null,
   "metadata": {
    "ExecuteTime": {
     "end_time": "2021-03-14T17:20:08.015944Z",
     "start_time": "2021-03-14T17:19:34.480777Z"
    },
    "hidden": true
   },
   "outputs": [],
   "source": [
    "# get dataframes just containing positive TP, TN, FP and FN respectively\n",
    "\n",
    "df_tp = df_prediction.withColumn(\"TP\", expr(\"prediction > 0\") & expr(\"label == prediction\")).filter(\"TP == true\")\n",
    "df_tn = \n",
    "df_fp = \n",
    "df_fn = \n",
    "\n",
    "# counting rows for each case \n",
    "\n",
    "tp = \n",
    "tn = \n",
    "fp = \n",
    "fn = \n",
    "\n",
    "# print out the counting\n"
   ]
  },
  {
   "cell_type": "code",
   "execution_count": null,
   "metadata": {
    "ExecuteTime": {
     "end_time": "2021-03-14T17:20:08.019329Z",
     "start_time": "2021-03-14T17:20:08.017310Z"
    },
    "hidden": true
   },
   "outputs": [],
   "source": [
    "# just to check if we got it right\n",
    "\n",
    "# df_tp.show()\n",
    "# df_tn.show()\n",
    "# df_fp.show()\n",
    "# df_fn.show()\n"
   ]
  },
  {
   "cell_type": "markdown",
   "metadata": {
    "hidden": true
   },
   "source": [
    "**Accuracy = (TP + TN) / (TP + TN + FP + FN)**\n",
    "\n",
    "How often the classifier is correct"
   ]
  },
  {
   "cell_type": "code",
   "execution_count": null,
   "metadata": {
    "ExecuteTime": {
     "end_time": "2021-03-14T17:20:08.029223Z",
     "start_time": "2021-03-14T17:20:08.020974Z"
    },
    "hidden": true
   },
   "outputs": [],
   "source": [
    "accuracy = (tp + tn) / (tp + tn + fp + fn)"
   ]
  },
  {
   "cell_type": "markdown",
   "metadata": {
    "hidden": true
   },
   "source": [
    "**Precision = TP / (TP + FP)** \n",
    "\n",
    "Positive predictive value"
   ]
  },
  {
   "cell_type": "code",
   "execution_count": null,
   "metadata": {
    "ExecuteTime": {
     "end_time": "2021-03-14T17:20:08.037030Z",
     "start_time": "2021-03-14T17:20:08.030330Z"
    },
    "hidden": true
   },
   "outputs": [],
   "source": [
    "precision = tp / (tp + fp)"
   ]
  },
  {
   "cell_type": "markdown",
   "metadata": {
    "hidden": true
   },
   "source": [
    "**Recall = TP / (TP + FN)**\n",
    "\n",
    "True positive rate (hit rate)"
   ]
  },
  {
   "cell_type": "code",
   "execution_count": null,
   "metadata": {
    "ExecuteTime": {
     "end_time": "2021-03-14T17:20:08.044545Z",
     "start_time": "2021-03-14T17:20:08.038383Z"
    },
    "hidden": true
   },
   "outputs": [],
   "source": [
    "recall = tp / (tp + fn)"
   ]
  },
  {
   "cell_type": "markdown",
   "metadata": {
    "hidden": true
   },
   "source": [
    "**F-measure = 2 x Recall x Precision / (Recall + Precision)**\n",
    "\n",
    "Useful metric because it is difficult to compare two models with low precision and high recall or vice versa. Indeed, it helps to measure Recall and Precision at the same time"
   ]
  },
  {
   "cell_type": "code",
   "execution_count": null,
   "metadata": {
    "ExecuteTime": {
     "end_time": "2021-03-14T17:20:08.051711Z",
     "start_time": "2021-03-14T17:20:08.046220Z"
    },
    "hidden": true
   },
   "outputs": [],
   "source": [
    "fmeasure = 2 * recall * precision / (recall + precision)"
   ]
  },
  {
   "cell_type": "code",
   "execution_count": null,
   "metadata": {
    "ExecuteTime": {
     "end_time": "2021-03-14T17:20:08.059944Z",
     "start_time": "2021-03-14T17:20:08.052938Z"
    },
    "hidden": true
   },
   "outputs": [],
   "source": [
    "# Confusion matrix outcome\n",
    "\n",
    "print(\"TP = {}, TN = {}, FP = {}, FN = {}, Total = {}\".format(tp, tn, fp, fn, tp+tn+fp+fn))\n",
    "print(\"Accuracy = {}\".format(accuracy))\n",
    "print(\"Precison = {}\".format(precision))\n",
    "print(\"Recall = {}\".format(recall))\n",
    "print(\"F-measure = {}\".format(fmeasure))"
   ]
  },
  {
   "cell_type": "markdown",
   "metadata": {
    "hidden": true
   },
   "source": [
    "### Saving the model for further use if needed"
   ]
  },
  {
   "cell_type": "code",
   "execution_count": null,
   "metadata": {
    "ExecuteTime": {
     "end_time": "2021-03-14T17:20:08.068588Z",
     "start_time": "2021-03-14T17:20:08.061202Z"
    },
    "hidden": true
   },
   "outputs": [],
   "source": [
    "svm_path = \"modelSVM\"\n",
    "\n",
    "# lsvc_model.save(svm_path)\n",
    "\n",
    "# later one, we can load it via LinearSVC.load(svm_path)\n"
   ]
  },
  {
   "cell_type": "code",
   "execution_count": null,
   "metadata": {
    "ExecuteTime": {
     "end_time": "2021-03-14T17:20:08.187502Z",
     "start_time": "2021-03-14T17:20:08.069809Z"
    },
    "hidden": true
   },
   "outputs": [],
   "source": [
    "! ls -la"
   ]
  },
  {
   "cell_type": "markdown",
   "metadata": {
    "hidden": true
   },
   "source": [
    "## The daily score\n",
    "\n",
    "Back to business"
   ]
  },
  {
   "cell_type": "code",
   "execution_count": null,
   "metadata": {
    "ExecuteTime": {
     "end_time": "2021-03-14T17:20:28.714163Z",
     "start_time": "2021-03-14T17:20:08.191414Z"
    },
    "hidden": true
   },
   "outputs": [],
   "source": [
    "# compute the daily score \n",
    "# based on the trades made in that day, as  weight x resp\n",
    "\n",
    "df_score = \n",
    "\n",
    "df_daily_score = \n",
    "\n",
    "trading_days = \n",
    "\n",
    "acumulative_score = \n",
    "\n",
    "df_daily_score.show()\n",
    "\n",
    "print(\"For the {} trading days, the accumulative score is {}\".format(trading_days, \n",
    "                                                            acumulative_score))"
   ]
  },
  {
   "cell_type": "code",
   "execution_count": null,
   "metadata": {
    "ExecuteTime": {
     "end_time": "2021-03-14T17:20:48.438028Z",
     "start_time": "2021-03-14T17:20:28.715898Z"
    },
    "hidden": true
   },
   "outputs": [],
   "source": [
    "# just for checking \n",
    "\n",
    "# compute the daily score equally as weight x resp \n",
    "# but based on trades set by the initial label \n",
    "\n",
    "df_score_ini = \n",
    "\n",
    "df_daily_score_ini = \n",
    "\n",
    "trading_days_ini = \n",
    "\n",
    "acumulative_score_ini = \n",
    "\n",
    "df_daily_score_ini.show()\n",
    "\n",
    "print(\"For the {} trading days, the accumulative score is {}\".format(trading_days_ini, \n",
    "                                                            acumulative_score_ini))"
   ]
  },
  {
   "cell_type": "markdown",
   "metadata": {
    "hidden": true
   },
   "source": [
    "**To think about**:\n",
    "\n",
    "- How can we interpret the two scores above? \n",
    "    - check with the prediction DataFrame for the columns involved, as well as the confusion matrix\n",
    "- Could a model with different feature and/or target engineering would do better?\n",
    "- And when to be applied to real time data?"
   ]
  },
  {
   "cell_type": "markdown",
   "metadata": {
    "heading_collapsed": true
   },
   "source": [
    "# Additional exercise\n",
    "\n",
    "Once the previous exercise has been completed, create a new notebook with similar implementations but using the following classifiers instead:\n",
    "1. Logistic Regression\n",
    "2. Decision Tree\n",
    "    \n",
    "Also, we suggest you to try improving the process of feature/target engineering. \n",
    "\n",
    "See related information in:\n",
    "\n",
    "http://spark.apache.org/docs/latest/ml-classification-regression.html#logistic-regression\n",
    "\n",
    "http://spark.apache.org/docs/latest/ml-classification-regression.html#decision-tree-classifier\n",
    "\n"
   ]
  },
  {
   "cell_type": "markdown",
   "metadata": {
    "heading_collapsed": true
   },
   "source": [
    "# References"
   ]
  },
  {
   "cell_type": "markdown",
   "metadata": {
    "hidden": true
   },
   "source": [
    "* Learning Spark - Lightning-Fast Data Analytics, 2nd Ed. J. Damji, B. Wenig, T. Das, and D. Lee. O'Reilly, 2020\n",
    "* Spark: The Definitive Guide - Big Data Processing Made Simple, 1st Ed. B. Chambers and M. Zaharia. O'Reilly, 2018\n",
    "* http://spark.apache.org/docs/latest/ml-guide.html\n",
    "* https://docs.python.org/3/\n",
    "* https://www.kaggle.com/c/jane-street-market-prediction\n"
   ]
  },
  {
   "cell_type": "code",
   "execution_count": null,
   "metadata": {
    "hidden": true
   },
   "outputs": [],
   "source": []
  }
 ],
 "metadata": {
  "kernelspec": {
   "display_name": "PySpark",
   "language": "python",
   "name": "pyspark"
  },
  "language_info": {
   "codemirror_mode": {
    "name": "ipython",
    "version": 3
   },
   "file_extension": ".py",
   "mimetype": "text/x-python",
   "name": "python",
   "nbconvert_exporter": "python",
   "pygments_lexer": "ipython3",
   "version": "3.6.9"
  },
  "toc": {
   "base_numbering": 1,
   "nav_menu": {
    "height": "249px",
    "width": "332px"
   },
   "number_sections": true,
   "sideBar": true,
   "skip_h1_title": false,
   "title_cell": "Table of Contents",
   "title_sidebar": "Contents",
   "toc_cell": false,
   "toc_position": {
    "height": "calc(100% - 180px)",
    "left": "10px",
    "top": "150px",
    "width": "204.98px"
   },
   "toc_section_display": true,
   "toc_window_display": false
  }
 },
 "nbformat": 4,
 "nbformat_minor": 2
}
